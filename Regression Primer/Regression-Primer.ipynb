{
 "cells": [
  {
   "cell_type": "markdown",
   "metadata": {},
   "source": [
    "\n",
    "What is the content, could you read it? do you understand collumns?\n",
    "Explore the data for housing\n",
    "  --> make scatter plot of selected features\n",
    "  --> create simple regression model of sqft_living to price\n",
    "  --> evaluate a simple model\n",
    "  --> is linear function good enough? try quadratic polynomial\n",
    "Split your data into training sample and test sample\n",
    "  --> what is trainign error and testing error of your model?\n",
    "  --> predict the house price for a given sqft_living\n",
    "  --> predict the sqft_living for a given price of the house\n",
    "  --> add more feaures\n",
    "  --> is the model better now?\n",
    "  --> maybe using range of data would work better?\n",
    "  --> predict house price for a house id = 5309101299\n",
    "what is this house like?\n",
    "  --> predict house price for a house id = 1925069082\n",
    "Explore more those data!!!  "
   ]
  },
  {
   "cell_type": "code",
   "execution_count": 3,
   "metadata": {
    "collapsed": false
   },
   "outputs": [],
   "source": [
    "import graphlab\n",
    "import matplotlib.pyplot as plt\n",
    "%matplotlib inline"
   ]
  },
  {
   "cell_type": "code",
   "execution_count": 4,
   "metadata": {
    "collapsed": false
   },
   "outputs": [
    {
     "data": {
      "text/html": [
       "<pre>Finished parsing file /Users/mnawojow/Downloads/kc_house_data.csv</pre>"
      ],
      "text/plain": [
       "Finished parsing file /Users/mnawojow/Downloads/kc_house_data.csv"
      ]
     },
     "metadata": {},
     "output_type": "display_data"
    },
    {
     "data": {
      "text/html": [
       "<pre>Parsing completed. Parsed 100 lines in 0.090859 secs.</pre>"
      ],
      "text/plain": [
       "Parsing completed. Parsed 100 lines in 0.090859 secs."
      ]
     },
     "metadata": {},
     "output_type": "display_data"
    },
    {
     "name": "stdout",
     "output_type": "stream",
     "text": [
      "------------------------------------------------------\n",
      "Inferred types from first 100 line(s) of file as \n",
      "column_type_hints=[int,str,float,int,float,int,int,float,int,int,int,int,int,int,int,int,int,float,float,int,int]\n",
      "If parsing fails due to incorrect types, you can correct\n",
      "the inferred type list above and pass it to read_csv in\n",
      "the column_type_hints argument\n",
      "------------------------------------------------------\n"
     ]
    },
    {
     "data": {
      "text/html": [
       "<pre>Finished parsing file /Users/mnawojow/Downloads/kc_house_data.csv</pre>"
      ],
      "text/plain": [
       "Finished parsing file /Users/mnawojow/Downloads/kc_house_data.csv"
      ]
     },
     "metadata": {},
     "output_type": "display_data"
    },
    {
     "data": {
      "text/html": [
       "<pre>Parsing completed. Parsed 21613 lines in 0.067223 secs.</pre>"
      ],
      "text/plain": [
       "Parsing completed. Parsed 21613 lines in 0.067223 secs."
      ]
     },
     "metadata": {},
     "output_type": "display_data"
    }
   ],
   "source": [
    "all_data_frame = graphlab.SFrame('kc_house_data.csv')\n"
   ]
  },
  {
   "cell_type": "code",
   "execution_count": 5,
   "metadata": {
    "collapsed": false
   },
   "outputs": [
    {
     "data": {
      "text/html": [
       "<div style=\"max-height:1000px;max-width:1500px;overflow:auto;\"><table frame=\"box\" rules=\"cols\">\n",
       "    <tr>\n",
       "        <th style=\"padding-left: 1em; padding-right: 1em; text-align: center\">id</th>\n",
       "        <th style=\"padding-left: 1em; padding-right: 1em; text-align: center\">date</th>\n",
       "        <th style=\"padding-left: 1em; padding-right: 1em; text-align: center\">price</th>\n",
       "        <th style=\"padding-left: 1em; padding-right: 1em; text-align: center\">bedrooms</th>\n",
       "        <th style=\"padding-left: 1em; padding-right: 1em; text-align: center\">bathrooms</th>\n",
       "        <th style=\"padding-left: 1em; padding-right: 1em; text-align: center\">sqft_living</th>\n",
       "        <th style=\"padding-left: 1em; padding-right: 1em; text-align: center\">sqft_lot</th>\n",
       "        <th style=\"padding-left: 1em; padding-right: 1em; text-align: center\">floors</th>\n",
       "        <th style=\"padding-left: 1em; padding-right: 1em; text-align: center\">waterfront</th>\n",
       "        <th style=\"padding-left: 1em; padding-right: 1em; text-align: center\">view</th>\n",
       "    </tr>\n",
       "    <tr>\n",
       "        <td style=\"padding-left: 1em; padding-right: 1em; text-align: center; vertical-align: top\">7129300520</td>\n",
       "        <td style=\"padding-left: 1em; padding-right: 1em; text-align: center; vertical-align: top\">20141013T000000</td>\n",
       "        <td style=\"padding-left: 1em; padding-right: 1em; text-align: center; vertical-align: top\">221900.0</td>\n",
       "        <td style=\"padding-left: 1em; padding-right: 1em; text-align: center; vertical-align: top\">3</td>\n",
       "        <td style=\"padding-left: 1em; padding-right: 1em; text-align: center; vertical-align: top\">1.0</td>\n",
       "        <td style=\"padding-left: 1em; padding-right: 1em; text-align: center; vertical-align: top\">1180</td>\n",
       "        <td style=\"padding-left: 1em; padding-right: 1em; text-align: center; vertical-align: top\">5650</td>\n",
       "        <td style=\"padding-left: 1em; padding-right: 1em; text-align: center; vertical-align: top\">1.0</td>\n",
       "        <td style=\"padding-left: 1em; padding-right: 1em; text-align: center; vertical-align: top\">0</td>\n",
       "        <td style=\"padding-left: 1em; padding-right: 1em; text-align: center; vertical-align: top\">0</td>\n",
       "    </tr>\n",
       "    <tr>\n",
       "        <td style=\"padding-left: 1em; padding-right: 1em; text-align: center; vertical-align: top\">6414100192</td>\n",
       "        <td style=\"padding-left: 1em; padding-right: 1em; text-align: center; vertical-align: top\">20141209T000000</td>\n",
       "        <td style=\"padding-left: 1em; padding-right: 1em; text-align: center; vertical-align: top\">538000.0</td>\n",
       "        <td style=\"padding-left: 1em; padding-right: 1em; text-align: center; vertical-align: top\">3</td>\n",
       "        <td style=\"padding-left: 1em; padding-right: 1em; text-align: center; vertical-align: top\">2.25</td>\n",
       "        <td style=\"padding-left: 1em; padding-right: 1em; text-align: center; vertical-align: top\">2570</td>\n",
       "        <td style=\"padding-left: 1em; padding-right: 1em; text-align: center; vertical-align: top\">7242</td>\n",
       "        <td style=\"padding-left: 1em; padding-right: 1em; text-align: center; vertical-align: top\">2.0</td>\n",
       "        <td style=\"padding-left: 1em; padding-right: 1em; text-align: center; vertical-align: top\">0</td>\n",
       "        <td style=\"padding-left: 1em; padding-right: 1em; text-align: center; vertical-align: top\">0</td>\n",
       "    </tr>\n",
       "    <tr>\n",
       "        <td style=\"padding-left: 1em; padding-right: 1em; text-align: center; vertical-align: top\">5631500400</td>\n",
       "        <td style=\"padding-left: 1em; padding-right: 1em; text-align: center; vertical-align: top\">20150225T000000</td>\n",
       "        <td style=\"padding-left: 1em; padding-right: 1em; text-align: center; vertical-align: top\">180000.0</td>\n",
       "        <td style=\"padding-left: 1em; padding-right: 1em; text-align: center; vertical-align: top\">2</td>\n",
       "        <td style=\"padding-left: 1em; padding-right: 1em; text-align: center; vertical-align: top\">1.0</td>\n",
       "        <td style=\"padding-left: 1em; padding-right: 1em; text-align: center; vertical-align: top\">770</td>\n",
       "        <td style=\"padding-left: 1em; padding-right: 1em; text-align: center; vertical-align: top\">10000</td>\n",
       "        <td style=\"padding-left: 1em; padding-right: 1em; text-align: center; vertical-align: top\">1.0</td>\n",
       "        <td style=\"padding-left: 1em; padding-right: 1em; text-align: center; vertical-align: top\">0</td>\n",
       "        <td style=\"padding-left: 1em; padding-right: 1em; text-align: center; vertical-align: top\">0</td>\n",
       "    </tr>\n",
       "    <tr>\n",
       "        <td style=\"padding-left: 1em; padding-right: 1em; text-align: center; vertical-align: top\">2487200875</td>\n",
       "        <td style=\"padding-left: 1em; padding-right: 1em; text-align: center; vertical-align: top\">20141209T000000</td>\n",
       "        <td style=\"padding-left: 1em; padding-right: 1em; text-align: center; vertical-align: top\">604000.0</td>\n",
       "        <td style=\"padding-left: 1em; padding-right: 1em; text-align: center; vertical-align: top\">4</td>\n",
       "        <td style=\"padding-left: 1em; padding-right: 1em; text-align: center; vertical-align: top\">3.0</td>\n",
       "        <td style=\"padding-left: 1em; padding-right: 1em; text-align: center; vertical-align: top\">1960</td>\n",
       "        <td style=\"padding-left: 1em; padding-right: 1em; text-align: center; vertical-align: top\">5000</td>\n",
       "        <td style=\"padding-left: 1em; padding-right: 1em; text-align: center; vertical-align: top\">1.0</td>\n",
       "        <td style=\"padding-left: 1em; padding-right: 1em; text-align: center; vertical-align: top\">0</td>\n",
       "        <td style=\"padding-left: 1em; padding-right: 1em; text-align: center; vertical-align: top\">0</td>\n",
       "    </tr>\n",
       "    <tr>\n",
       "        <td style=\"padding-left: 1em; padding-right: 1em; text-align: center; vertical-align: top\">1954400510</td>\n",
       "        <td style=\"padding-left: 1em; padding-right: 1em; text-align: center; vertical-align: top\">20150218T000000</td>\n",
       "        <td style=\"padding-left: 1em; padding-right: 1em; text-align: center; vertical-align: top\">510000.0</td>\n",
       "        <td style=\"padding-left: 1em; padding-right: 1em; text-align: center; vertical-align: top\">3</td>\n",
       "        <td style=\"padding-left: 1em; padding-right: 1em; text-align: center; vertical-align: top\">2.0</td>\n",
       "        <td style=\"padding-left: 1em; padding-right: 1em; text-align: center; vertical-align: top\">1680</td>\n",
       "        <td style=\"padding-left: 1em; padding-right: 1em; text-align: center; vertical-align: top\">8080</td>\n",
       "        <td style=\"padding-left: 1em; padding-right: 1em; text-align: center; vertical-align: top\">1.0</td>\n",
       "        <td style=\"padding-left: 1em; padding-right: 1em; text-align: center; vertical-align: top\">0</td>\n",
       "        <td style=\"padding-left: 1em; padding-right: 1em; text-align: center; vertical-align: top\">0</td>\n",
       "    </tr>\n",
       "    <tr>\n",
       "        <td style=\"padding-left: 1em; padding-right: 1em; text-align: center; vertical-align: top\">7237550310</td>\n",
       "        <td style=\"padding-left: 1em; padding-right: 1em; text-align: center; vertical-align: top\">20140512T000000</td>\n",
       "        <td style=\"padding-left: 1em; padding-right: 1em; text-align: center; vertical-align: top\">1225000.0</td>\n",
       "        <td style=\"padding-left: 1em; padding-right: 1em; text-align: center; vertical-align: top\">4</td>\n",
       "        <td style=\"padding-left: 1em; padding-right: 1em; text-align: center; vertical-align: top\">4.5</td>\n",
       "        <td style=\"padding-left: 1em; padding-right: 1em; text-align: center; vertical-align: top\">5420</td>\n",
       "        <td style=\"padding-left: 1em; padding-right: 1em; text-align: center; vertical-align: top\">101930</td>\n",
       "        <td style=\"padding-left: 1em; padding-right: 1em; text-align: center; vertical-align: top\">1.0</td>\n",
       "        <td style=\"padding-left: 1em; padding-right: 1em; text-align: center; vertical-align: top\">0</td>\n",
       "        <td style=\"padding-left: 1em; padding-right: 1em; text-align: center; vertical-align: top\">0</td>\n",
       "    </tr>\n",
       "    <tr>\n",
       "        <td style=\"padding-left: 1em; padding-right: 1em; text-align: center; vertical-align: top\">1321400060</td>\n",
       "        <td style=\"padding-left: 1em; padding-right: 1em; text-align: center; vertical-align: top\">20140627T000000</td>\n",
       "        <td style=\"padding-left: 1em; padding-right: 1em; text-align: center; vertical-align: top\">257500.0</td>\n",
       "        <td style=\"padding-left: 1em; padding-right: 1em; text-align: center; vertical-align: top\">3</td>\n",
       "        <td style=\"padding-left: 1em; padding-right: 1em; text-align: center; vertical-align: top\">2.25</td>\n",
       "        <td style=\"padding-left: 1em; padding-right: 1em; text-align: center; vertical-align: top\">1715</td>\n",
       "        <td style=\"padding-left: 1em; padding-right: 1em; text-align: center; vertical-align: top\">6819</td>\n",
       "        <td style=\"padding-left: 1em; padding-right: 1em; text-align: center; vertical-align: top\">2.0</td>\n",
       "        <td style=\"padding-left: 1em; padding-right: 1em; text-align: center; vertical-align: top\">0</td>\n",
       "        <td style=\"padding-left: 1em; padding-right: 1em; text-align: center; vertical-align: top\">0</td>\n",
       "    </tr>\n",
       "    <tr>\n",
       "        <td style=\"padding-left: 1em; padding-right: 1em; text-align: center; vertical-align: top\">2008000270</td>\n",
       "        <td style=\"padding-left: 1em; padding-right: 1em; text-align: center; vertical-align: top\">20150115T000000</td>\n",
       "        <td style=\"padding-left: 1em; padding-right: 1em; text-align: center; vertical-align: top\">291850.0</td>\n",
       "        <td style=\"padding-left: 1em; padding-right: 1em; text-align: center; vertical-align: top\">3</td>\n",
       "        <td style=\"padding-left: 1em; padding-right: 1em; text-align: center; vertical-align: top\">1.5</td>\n",
       "        <td style=\"padding-left: 1em; padding-right: 1em; text-align: center; vertical-align: top\">1060</td>\n",
       "        <td style=\"padding-left: 1em; padding-right: 1em; text-align: center; vertical-align: top\">9711</td>\n",
       "        <td style=\"padding-left: 1em; padding-right: 1em; text-align: center; vertical-align: top\">1.0</td>\n",
       "        <td style=\"padding-left: 1em; padding-right: 1em; text-align: center; vertical-align: top\">0</td>\n",
       "        <td style=\"padding-left: 1em; padding-right: 1em; text-align: center; vertical-align: top\">0</td>\n",
       "    </tr>\n",
       "    <tr>\n",
       "        <td style=\"padding-left: 1em; padding-right: 1em; text-align: center; vertical-align: top\">2414600126</td>\n",
       "        <td style=\"padding-left: 1em; padding-right: 1em; text-align: center; vertical-align: top\">20150415T000000</td>\n",
       "        <td style=\"padding-left: 1em; padding-right: 1em; text-align: center; vertical-align: top\">229500.0</td>\n",
       "        <td style=\"padding-left: 1em; padding-right: 1em; text-align: center; vertical-align: top\">3</td>\n",
       "        <td style=\"padding-left: 1em; padding-right: 1em; text-align: center; vertical-align: top\">1.0</td>\n",
       "        <td style=\"padding-left: 1em; padding-right: 1em; text-align: center; vertical-align: top\">1780</td>\n",
       "        <td style=\"padding-left: 1em; padding-right: 1em; text-align: center; vertical-align: top\">7470</td>\n",
       "        <td style=\"padding-left: 1em; padding-right: 1em; text-align: center; vertical-align: top\">1.0</td>\n",
       "        <td style=\"padding-left: 1em; padding-right: 1em; text-align: center; vertical-align: top\">0</td>\n",
       "        <td style=\"padding-left: 1em; padding-right: 1em; text-align: center; vertical-align: top\">0</td>\n",
       "    </tr>\n",
       "    <tr>\n",
       "        <td style=\"padding-left: 1em; padding-right: 1em; text-align: center; vertical-align: top\">3793500160</td>\n",
       "        <td style=\"padding-left: 1em; padding-right: 1em; text-align: center; vertical-align: top\">20150312T000000</td>\n",
       "        <td style=\"padding-left: 1em; padding-right: 1em; text-align: center; vertical-align: top\">323000.0</td>\n",
       "        <td style=\"padding-left: 1em; padding-right: 1em; text-align: center; vertical-align: top\">3</td>\n",
       "        <td style=\"padding-left: 1em; padding-right: 1em; text-align: center; vertical-align: top\">2.5</td>\n",
       "        <td style=\"padding-left: 1em; padding-right: 1em; text-align: center; vertical-align: top\">1890</td>\n",
       "        <td style=\"padding-left: 1em; padding-right: 1em; text-align: center; vertical-align: top\">6560</td>\n",
       "        <td style=\"padding-left: 1em; padding-right: 1em; text-align: center; vertical-align: top\">2.0</td>\n",
       "        <td style=\"padding-left: 1em; padding-right: 1em; text-align: center; vertical-align: top\">0</td>\n",
       "        <td style=\"padding-left: 1em; padding-right: 1em; text-align: center; vertical-align: top\">0</td>\n",
       "    </tr>\n",
       "</table>\n",
       "<table frame=\"box\" rules=\"cols\">\n",
       "    <tr>\n",
       "        <th style=\"padding-left: 1em; padding-right: 1em; text-align: center\">condition</th>\n",
       "        <th style=\"padding-left: 1em; padding-right: 1em; text-align: center\">grade</th>\n",
       "        <th style=\"padding-left: 1em; padding-right: 1em; text-align: center\">sqft_above</th>\n",
       "        <th style=\"padding-left: 1em; padding-right: 1em; text-align: center\">sqft_basement</th>\n",
       "        <th style=\"padding-left: 1em; padding-right: 1em; text-align: center\">yr_built</th>\n",
       "        <th style=\"padding-left: 1em; padding-right: 1em; text-align: center\">yr_renovated</th>\n",
       "        <th style=\"padding-left: 1em; padding-right: 1em; text-align: center\">zipcode</th>\n",
       "        <th style=\"padding-left: 1em; padding-right: 1em; text-align: center\">lat</th>\n",
       "        <th style=\"padding-left: 1em; padding-right: 1em; text-align: center\">long</th>\n",
       "        <th style=\"padding-left: 1em; padding-right: 1em; text-align: center\">sqft_living15</th>\n",
       "    </tr>\n",
       "    <tr>\n",
       "        <td style=\"padding-left: 1em; padding-right: 1em; text-align: center; vertical-align: top\">3</td>\n",
       "        <td style=\"padding-left: 1em; padding-right: 1em; text-align: center; vertical-align: top\">7</td>\n",
       "        <td style=\"padding-left: 1em; padding-right: 1em; text-align: center; vertical-align: top\">1180</td>\n",
       "        <td style=\"padding-left: 1em; padding-right: 1em; text-align: center; vertical-align: top\">0</td>\n",
       "        <td style=\"padding-left: 1em; padding-right: 1em; text-align: center; vertical-align: top\">1955</td>\n",
       "        <td style=\"padding-left: 1em; padding-right: 1em; text-align: center; vertical-align: top\">0</td>\n",
       "        <td style=\"padding-left: 1em; padding-right: 1em; text-align: center; vertical-align: top\">98178</td>\n",
       "        <td style=\"padding-left: 1em; padding-right: 1em; text-align: center; vertical-align: top\">47.5112</td>\n",
       "        <td style=\"padding-left: 1em; padding-right: 1em; text-align: center; vertical-align: top\">-122.257</td>\n",
       "        <td style=\"padding-left: 1em; padding-right: 1em; text-align: center; vertical-align: top\">1340</td>\n",
       "    </tr>\n",
       "    <tr>\n",
       "        <td style=\"padding-left: 1em; padding-right: 1em; text-align: center; vertical-align: top\">3</td>\n",
       "        <td style=\"padding-left: 1em; padding-right: 1em; text-align: center; vertical-align: top\">7</td>\n",
       "        <td style=\"padding-left: 1em; padding-right: 1em; text-align: center; vertical-align: top\">2170</td>\n",
       "        <td style=\"padding-left: 1em; padding-right: 1em; text-align: center; vertical-align: top\">400</td>\n",
       "        <td style=\"padding-left: 1em; padding-right: 1em; text-align: center; vertical-align: top\">1951</td>\n",
       "        <td style=\"padding-left: 1em; padding-right: 1em; text-align: center; vertical-align: top\">1991</td>\n",
       "        <td style=\"padding-left: 1em; padding-right: 1em; text-align: center; vertical-align: top\">98125</td>\n",
       "        <td style=\"padding-left: 1em; padding-right: 1em; text-align: center; vertical-align: top\">47.721</td>\n",
       "        <td style=\"padding-left: 1em; padding-right: 1em; text-align: center; vertical-align: top\">-122.319</td>\n",
       "        <td style=\"padding-left: 1em; padding-right: 1em; text-align: center; vertical-align: top\">1690</td>\n",
       "    </tr>\n",
       "    <tr>\n",
       "        <td style=\"padding-left: 1em; padding-right: 1em; text-align: center; vertical-align: top\">3</td>\n",
       "        <td style=\"padding-left: 1em; padding-right: 1em; text-align: center; vertical-align: top\">6</td>\n",
       "        <td style=\"padding-left: 1em; padding-right: 1em; text-align: center; vertical-align: top\">770</td>\n",
       "        <td style=\"padding-left: 1em; padding-right: 1em; text-align: center; vertical-align: top\">0</td>\n",
       "        <td style=\"padding-left: 1em; padding-right: 1em; text-align: center; vertical-align: top\">1933</td>\n",
       "        <td style=\"padding-left: 1em; padding-right: 1em; text-align: center; vertical-align: top\">0</td>\n",
       "        <td style=\"padding-left: 1em; padding-right: 1em; text-align: center; vertical-align: top\">98028</td>\n",
       "        <td style=\"padding-left: 1em; padding-right: 1em; text-align: center; vertical-align: top\">47.7379</td>\n",
       "        <td style=\"padding-left: 1em; padding-right: 1em; text-align: center; vertical-align: top\">-122.233</td>\n",
       "        <td style=\"padding-left: 1em; padding-right: 1em; text-align: center; vertical-align: top\">2720</td>\n",
       "    </tr>\n",
       "    <tr>\n",
       "        <td style=\"padding-left: 1em; padding-right: 1em; text-align: center; vertical-align: top\">5</td>\n",
       "        <td style=\"padding-left: 1em; padding-right: 1em; text-align: center; vertical-align: top\">7</td>\n",
       "        <td style=\"padding-left: 1em; padding-right: 1em; text-align: center; vertical-align: top\">1050</td>\n",
       "        <td style=\"padding-left: 1em; padding-right: 1em; text-align: center; vertical-align: top\">910</td>\n",
       "        <td style=\"padding-left: 1em; padding-right: 1em; text-align: center; vertical-align: top\">1965</td>\n",
       "        <td style=\"padding-left: 1em; padding-right: 1em; text-align: center; vertical-align: top\">0</td>\n",
       "        <td style=\"padding-left: 1em; padding-right: 1em; text-align: center; vertical-align: top\">98136</td>\n",
       "        <td style=\"padding-left: 1em; padding-right: 1em; text-align: center; vertical-align: top\">47.5208</td>\n",
       "        <td style=\"padding-left: 1em; padding-right: 1em; text-align: center; vertical-align: top\">-122.393</td>\n",
       "        <td style=\"padding-left: 1em; padding-right: 1em; text-align: center; vertical-align: top\">1360</td>\n",
       "    </tr>\n",
       "    <tr>\n",
       "        <td style=\"padding-left: 1em; padding-right: 1em; text-align: center; vertical-align: top\">3</td>\n",
       "        <td style=\"padding-left: 1em; padding-right: 1em; text-align: center; vertical-align: top\">8</td>\n",
       "        <td style=\"padding-left: 1em; padding-right: 1em; text-align: center; vertical-align: top\">1680</td>\n",
       "        <td style=\"padding-left: 1em; padding-right: 1em; text-align: center; vertical-align: top\">0</td>\n",
       "        <td style=\"padding-left: 1em; padding-right: 1em; text-align: center; vertical-align: top\">1987</td>\n",
       "        <td style=\"padding-left: 1em; padding-right: 1em; text-align: center; vertical-align: top\">0</td>\n",
       "        <td style=\"padding-left: 1em; padding-right: 1em; text-align: center; vertical-align: top\">98074</td>\n",
       "        <td style=\"padding-left: 1em; padding-right: 1em; text-align: center; vertical-align: top\">47.6168</td>\n",
       "        <td style=\"padding-left: 1em; padding-right: 1em; text-align: center; vertical-align: top\">-122.045</td>\n",
       "        <td style=\"padding-left: 1em; padding-right: 1em; text-align: center; vertical-align: top\">1800</td>\n",
       "    </tr>\n",
       "    <tr>\n",
       "        <td style=\"padding-left: 1em; padding-right: 1em; text-align: center; vertical-align: top\">3</td>\n",
       "        <td style=\"padding-left: 1em; padding-right: 1em; text-align: center; vertical-align: top\">11</td>\n",
       "        <td style=\"padding-left: 1em; padding-right: 1em; text-align: center; vertical-align: top\">3890</td>\n",
       "        <td style=\"padding-left: 1em; padding-right: 1em; text-align: center; vertical-align: top\">1530</td>\n",
       "        <td style=\"padding-left: 1em; padding-right: 1em; text-align: center; vertical-align: top\">2001</td>\n",
       "        <td style=\"padding-left: 1em; padding-right: 1em; text-align: center; vertical-align: top\">0</td>\n",
       "        <td style=\"padding-left: 1em; padding-right: 1em; text-align: center; vertical-align: top\">98053</td>\n",
       "        <td style=\"padding-left: 1em; padding-right: 1em; text-align: center; vertical-align: top\">47.6561</td>\n",
       "        <td style=\"padding-left: 1em; padding-right: 1em; text-align: center; vertical-align: top\">-122.005</td>\n",
       "        <td style=\"padding-left: 1em; padding-right: 1em; text-align: center; vertical-align: top\">4760</td>\n",
       "    </tr>\n",
       "    <tr>\n",
       "        <td style=\"padding-left: 1em; padding-right: 1em; text-align: center; vertical-align: top\">3</td>\n",
       "        <td style=\"padding-left: 1em; padding-right: 1em; text-align: center; vertical-align: top\">7</td>\n",
       "        <td style=\"padding-left: 1em; padding-right: 1em; text-align: center; vertical-align: top\">1715</td>\n",
       "        <td style=\"padding-left: 1em; padding-right: 1em; text-align: center; vertical-align: top\">0</td>\n",
       "        <td style=\"padding-left: 1em; padding-right: 1em; text-align: center; vertical-align: top\">1995</td>\n",
       "        <td style=\"padding-left: 1em; padding-right: 1em; text-align: center; vertical-align: top\">0</td>\n",
       "        <td style=\"padding-left: 1em; padding-right: 1em; text-align: center; vertical-align: top\">98003</td>\n",
       "        <td style=\"padding-left: 1em; padding-right: 1em; text-align: center; vertical-align: top\">47.3097</td>\n",
       "        <td style=\"padding-left: 1em; padding-right: 1em; text-align: center; vertical-align: top\">-122.327</td>\n",
       "        <td style=\"padding-left: 1em; padding-right: 1em; text-align: center; vertical-align: top\">2238</td>\n",
       "    </tr>\n",
       "    <tr>\n",
       "        <td style=\"padding-left: 1em; padding-right: 1em; text-align: center; vertical-align: top\">3</td>\n",
       "        <td style=\"padding-left: 1em; padding-right: 1em; text-align: center; vertical-align: top\">7</td>\n",
       "        <td style=\"padding-left: 1em; padding-right: 1em; text-align: center; vertical-align: top\">1060</td>\n",
       "        <td style=\"padding-left: 1em; padding-right: 1em; text-align: center; vertical-align: top\">0</td>\n",
       "        <td style=\"padding-left: 1em; padding-right: 1em; text-align: center; vertical-align: top\">1963</td>\n",
       "        <td style=\"padding-left: 1em; padding-right: 1em; text-align: center; vertical-align: top\">0</td>\n",
       "        <td style=\"padding-left: 1em; padding-right: 1em; text-align: center; vertical-align: top\">98198</td>\n",
       "        <td style=\"padding-left: 1em; padding-right: 1em; text-align: center; vertical-align: top\">47.4095</td>\n",
       "        <td style=\"padding-left: 1em; padding-right: 1em; text-align: center; vertical-align: top\">-122.315</td>\n",
       "        <td style=\"padding-left: 1em; padding-right: 1em; text-align: center; vertical-align: top\">1650</td>\n",
       "    </tr>\n",
       "    <tr>\n",
       "        <td style=\"padding-left: 1em; padding-right: 1em; text-align: center; vertical-align: top\">3</td>\n",
       "        <td style=\"padding-left: 1em; padding-right: 1em; text-align: center; vertical-align: top\">7</td>\n",
       "        <td style=\"padding-left: 1em; padding-right: 1em; text-align: center; vertical-align: top\">1050</td>\n",
       "        <td style=\"padding-left: 1em; padding-right: 1em; text-align: center; vertical-align: top\">730</td>\n",
       "        <td style=\"padding-left: 1em; padding-right: 1em; text-align: center; vertical-align: top\">1960</td>\n",
       "        <td style=\"padding-left: 1em; padding-right: 1em; text-align: center; vertical-align: top\">0</td>\n",
       "        <td style=\"padding-left: 1em; padding-right: 1em; text-align: center; vertical-align: top\">98146</td>\n",
       "        <td style=\"padding-left: 1em; padding-right: 1em; text-align: center; vertical-align: top\">47.5123</td>\n",
       "        <td style=\"padding-left: 1em; padding-right: 1em; text-align: center; vertical-align: top\">-122.337</td>\n",
       "        <td style=\"padding-left: 1em; padding-right: 1em; text-align: center; vertical-align: top\">1780</td>\n",
       "    </tr>\n",
       "    <tr>\n",
       "        <td style=\"padding-left: 1em; padding-right: 1em; text-align: center; vertical-align: top\">3</td>\n",
       "        <td style=\"padding-left: 1em; padding-right: 1em; text-align: center; vertical-align: top\">7</td>\n",
       "        <td style=\"padding-left: 1em; padding-right: 1em; text-align: center; vertical-align: top\">1890</td>\n",
       "        <td style=\"padding-left: 1em; padding-right: 1em; text-align: center; vertical-align: top\">0</td>\n",
       "        <td style=\"padding-left: 1em; padding-right: 1em; text-align: center; vertical-align: top\">2003</td>\n",
       "        <td style=\"padding-left: 1em; padding-right: 1em; text-align: center; vertical-align: top\">0</td>\n",
       "        <td style=\"padding-left: 1em; padding-right: 1em; text-align: center; vertical-align: top\">98038</td>\n",
       "        <td style=\"padding-left: 1em; padding-right: 1em; text-align: center; vertical-align: top\">47.3684</td>\n",
       "        <td style=\"padding-left: 1em; padding-right: 1em; text-align: center; vertical-align: top\">-122.031</td>\n",
       "        <td style=\"padding-left: 1em; padding-right: 1em; text-align: center; vertical-align: top\">2390</td>\n",
       "    </tr>\n",
       "</table>\n",
       "<table frame=\"box\" rules=\"cols\">\n",
       "    <tr>\n",
       "        <th style=\"padding-left: 1em; padding-right: 1em; text-align: center\">sqft_lot15</th>\n",
       "    </tr>\n",
       "    <tr>\n",
       "        <td style=\"padding-left: 1em; padding-right: 1em; text-align: center; vertical-align: top\">5650</td>\n",
       "    </tr>\n",
       "    <tr>\n",
       "        <td style=\"padding-left: 1em; padding-right: 1em; text-align: center; vertical-align: top\">7639</td>\n",
       "    </tr>\n",
       "    <tr>\n",
       "        <td style=\"padding-left: 1em; padding-right: 1em; text-align: center; vertical-align: top\">8062</td>\n",
       "    </tr>\n",
       "    <tr>\n",
       "        <td style=\"padding-left: 1em; padding-right: 1em; text-align: center; vertical-align: top\">5000</td>\n",
       "    </tr>\n",
       "    <tr>\n",
       "        <td style=\"padding-left: 1em; padding-right: 1em; text-align: center; vertical-align: top\">7503</td>\n",
       "    </tr>\n",
       "    <tr>\n",
       "        <td style=\"padding-left: 1em; padding-right: 1em; text-align: center; vertical-align: top\">101930</td>\n",
       "    </tr>\n",
       "    <tr>\n",
       "        <td style=\"padding-left: 1em; padding-right: 1em; text-align: center; vertical-align: top\">6819</td>\n",
       "    </tr>\n",
       "    <tr>\n",
       "        <td style=\"padding-left: 1em; padding-right: 1em; text-align: center; vertical-align: top\">9711</td>\n",
       "    </tr>\n",
       "    <tr>\n",
       "        <td style=\"padding-left: 1em; padding-right: 1em; text-align: center; vertical-align: top\">8113</td>\n",
       "    </tr>\n",
       "    <tr>\n",
       "        <td style=\"padding-left: 1em; padding-right: 1em; text-align: center; vertical-align: top\">7570</td>\n",
       "    </tr>\n",
       "</table>\n",
       "[21613 rows x 21 columns]<br/>Note: Only the head of the SFrame is printed.<br/>You can use print_rows(num_rows=m, num_columns=n) to print more rows and columns.\n",
       "</div>"
      ],
      "text/plain": [
       "Columns:\n",
       "\tid\tint\n",
       "\tdate\tstr\n",
       "\tprice\tfloat\n",
       "\tbedrooms\tint\n",
       "\tbathrooms\tfloat\n",
       "\tsqft_living\tint\n",
       "\tsqft_lot\tint\n",
       "\tfloors\tfloat\n",
       "\twaterfront\tint\n",
       "\tview\tint\n",
       "\tcondition\tint\n",
       "\tgrade\tint\n",
       "\tsqft_above\tint\n",
       "\tsqft_basement\tint\n",
       "\tyr_built\tint\n",
       "\tyr_renovated\tint\n",
       "\tzipcode\tint\n",
       "\tlat\tfloat\n",
       "\tlong\tfloat\n",
       "\tsqft_living15\tint\n",
       "\tsqft_lot15\tint\n",
       "\n",
       "Rows: 21613\n",
       "\n",
       "Data:\n",
       "+------------+-----------------+-----------+----------+-----------+-------------+\n",
       "|     id     |       date      |   price   | bedrooms | bathrooms | sqft_living |\n",
       "+------------+-----------------+-----------+----------+-----------+-------------+\n",
       "| 7129300520 | 20141013T000000 |  221900.0 |    3     |    1.0    |     1180    |\n",
       "| 6414100192 | 20141209T000000 |  538000.0 |    3     |    2.25   |     2570    |\n",
       "| 5631500400 | 20150225T000000 |  180000.0 |    2     |    1.0    |     770     |\n",
       "| 2487200875 | 20141209T000000 |  604000.0 |    4     |    3.0    |     1960    |\n",
       "| 1954400510 | 20150218T000000 |  510000.0 |    3     |    2.0    |     1680    |\n",
       "| 7237550310 | 20140512T000000 | 1225000.0 |    4     |    4.5    |     5420    |\n",
       "| 1321400060 | 20140627T000000 |  257500.0 |    3     |    2.25   |     1715    |\n",
       "| 2008000270 | 20150115T000000 |  291850.0 |    3     |    1.5    |     1060    |\n",
       "| 2414600126 | 20150415T000000 |  229500.0 |    3     |    1.0    |     1780    |\n",
       "| 3793500160 | 20150312T000000 |  323000.0 |    3     |    2.5    |     1890    |\n",
       "+------------+-----------------+-----------+----------+-----------+-------------+\n",
       "+----------+--------+------------+------+-----------+-------+------------+---------------+\n",
       "| sqft_lot | floors | waterfront | view | condition | grade | sqft_above | sqft_basement |\n",
       "+----------+--------+------------+------+-----------+-------+------------+---------------+\n",
       "|   5650   |  1.0   |     0      |  0   |     3     |   7   |    1180    |       0       |\n",
       "|   7242   |  2.0   |     0      |  0   |     3     |   7   |    2170    |      400      |\n",
       "|  10000   |  1.0   |     0      |  0   |     3     |   6   |    770     |       0       |\n",
       "|   5000   |  1.0   |     0      |  0   |     5     |   7   |    1050    |      910      |\n",
       "|   8080   |  1.0   |     0      |  0   |     3     |   8   |    1680    |       0       |\n",
       "|  101930  |  1.0   |     0      |  0   |     3     |   11  |    3890    |      1530     |\n",
       "|   6819   |  2.0   |     0      |  0   |     3     |   7   |    1715    |       0       |\n",
       "|   9711   |  1.0   |     0      |  0   |     3     |   7   |    1060    |       0       |\n",
       "|   7470   |  1.0   |     0      |  0   |     3     |   7   |    1050    |      730      |\n",
       "|   6560   |  2.0   |     0      |  0   |     3     |   7   |    1890    |       0       |\n",
       "+----------+--------+------------+------+-----------+-------+------------+---------------+\n",
       "+----------+--------------+---------+---------+----------+---------------+-----+\n",
       "| yr_built | yr_renovated | zipcode |   lat   |   long   | sqft_living15 | ... |\n",
       "+----------+--------------+---------+---------+----------+---------------+-----+\n",
       "|   1955   |      0       |  98178  | 47.5112 | -122.257 |      1340     | ... |\n",
       "|   1951   |     1991     |  98125  |  47.721 | -122.319 |      1690     | ... |\n",
       "|   1933   |      0       |  98028  | 47.7379 | -122.233 |      2720     | ... |\n",
       "|   1965   |      0       |  98136  | 47.5208 | -122.393 |      1360     | ... |\n",
       "|   1987   |      0       |  98074  | 47.6168 | -122.045 |      1800     | ... |\n",
       "|   2001   |      0       |  98053  | 47.6561 | -122.005 |      4760     | ... |\n",
       "|   1995   |      0       |  98003  | 47.3097 | -122.327 |      2238     | ... |\n",
       "|   1963   |      0       |  98198  | 47.4095 | -122.315 |      1650     | ... |\n",
       "|   1960   |      0       |  98146  | 47.5123 | -122.337 |      1780     | ... |\n",
       "|   2003   |      0       |  98038  | 47.3684 | -122.031 |      2390     | ... |\n",
       "+----------+--------------+---------+---------+----------+---------------+-----+\n",
       "[21613 rows x 21 columns]\n",
       "Note: Only the head of the SFrame is printed.\n",
       "You can use print_rows(num_rows=m, num_columns=n) to print more rows and columns."
      ]
     },
     "execution_count": 5,
     "metadata": {},
     "output_type": "execute_result"
    }
   ],
   "source": [
    "#we can view first few lines of table\n",
    "all_data_frame "
   ]
  },
  {
   "cell_type": "code",
   "execution_count": 6,
   "metadata": {
    "collapsed": false
   },
   "outputs": [
    {
     "data": {
      "text/html": [
       "<div style=\"max-height:1000px;max-width:1500px;overflow:auto;\"><table frame=\"box\" rules=\"cols\">\n",
       "    <tr>\n",
       "        <th style=\"padding-left: 1em; padding-right: 1em; text-align: center\">id</th>\n",
       "        <th style=\"padding-left: 1em; padding-right: 1em; text-align: center\">date</th>\n",
       "        <th style=\"padding-left: 1em; padding-right: 1em; text-align: center\">price</th>\n",
       "        <th style=\"padding-left: 1em; padding-right: 1em; text-align: center\">bedrooms</th>\n",
       "        <th style=\"padding-left: 1em; padding-right: 1em; text-align: center\">bathrooms</th>\n",
       "        <th style=\"padding-left: 1em; padding-right: 1em; text-align: center\">sqft_living</th>\n",
       "        <th style=\"padding-left: 1em; padding-right: 1em; text-align: center\">sqft_lot</th>\n",
       "        <th style=\"padding-left: 1em; padding-right: 1em; text-align: center\">floors</th>\n",
       "        <th style=\"padding-left: 1em; padding-right: 1em; text-align: center\">waterfront</th>\n",
       "        <th style=\"padding-left: 1em; padding-right: 1em; text-align: center\">view</th>\n",
       "    </tr>\n",
       "    <tr>\n",
       "        <td style=\"padding-left: 1em; padding-right: 1em; text-align: center; vertical-align: top\">7852140040</td>\n",
       "        <td style=\"padding-left: 1em; padding-right: 1em; text-align: center; vertical-align: top\">20140825T000000</td>\n",
       "        <td style=\"padding-left: 1em; padding-right: 1em; text-align: center; vertical-align: top\">507250.0</td>\n",
       "        <td style=\"padding-left: 1em; padding-right: 1em; text-align: center; vertical-align: top\">3</td>\n",
       "        <td style=\"padding-left: 1em; padding-right: 1em; text-align: center; vertical-align: top\">2.5</td>\n",
       "        <td style=\"padding-left: 1em; padding-right: 1em; text-align: center; vertical-align: top\">2270</td>\n",
       "        <td style=\"padding-left: 1em; padding-right: 1em; text-align: center; vertical-align: top\">5536</td>\n",
       "        <td style=\"padding-left: 1em; padding-right: 1em; text-align: center; vertical-align: top\">2.0</td>\n",
       "        <td style=\"padding-left: 1em; padding-right: 1em; text-align: center; vertical-align: top\">0</td>\n",
       "        <td style=\"padding-left: 1em; padding-right: 1em; text-align: center; vertical-align: top\">0</td>\n",
       "    </tr>\n",
       "    <tr>\n",
       "        <td style=\"padding-left: 1em; padding-right: 1em; text-align: center; vertical-align: top\">9834201367</td>\n",
       "        <td style=\"padding-left: 1em; padding-right: 1em; text-align: center; vertical-align: top\">20150126T000000</td>\n",
       "        <td style=\"padding-left: 1em; padding-right: 1em; text-align: center; vertical-align: top\">429000.0</td>\n",
       "        <td style=\"padding-left: 1em; padding-right: 1em; text-align: center; vertical-align: top\">3</td>\n",
       "        <td style=\"padding-left: 1em; padding-right: 1em; text-align: center; vertical-align: top\">2.0</td>\n",
       "        <td style=\"padding-left: 1em; padding-right: 1em; text-align: center; vertical-align: top\">1490</td>\n",
       "        <td style=\"padding-left: 1em; padding-right: 1em; text-align: center; vertical-align: top\">1126</td>\n",
       "        <td style=\"padding-left: 1em; padding-right: 1em; text-align: center; vertical-align: top\">3.0</td>\n",
       "        <td style=\"padding-left: 1em; padding-right: 1em; text-align: center; vertical-align: top\">0</td>\n",
       "        <td style=\"padding-left: 1em; padding-right: 1em; text-align: center; vertical-align: top\">0</td>\n",
       "    </tr>\n",
       "    <tr>\n",
       "        <td style=\"padding-left: 1em; padding-right: 1em; text-align: center; vertical-align: top\">3448900210</td>\n",
       "        <td style=\"padding-left: 1em; padding-right: 1em; text-align: center; vertical-align: top\">20141014T000000</td>\n",
       "        <td style=\"padding-left: 1em; padding-right: 1em; text-align: center; vertical-align: top\">610685.0</td>\n",
       "        <td style=\"padding-left: 1em; padding-right: 1em; text-align: center; vertical-align: top\">4</td>\n",
       "        <td style=\"padding-left: 1em; padding-right: 1em; text-align: center; vertical-align: top\">2.5</td>\n",
       "        <td style=\"padding-left: 1em; padding-right: 1em; text-align: center; vertical-align: top\">2520</td>\n",
       "        <td style=\"padding-left: 1em; padding-right: 1em; text-align: center; vertical-align: top\">6023</td>\n",
       "        <td style=\"padding-left: 1em; padding-right: 1em; text-align: center; vertical-align: top\">2.0</td>\n",
       "        <td style=\"padding-left: 1em; padding-right: 1em; text-align: center; vertical-align: top\">0</td>\n",
       "        <td style=\"padding-left: 1em; padding-right: 1em; text-align: center; vertical-align: top\">0</td>\n",
       "    </tr>\n",
       "    <tr>\n",
       "        <td style=\"padding-left: 1em; padding-right: 1em; text-align: center; vertical-align: top\">7936000429</td>\n",
       "        <td style=\"padding-left: 1em; padding-right: 1em; text-align: center; vertical-align: top\">20150326T000000</td>\n",
       "        <td style=\"padding-left: 1em; padding-right: 1em; text-align: center; vertical-align: top\">1007500.0</td>\n",
       "        <td style=\"padding-left: 1em; padding-right: 1em; text-align: center; vertical-align: top\">4</td>\n",
       "        <td style=\"padding-left: 1em; padding-right: 1em; text-align: center; vertical-align: top\">3.5</td>\n",
       "        <td style=\"padding-left: 1em; padding-right: 1em; text-align: center; vertical-align: top\">3510</td>\n",
       "        <td style=\"padding-left: 1em; padding-right: 1em; text-align: center; vertical-align: top\">7200</td>\n",
       "        <td style=\"padding-left: 1em; padding-right: 1em; text-align: center; vertical-align: top\">2.0</td>\n",
       "        <td style=\"padding-left: 1em; padding-right: 1em; text-align: center; vertical-align: top\">0</td>\n",
       "        <td style=\"padding-left: 1em; padding-right: 1em; text-align: center; vertical-align: top\">0</td>\n",
       "    </tr>\n",
       "    <tr>\n",
       "        <td style=\"padding-left: 1em; padding-right: 1em; text-align: center; vertical-align: top\">2997800021</td>\n",
       "        <td style=\"padding-left: 1em; padding-right: 1em; text-align: center; vertical-align: top\">20150219T000000</td>\n",
       "        <td style=\"padding-left: 1em; padding-right: 1em; text-align: center; vertical-align: top\">475000.0</td>\n",
       "        <td style=\"padding-left: 1em; padding-right: 1em; text-align: center; vertical-align: top\">3</td>\n",
       "        <td style=\"padding-left: 1em; padding-right: 1em; text-align: center; vertical-align: top\">2.5</td>\n",
       "        <td style=\"padding-left: 1em; padding-right: 1em; text-align: center; vertical-align: top\">1310</td>\n",
       "        <td style=\"padding-left: 1em; padding-right: 1em; text-align: center; vertical-align: top\">1294</td>\n",
       "        <td style=\"padding-left: 1em; padding-right: 1em; text-align: center; vertical-align: top\">2.0</td>\n",
       "        <td style=\"padding-left: 1em; padding-right: 1em; text-align: center; vertical-align: top\">0</td>\n",
       "        <td style=\"padding-left: 1em; padding-right: 1em; text-align: center; vertical-align: top\">0</td>\n",
       "    </tr>\n",
       "    <tr>\n",
       "        <td style=\"padding-left: 1em; padding-right: 1em; text-align: center; vertical-align: top\">263000018</td>\n",
       "        <td style=\"padding-left: 1em; padding-right: 1em; text-align: center; vertical-align: top\">20140521T000000</td>\n",
       "        <td style=\"padding-left: 1em; padding-right: 1em; text-align: center; vertical-align: top\">360000.0</td>\n",
       "        <td style=\"padding-left: 1em; padding-right: 1em; text-align: center; vertical-align: top\">3</td>\n",
       "        <td style=\"padding-left: 1em; padding-right: 1em; text-align: center; vertical-align: top\">2.5</td>\n",
       "        <td style=\"padding-left: 1em; padding-right: 1em; text-align: center; vertical-align: top\">1530</td>\n",
       "        <td style=\"padding-left: 1em; padding-right: 1em; text-align: center; vertical-align: top\">1131</td>\n",
       "        <td style=\"padding-left: 1em; padding-right: 1em; text-align: center; vertical-align: top\">3.0</td>\n",
       "        <td style=\"padding-left: 1em; padding-right: 1em; text-align: center; vertical-align: top\">0</td>\n",
       "        <td style=\"padding-left: 1em; padding-right: 1em; text-align: center; vertical-align: top\">0</td>\n",
       "    </tr>\n",
       "    <tr>\n",
       "        <td style=\"padding-left: 1em; padding-right: 1em; text-align: center; vertical-align: top\">6600060120</td>\n",
       "        <td style=\"padding-left: 1em; padding-right: 1em; text-align: center; vertical-align: top\">20150223T000000</td>\n",
       "        <td style=\"padding-left: 1em; padding-right: 1em; text-align: center; vertical-align: top\">400000.0</td>\n",
       "        <td style=\"padding-left: 1em; padding-right: 1em; text-align: center; vertical-align: top\">4</td>\n",
       "        <td style=\"padding-left: 1em; padding-right: 1em; text-align: center; vertical-align: top\">2.5</td>\n",
       "        <td style=\"padding-left: 1em; padding-right: 1em; text-align: center; vertical-align: top\">2310</td>\n",
       "        <td style=\"padding-left: 1em; padding-right: 1em; text-align: center; vertical-align: top\">5813</td>\n",
       "        <td style=\"padding-left: 1em; padding-right: 1em; text-align: center; vertical-align: top\">2.0</td>\n",
       "        <td style=\"padding-left: 1em; padding-right: 1em; text-align: center; vertical-align: top\">0</td>\n",
       "        <td style=\"padding-left: 1em; padding-right: 1em; text-align: center; vertical-align: top\">0</td>\n",
       "    </tr>\n",
       "    <tr>\n",
       "        <td style=\"padding-left: 1em; padding-right: 1em; text-align: center; vertical-align: top\">1523300141</td>\n",
       "        <td style=\"padding-left: 1em; padding-right: 1em; text-align: center; vertical-align: top\">20140623T000000</td>\n",
       "        <td style=\"padding-left: 1em; padding-right: 1em; text-align: center; vertical-align: top\">402101.0</td>\n",
       "        <td style=\"padding-left: 1em; padding-right: 1em; text-align: center; vertical-align: top\">2</td>\n",
       "        <td style=\"padding-left: 1em; padding-right: 1em; text-align: center; vertical-align: top\">0.75</td>\n",
       "        <td style=\"padding-left: 1em; padding-right: 1em; text-align: center; vertical-align: top\">1020</td>\n",
       "        <td style=\"padding-left: 1em; padding-right: 1em; text-align: center; vertical-align: top\">1350</td>\n",
       "        <td style=\"padding-left: 1em; padding-right: 1em; text-align: center; vertical-align: top\">2.0</td>\n",
       "        <td style=\"padding-left: 1em; padding-right: 1em; text-align: center; vertical-align: top\">0</td>\n",
       "        <td style=\"padding-left: 1em; padding-right: 1em; text-align: center; vertical-align: top\">0</td>\n",
       "    </tr>\n",
       "    <tr>\n",
       "        <td style=\"padding-left: 1em; padding-right: 1em; text-align: center; vertical-align: top\">291310100</td>\n",
       "        <td style=\"padding-left: 1em; padding-right: 1em; text-align: center; vertical-align: top\">20150116T000000</td>\n",
       "        <td style=\"padding-left: 1em; padding-right: 1em; text-align: center; vertical-align: top\">400000.0</td>\n",
       "        <td style=\"padding-left: 1em; padding-right: 1em; text-align: center; vertical-align: top\">3</td>\n",
       "        <td style=\"padding-left: 1em; padding-right: 1em; text-align: center; vertical-align: top\">2.5</td>\n",
       "        <td style=\"padding-left: 1em; padding-right: 1em; text-align: center; vertical-align: top\">1600</td>\n",
       "        <td style=\"padding-left: 1em; padding-right: 1em; text-align: center; vertical-align: top\">2388</td>\n",
       "        <td style=\"padding-left: 1em; padding-right: 1em; text-align: center; vertical-align: top\">2.0</td>\n",
       "        <td style=\"padding-left: 1em; padding-right: 1em; text-align: center; vertical-align: top\">0</td>\n",
       "        <td style=\"padding-left: 1em; padding-right: 1em; text-align: center; vertical-align: top\">0</td>\n",
       "    </tr>\n",
       "    <tr>\n",
       "        <td style=\"padding-left: 1em; padding-right: 1em; text-align: center; vertical-align: top\">1523300157</td>\n",
       "        <td style=\"padding-left: 1em; padding-right: 1em; text-align: center; vertical-align: top\">20141015T000000</td>\n",
       "        <td style=\"padding-left: 1em; padding-right: 1em; text-align: center; vertical-align: top\">325000.0</td>\n",
       "        <td style=\"padding-left: 1em; padding-right: 1em; text-align: center; vertical-align: top\">2</td>\n",
       "        <td style=\"padding-left: 1em; padding-right: 1em; text-align: center; vertical-align: top\">0.75</td>\n",
       "        <td style=\"padding-left: 1em; padding-right: 1em; text-align: center; vertical-align: top\">1020</td>\n",
       "        <td style=\"padding-left: 1em; padding-right: 1em; text-align: center; vertical-align: top\">1076</td>\n",
       "        <td style=\"padding-left: 1em; padding-right: 1em; text-align: center; vertical-align: top\">2.0</td>\n",
       "        <td style=\"padding-left: 1em; padding-right: 1em; text-align: center; vertical-align: top\">0</td>\n",
       "        <td style=\"padding-left: 1em; padding-right: 1em; text-align: center; vertical-align: top\">0</td>\n",
       "    </tr>\n",
       "</table>\n",
       "<table frame=\"box\" rules=\"cols\">\n",
       "    <tr>\n",
       "        <th style=\"padding-left: 1em; padding-right: 1em; text-align: center\">condition</th>\n",
       "        <th style=\"padding-left: 1em; padding-right: 1em; text-align: center\">grade</th>\n",
       "        <th style=\"padding-left: 1em; padding-right: 1em; text-align: center\">sqft_above</th>\n",
       "        <th style=\"padding-left: 1em; padding-right: 1em; text-align: center\">sqft_basement</th>\n",
       "        <th style=\"padding-left: 1em; padding-right: 1em; text-align: center\">yr_built</th>\n",
       "        <th style=\"padding-left: 1em; padding-right: 1em; text-align: center\">yr_renovated</th>\n",
       "        <th style=\"padding-left: 1em; padding-right: 1em; text-align: center\">zipcode</th>\n",
       "        <th style=\"padding-left: 1em; padding-right: 1em; text-align: center\">lat</th>\n",
       "        <th style=\"padding-left: 1em; padding-right: 1em; text-align: center\">long</th>\n",
       "        <th style=\"padding-left: 1em; padding-right: 1em; text-align: center\">sqft_living15</th>\n",
       "    </tr>\n",
       "    <tr>\n",
       "        <td style=\"padding-left: 1em; padding-right: 1em; text-align: center; vertical-align: top\">3</td>\n",
       "        <td style=\"padding-left: 1em; padding-right: 1em; text-align: center; vertical-align: top\">8</td>\n",
       "        <td style=\"padding-left: 1em; padding-right: 1em; text-align: center; vertical-align: top\">2270</td>\n",
       "        <td style=\"padding-left: 1em; padding-right: 1em; text-align: center; vertical-align: top\">0</td>\n",
       "        <td style=\"padding-left: 1em; padding-right: 1em; text-align: center; vertical-align: top\">2003</td>\n",
       "        <td style=\"padding-left: 1em; padding-right: 1em; text-align: center; vertical-align: top\">0</td>\n",
       "        <td style=\"padding-left: 1em; padding-right: 1em; text-align: center; vertical-align: top\">98065</td>\n",
       "        <td style=\"padding-left: 1em; padding-right: 1em; text-align: center; vertical-align: top\">47.5389</td>\n",
       "        <td style=\"padding-left: 1em; padding-right: 1em; text-align: center; vertical-align: top\">-121.881</td>\n",
       "        <td style=\"padding-left: 1em; padding-right: 1em; text-align: center; vertical-align: top\">2270</td>\n",
       "    </tr>\n",
       "    <tr>\n",
       "        <td style=\"padding-left: 1em; padding-right: 1em; text-align: center; vertical-align: top\">3</td>\n",
       "        <td style=\"padding-left: 1em; padding-right: 1em; text-align: center; vertical-align: top\">8</td>\n",
       "        <td style=\"padding-left: 1em; padding-right: 1em; text-align: center; vertical-align: top\">1490</td>\n",
       "        <td style=\"padding-left: 1em; padding-right: 1em; text-align: center; vertical-align: top\">0</td>\n",
       "        <td style=\"padding-left: 1em; padding-right: 1em; text-align: center; vertical-align: top\">2014</td>\n",
       "        <td style=\"padding-left: 1em; padding-right: 1em; text-align: center; vertical-align: top\">0</td>\n",
       "        <td style=\"padding-left: 1em; padding-right: 1em; text-align: center; vertical-align: top\">98144</td>\n",
       "        <td style=\"padding-left: 1em; padding-right: 1em; text-align: center; vertical-align: top\">47.5699</td>\n",
       "        <td style=\"padding-left: 1em; padding-right: 1em; text-align: center; vertical-align: top\">-122.288</td>\n",
       "        <td style=\"padding-left: 1em; padding-right: 1em; text-align: center; vertical-align: top\">1400</td>\n",
       "    </tr>\n",
       "    <tr>\n",
       "        <td style=\"padding-left: 1em; padding-right: 1em; text-align: center; vertical-align: top\">3</td>\n",
       "        <td style=\"padding-left: 1em; padding-right: 1em; text-align: center; vertical-align: top\">9</td>\n",
       "        <td style=\"padding-left: 1em; padding-right: 1em; text-align: center; vertical-align: top\">2520</td>\n",
       "        <td style=\"padding-left: 1em; padding-right: 1em; text-align: center; vertical-align: top\">0</td>\n",
       "        <td style=\"padding-left: 1em; padding-right: 1em; text-align: center; vertical-align: top\">2014</td>\n",
       "        <td style=\"padding-left: 1em; padding-right: 1em; text-align: center; vertical-align: top\">0</td>\n",
       "        <td style=\"padding-left: 1em; padding-right: 1em; text-align: center; vertical-align: top\">98056</td>\n",
       "        <td style=\"padding-left: 1em; padding-right: 1em; text-align: center; vertical-align: top\">47.5137</td>\n",
       "        <td style=\"padding-left: 1em; padding-right: 1em; text-align: center; vertical-align: top\">-122.167</td>\n",
       "        <td style=\"padding-left: 1em; padding-right: 1em; text-align: center; vertical-align: top\">2520</td>\n",
       "    </tr>\n",
       "    <tr>\n",
       "        <td style=\"padding-left: 1em; padding-right: 1em; text-align: center; vertical-align: top\">3</td>\n",
       "        <td style=\"padding-left: 1em; padding-right: 1em; text-align: center; vertical-align: top\">9</td>\n",
       "        <td style=\"padding-left: 1em; padding-right: 1em; text-align: center; vertical-align: top\">2600</td>\n",
       "        <td style=\"padding-left: 1em; padding-right: 1em; text-align: center; vertical-align: top\">910</td>\n",
       "        <td style=\"padding-left: 1em; padding-right: 1em; text-align: center; vertical-align: top\">2009</td>\n",
       "        <td style=\"padding-left: 1em; padding-right: 1em; text-align: center; vertical-align: top\">0</td>\n",
       "        <td style=\"padding-left: 1em; padding-right: 1em; text-align: center; vertical-align: top\">98136</td>\n",
       "        <td style=\"padding-left: 1em; padding-right: 1em; text-align: center; vertical-align: top\">47.5537</td>\n",
       "        <td style=\"padding-left: 1em; padding-right: 1em; text-align: center; vertical-align: top\">-122.398</td>\n",
       "        <td style=\"padding-left: 1em; padding-right: 1em; text-align: center; vertical-align: top\">2050</td>\n",
       "    </tr>\n",
       "    <tr>\n",
       "        <td style=\"padding-left: 1em; padding-right: 1em; text-align: center; vertical-align: top\">3</td>\n",
       "        <td style=\"padding-left: 1em; padding-right: 1em; text-align: center; vertical-align: top\">8</td>\n",
       "        <td style=\"padding-left: 1em; padding-right: 1em; text-align: center; vertical-align: top\">1180</td>\n",
       "        <td style=\"padding-left: 1em; padding-right: 1em; text-align: center; vertical-align: top\">130</td>\n",
       "        <td style=\"padding-left: 1em; padding-right: 1em; text-align: center; vertical-align: top\">2008</td>\n",
       "        <td style=\"padding-left: 1em; padding-right: 1em; text-align: center; vertical-align: top\">0</td>\n",
       "        <td style=\"padding-left: 1em; padding-right: 1em; text-align: center; vertical-align: top\">98116</td>\n",
       "        <td style=\"padding-left: 1em; padding-right: 1em; text-align: center; vertical-align: top\">47.5773</td>\n",
       "        <td style=\"padding-left: 1em; padding-right: 1em; text-align: center; vertical-align: top\">-122.409</td>\n",
       "        <td style=\"padding-left: 1em; padding-right: 1em; text-align: center; vertical-align: top\">1330</td>\n",
       "    </tr>\n",
       "    <tr>\n",
       "        <td style=\"padding-left: 1em; padding-right: 1em; text-align: center; vertical-align: top\">3</td>\n",
       "        <td style=\"padding-left: 1em; padding-right: 1em; text-align: center; vertical-align: top\">8</td>\n",
       "        <td style=\"padding-left: 1em; padding-right: 1em; text-align: center; vertical-align: top\">1530</td>\n",
       "        <td style=\"padding-left: 1em; padding-right: 1em; text-align: center; vertical-align: top\">0</td>\n",
       "        <td style=\"padding-left: 1em; padding-right: 1em; text-align: center; vertical-align: top\">2009</td>\n",
       "        <td style=\"padding-left: 1em; padding-right: 1em; text-align: center; vertical-align: top\">0</td>\n",
       "        <td style=\"padding-left: 1em; padding-right: 1em; text-align: center; vertical-align: top\">98103</td>\n",
       "        <td style=\"padding-left: 1em; padding-right: 1em; text-align: center; vertical-align: top\">47.6993</td>\n",
       "        <td style=\"padding-left: 1em; padding-right: 1em; text-align: center; vertical-align: top\">-122.346</td>\n",
       "        <td style=\"padding-left: 1em; padding-right: 1em; text-align: center; vertical-align: top\">1530</td>\n",
       "    </tr>\n",
       "    <tr>\n",
       "        <td style=\"padding-left: 1em; padding-right: 1em; text-align: center; vertical-align: top\">3</td>\n",
       "        <td style=\"padding-left: 1em; padding-right: 1em; text-align: center; vertical-align: top\">8</td>\n",
       "        <td style=\"padding-left: 1em; padding-right: 1em; text-align: center; vertical-align: top\">2310</td>\n",
       "        <td style=\"padding-left: 1em; padding-right: 1em; text-align: center; vertical-align: top\">0</td>\n",
       "        <td style=\"padding-left: 1em; padding-right: 1em; text-align: center; vertical-align: top\">2014</td>\n",
       "        <td style=\"padding-left: 1em; padding-right: 1em; text-align: center; vertical-align: top\">0</td>\n",
       "        <td style=\"padding-left: 1em; padding-right: 1em; text-align: center; vertical-align: top\">98146</td>\n",
       "        <td style=\"padding-left: 1em; padding-right: 1em; text-align: center; vertical-align: top\">47.5107</td>\n",
       "        <td style=\"padding-left: 1em; padding-right: 1em; text-align: center; vertical-align: top\">-122.362</td>\n",
       "        <td style=\"padding-left: 1em; padding-right: 1em; text-align: center; vertical-align: top\">1830</td>\n",
       "    </tr>\n",
       "    <tr>\n",
       "        <td style=\"padding-left: 1em; padding-right: 1em; text-align: center; vertical-align: top\">3</td>\n",
       "        <td style=\"padding-left: 1em; padding-right: 1em; text-align: center; vertical-align: top\">7</td>\n",
       "        <td style=\"padding-left: 1em; padding-right: 1em; text-align: center; vertical-align: top\">1020</td>\n",
       "        <td style=\"padding-left: 1em; padding-right: 1em; text-align: center; vertical-align: top\">0</td>\n",
       "        <td style=\"padding-left: 1em; padding-right: 1em; text-align: center; vertical-align: top\">2009</td>\n",
       "        <td style=\"padding-left: 1em; padding-right: 1em; text-align: center; vertical-align: top\">0</td>\n",
       "        <td style=\"padding-left: 1em; padding-right: 1em; text-align: center; vertical-align: top\">98144</td>\n",
       "        <td style=\"padding-left: 1em; padding-right: 1em; text-align: center; vertical-align: top\">47.5944</td>\n",
       "        <td style=\"padding-left: 1em; padding-right: 1em; text-align: center; vertical-align: top\">-122.299</td>\n",
       "        <td style=\"padding-left: 1em; padding-right: 1em; text-align: center; vertical-align: top\">1020</td>\n",
       "    </tr>\n",
       "    <tr>\n",
       "        <td style=\"padding-left: 1em; padding-right: 1em; text-align: center; vertical-align: top\">3</td>\n",
       "        <td style=\"padding-left: 1em; padding-right: 1em; text-align: center; vertical-align: top\">8</td>\n",
       "        <td style=\"padding-left: 1em; padding-right: 1em; text-align: center; vertical-align: top\">1600</td>\n",
       "        <td style=\"padding-left: 1em; padding-right: 1em; text-align: center; vertical-align: top\">0</td>\n",
       "        <td style=\"padding-left: 1em; padding-right: 1em; text-align: center; vertical-align: top\">2004</td>\n",
       "        <td style=\"padding-left: 1em; padding-right: 1em; text-align: center; vertical-align: top\">0</td>\n",
       "        <td style=\"padding-left: 1em; padding-right: 1em; text-align: center; vertical-align: top\">98027</td>\n",
       "        <td style=\"padding-left: 1em; padding-right: 1em; text-align: center; vertical-align: top\">47.5345</td>\n",
       "        <td style=\"padding-left: 1em; padding-right: 1em; text-align: center; vertical-align: top\">-122.069</td>\n",
       "        <td style=\"padding-left: 1em; padding-right: 1em; text-align: center; vertical-align: top\">1410</td>\n",
       "    </tr>\n",
       "    <tr>\n",
       "        <td style=\"padding-left: 1em; padding-right: 1em; text-align: center; vertical-align: top\">3</td>\n",
       "        <td style=\"padding-left: 1em; padding-right: 1em; text-align: center; vertical-align: top\">7</td>\n",
       "        <td style=\"padding-left: 1em; padding-right: 1em; text-align: center; vertical-align: top\">1020</td>\n",
       "        <td style=\"padding-left: 1em; padding-right: 1em; text-align: center; vertical-align: top\">0</td>\n",
       "        <td style=\"padding-left: 1em; padding-right: 1em; text-align: center; vertical-align: top\">2008</td>\n",
       "        <td style=\"padding-left: 1em; padding-right: 1em; text-align: center; vertical-align: top\">0</td>\n",
       "        <td style=\"padding-left: 1em; padding-right: 1em; text-align: center; vertical-align: top\">98144</td>\n",
       "        <td style=\"padding-left: 1em; padding-right: 1em; text-align: center; vertical-align: top\">47.5941</td>\n",
       "        <td style=\"padding-left: 1em; padding-right: 1em; text-align: center; vertical-align: top\">-122.299</td>\n",
       "        <td style=\"padding-left: 1em; padding-right: 1em; text-align: center; vertical-align: top\">1020</td>\n",
       "    </tr>\n",
       "</table>\n",
       "<table frame=\"box\" rules=\"cols\">\n",
       "    <tr>\n",
       "        <th style=\"padding-left: 1em; padding-right: 1em; text-align: center\">sqft_lot15</th>\n",
       "    </tr>\n",
       "    <tr>\n",
       "        <td style=\"padding-left: 1em; padding-right: 1em; text-align: center; vertical-align: top\">5731</td>\n",
       "    </tr>\n",
       "    <tr>\n",
       "        <td style=\"padding-left: 1em; padding-right: 1em; text-align: center; vertical-align: top\">1230</td>\n",
       "    </tr>\n",
       "    <tr>\n",
       "        <td style=\"padding-left: 1em; padding-right: 1em; text-align: center; vertical-align: top\">6023</td>\n",
       "    </tr>\n",
       "    <tr>\n",
       "        <td style=\"padding-left: 1em; padding-right: 1em; text-align: center; vertical-align: top\">6200</td>\n",
       "    </tr>\n",
       "    <tr>\n",
       "        <td style=\"padding-left: 1em; padding-right: 1em; text-align: center; vertical-align: top\">1265</td>\n",
       "    </tr>\n",
       "    <tr>\n",
       "        <td style=\"padding-left: 1em; padding-right: 1em; text-align: center; vertical-align: top\">1509</td>\n",
       "    </tr>\n",
       "    <tr>\n",
       "        <td style=\"padding-left: 1em; padding-right: 1em; text-align: center; vertical-align: top\">7200</td>\n",
       "    </tr>\n",
       "    <tr>\n",
       "        <td style=\"padding-left: 1em; padding-right: 1em; text-align: center; vertical-align: top\">2007</td>\n",
       "    </tr>\n",
       "    <tr>\n",
       "        <td style=\"padding-left: 1em; padding-right: 1em; text-align: center; vertical-align: top\">1287</td>\n",
       "    </tr>\n",
       "    <tr>\n",
       "        <td style=\"padding-left: 1em; padding-right: 1em; text-align: center; vertical-align: top\">1357</td>\n",
       "    </tr>\n",
       "</table>\n",
       "[10 rows x 21 columns]<br/>\n",
       "</div>"
      ],
      "text/plain": [
       "Columns:\n",
       "\tid\tint\n",
       "\tdate\tstr\n",
       "\tprice\tfloat\n",
       "\tbedrooms\tint\n",
       "\tbathrooms\tfloat\n",
       "\tsqft_living\tint\n",
       "\tsqft_lot\tint\n",
       "\tfloors\tfloat\n",
       "\twaterfront\tint\n",
       "\tview\tint\n",
       "\tcondition\tint\n",
       "\tgrade\tint\n",
       "\tsqft_above\tint\n",
       "\tsqft_basement\tint\n",
       "\tyr_built\tint\n",
       "\tyr_renovated\tint\n",
       "\tzipcode\tint\n",
       "\tlat\tfloat\n",
       "\tlong\tfloat\n",
       "\tsqft_living15\tint\n",
       "\tsqft_lot15\tint\n",
       "\n",
       "Rows: 10\n",
       "\n",
       "Data:\n",
       "+------------+-----------------+-----------+----------+-----------+-------------+\n",
       "|     id     |       date      |   price   | bedrooms | bathrooms | sqft_living |\n",
       "+------------+-----------------+-----------+----------+-----------+-------------+\n",
       "| 7852140040 | 20140825T000000 |  507250.0 |    3     |    2.5    |     2270    |\n",
       "| 9834201367 | 20150126T000000 |  429000.0 |    3     |    2.0    |     1490    |\n",
       "| 3448900210 | 20141014T000000 |  610685.0 |    4     |    2.5    |     2520    |\n",
       "| 7936000429 | 20150326T000000 | 1007500.0 |    4     |    3.5    |     3510    |\n",
       "| 2997800021 | 20150219T000000 |  475000.0 |    3     |    2.5    |     1310    |\n",
       "| 263000018  | 20140521T000000 |  360000.0 |    3     |    2.5    |     1530    |\n",
       "| 6600060120 | 20150223T000000 |  400000.0 |    4     |    2.5    |     2310    |\n",
       "| 1523300141 | 20140623T000000 |  402101.0 |    2     |    0.75   |     1020    |\n",
       "| 291310100  | 20150116T000000 |  400000.0 |    3     |    2.5    |     1600    |\n",
       "| 1523300157 | 20141015T000000 |  325000.0 |    2     |    0.75   |     1020    |\n",
       "+------------+-----------------+-----------+----------+-----------+-------------+\n",
       "+----------+--------+------------+------+-----------+-------+------------+---------------+\n",
       "| sqft_lot | floors | waterfront | view | condition | grade | sqft_above | sqft_basement |\n",
       "+----------+--------+------------+------+-----------+-------+------------+---------------+\n",
       "|   5536   |  2.0   |     0      |  0   |     3     |   8   |    2270    |       0       |\n",
       "|   1126   |  3.0   |     0      |  0   |     3     |   8   |    1490    |       0       |\n",
       "|   6023   |  2.0   |     0      |  0   |     3     |   9   |    2520    |       0       |\n",
       "|   7200   |  2.0   |     0      |  0   |     3     |   9   |    2600    |      910      |\n",
       "|   1294   |  2.0   |     0      |  0   |     3     |   8   |    1180    |      130      |\n",
       "|   1131   |  3.0   |     0      |  0   |     3     |   8   |    1530    |       0       |\n",
       "|   5813   |  2.0   |     0      |  0   |     3     |   8   |    2310    |       0       |\n",
       "|   1350   |  2.0   |     0      |  0   |     3     |   7   |    1020    |       0       |\n",
       "|   2388   |  2.0   |     0      |  0   |     3     |   8   |    1600    |       0       |\n",
       "|   1076   |  2.0   |     0      |  0   |     3     |   7   |    1020    |       0       |\n",
       "+----------+--------+------------+------+-----------+-------+------------+---------------+\n",
       "+----------+--------------+---------+---------+----------+---------------+-----+\n",
       "| yr_built | yr_renovated | zipcode |   lat   |   long   | sqft_living15 | ... |\n",
       "+----------+--------------+---------+---------+----------+---------------+-----+\n",
       "|   2003   |      0       |  98065  | 47.5389 | -121.881 |      2270     | ... |\n",
       "|   2014   |      0       |  98144  | 47.5699 | -122.288 |      1400     | ... |\n",
       "|   2014   |      0       |  98056  | 47.5137 | -122.167 |      2520     | ... |\n",
       "|   2009   |      0       |  98136  | 47.5537 | -122.398 |      2050     | ... |\n",
       "|   2008   |      0       |  98116  | 47.5773 | -122.409 |      1330     | ... |\n",
       "|   2009   |      0       |  98103  | 47.6993 | -122.346 |      1530     | ... |\n",
       "|   2014   |      0       |  98146  | 47.5107 | -122.362 |      1830     | ... |\n",
       "|   2009   |      0       |  98144  | 47.5944 | -122.299 |      1020     | ... |\n",
       "|   2004   |      0       |  98027  | 47.5345 | -122.069 |      1410     | ... |\n",
       "|   2008   |      0       |  98144  | 47.5941 | -122.299 |      1020     | ... |\n",
       "+----------+--------------+---------+---------+----------+---------------+-----+\n",
       "[10 rows x 21 columns]"
      ]
     },
     "execution_count": 6,
     "metadata": {},
     "output_type": "execute_result"
    }
   ],
   "source": [
    "# view end of the table\n",
    "all_data_frame.tail()  "
   ]
  },
  {
   "cell_type": "code",
   "execution_count": 7,
   "metadata": {
    "collapsed": false
   },
   "outputs": [
    {
     "name": "stdout",
     "output_type": "stream",
     "text": [
      "Canvas is accessible via web browser at the URL: http://localhost:49219/index.html\n",
      "Opening Canvas in default web browser.\n"
     ]
    }
   ],
   "source": [
    "# .show() visualizes any data structure in GraphLab Create\n",
    "all_data_frame.show()\n",
    "graphlab.canvas.set_target('ipynb')"
   ]
  },
  {
   "cell_type": "code",
   "execution_count": 8,
   "metadata": {
    "collapsed": false
   },
   "outputs": [
    {
     "data": {
      "application/javascript": [
       "$(\"head\").append($(\"<link/>\").attr({\n",
       "  rel:  \"stylesheet\",\n",
       "  type: \"text/css\",\n",
       "  href: \"//cdnjs.cloudflare.com/ajax/libs/font-awesome/4.1.0/css/font-awesome.min.css\"\n",
       "}));\n",
       "$(\"head\").append($(\"<link/>\").attr({\n",
       "  rel:  \"stylesheet\",\n",
       "  type: \"text/css\",\n",
       "  href: \"https://static.turi.com/products/graphlab-create/2.1/canvas/css/canvas.css\"\n",
       "}));\n",
       "\n",
       "            (function(){\n",
       "\n",
       "                var e = null;\n",
       "                if (typeof element == 'undefined') {\n",
       "                    var scripts = document.getElementsByTagName('script');\n",
       "                    var thisScriptTag = scripts[scripts.length-1];\n",
       "                    var parentDiv = thisScriptTag.parentNode;\n",
       "                    e = document.createElement('div');\n",
       "                    parentDiv.appendChild(e);\n",
       "                } else {\n",
       "                    e = element[0];\n",
       "                }\n",
       "\n",
       "                if (typeof requirejs !== 'undefined') {\n",
       "                    // disable load timeout; ipython_app.js is large and can take a while to load.\n",
       "                    requirejs.config({waitSeconds: 0});\n",
       "                }\n",
       "\n",
       "                require(['https://static.turi.com/products/graphlab-create/2.1/canvas/js/ipython_app.js'], function(IPythonApp){\n",
       "                    var app = new IPythonApp();\n",
       "                    app.attachView('sframe','Plots', {\"selected_variable\": {\"name\": [\"all_data_frame\"], \"descriptives\": {\"rows\": 21613, \"columns\": 21}, \"view_component\": \"Plots\", \"view_file\": \"sframe\", \"view_params\": {\"y\": \"price\", \"x\": \"sqft_living\", \"columns\": [\"id\", \"date\", \"price\", \"bedrooms\", \"bathrooms\", \"sqft_living\", \"sqft_lot\", \"floors\", \"waterfront\", \"view\", \"condition\", \"grade\", \"sqft_above\", \"sqft_basement\", \"yr_built\", \"yr_renovated\", \"zipcode\", \"lat\", \"long\", \"sqft_living15\", \"sqft_lot15\"], \"view\": \"Scatter Plot\"}, \"view_components\": [\"Summary\", \"Table\", \"Bar Chart\", \"BoxWhisker Plot\", \"Line Chart\", \"Scatter Plot\", \"Heat Map\", \"Plots\"], \"type\": \"SFrame\", \"columns\": [{\"dtype\": \"int\", \"name\": \"id\"}, {\"dtype\": \"str\", \"name\": \"date\"}, {\"dtype\": \"float\", \"name\": \"price\"}, {\"dtype\": \"int\", \"name\": \"bedrooms\"}, {\"dtype\": \"float\", \"name\": \"bathrooms\"}, {\"dtype\": \"int\", \"name\": \"sqft_living\"}, {\"dtype\": \"int\", \"name\": \"sqft_lot\"}, {\"dtype\": \"float\", \"name\": \"floors\"}, {\"dtype\": \"int\", \"name\": \"waterfront\"}, {\"dtype\": \"int\", \"name\": \"view\"}, {\"dtype\": \"int\", \"name\": \"condition\"}, {\"dtype\": \"int\", \"name\": \"grade\"}, {\"dtype\": \"int\", \"name\": \"sqft_above\"}, {\"dtype\": \"int\", \"name\": \"sqft_basement\"}, {\"dtype\": \"int\", \"name\": \"yr_built\"}, {\"dtype\": \"int\", \"name\": \"yr_renovated\"}, {\"dtype\": \"int\", \"name\": \"zipcode\"}, {\"dtype\": \"float\", \"name\": \"lat\"}, {\"dtype\": \"float\", \"name\": \"long\"}, {\"dtype\": \"int\", \"name\": \"sqft_living15\"}, {\"dtype\": \"int\", \"name\": \"sqft_lot15\"}], \"column_identifiers\": [\"bathrooms\", \"sqft_living15\", \"sqft_above\", \"grade\", \"yr_built\", \"price\", \"bedrooms\", \"zipcode\", \"long\", \"id\", \"sqft_lot15\", \"sqft_living\", \"floors\", \"sqft_lot\", \"date\", \"waterfront\", \"sqft_basement\", \"yr_renovated\", \"lat\", \"condition\", \"view\"]}, \"complete\": 1, \"ipython\": true, \"progress\": 1.0, \"data\": [[3890, 850000.0], [2210, 820000.0], [1160, 250000.0], [1400, 265000.0], [1700, 454000.0], [2220, 405000.0], [1240, 375000.0], [6430, 4489000.0], [1260, 455000.0], [2400, 440000.0], [1500, 379900.0], [4100, 1350000.0], [2570, 287500.0], [3020, 530000.0], [2790, 505000.0], [1840, 552000.0], [1580, 296500.0], [2790, 533112.0], [2000, 620000.0], [1300, 422500.0], [4490, 890000.0], [2140, 302000.0], [2670, 275000.0], [4050, 1005000.0], [2190, 464950.0], [1590, 305000.0], [3220, 710000.0], [1400, 667000.0], [1750, 808250.0], [3790, 1165000.0], [1740, 252000.0], [1600, 280000.0], [1260, 242000.0], [2260, 224950.0], [2257, 349950.0], [3230, 785000.0], [2560, 599000.0], [1770, 289950.0], [4690, 1945000.0], [1910, 485000.0], [1040, 330000.0], [4220, 775000.0], [1489, 265000.0], [1320, 409950.0], [2480, 610000.0], [4410, 1437500.0], [2540, 799990.0], [1290, 275000.0], [1690, 314950.0], [2830, 738000.0], [1920, 510000.0], [1220, 223000.0], [1110, 410500.0], [1130, 411000.0], [2650, 410000.0], [2080, 460000.0], [2210, 590000.0], [4270, 770000.0], [1440, 430000.0], [7480, 800000.0], [2080, 325000.0], [3370, 730000.0], [1400, 474800.0], [2420, 429000.0], [2220, 576750.0], [1530, 250000.0], [1790, 790000.0], [2020, 740000.0], [2050, 300000.0], [3902, 1300000.0], [1720, 210000.0], [3820, 1215000.0], [2190, 770000.0], [1790, 297000.0], [2210, 415000.0], [800, 335950.0], [1010, 289000.0], [1200, 200000.0], [4060, 1600000.0], [1350, 388000.0], [1440, 650000.0], [1110, 320000.0], [2330, 337500.0], [750, 370000.0], [1460, 392137.0], [2600, 300000.0], [1370, 232500.0], [3720, 980000.0], [1060, 220000.0], [850, 360000.0], [1200, 243000.0], [3520, 1099880.0], [2710, 560000.0], [1710, 431000.0], [1740, 612000.0], [2370, 1000000.0], [1580, 727000.0], [1290, 489000.0], [1300, 275000.0], [1660, 265000.0], [2070, 850830.0], [1520, 330000.0], [2990, 814950.0], [1500, 255000.0], [800, 370000.0], [980, 657500.0], [1660, 279000.0], [1300, 251000.0], [2360, 504600.0], [1680, 675000.0], [1540, 542000.0], [1880, 268000.0], [2880, 830000.0], [2460, 535000.0], [2170, 592500.0], [2110, 300000.0], [3390, 1054690.0], [2750, 840000.0], [1740, 410000.0], [3060, 446500.0], [2900, 799950.0], [1410, 365000.0], [2100, 509250.0], [3030, 768000.0], [2210, 465000.0], [2400, 375000.0], [1770, 455000.0], [1200, 464950.0], [3110, 399950.0], [1200, 204000.0], [2410, 334950.0], [1560, 537000.0], [3950, 784000.0], [1660, 638000.0], [1950, 560000.0], [1830, 518000.0], [1740, 300000.0], [2030, 472000.0], [2730, 1338750.0], [2270, 500000.0], [5370, 1350000.0], [1870, 289950.0], [1130, 250000.0], [840, 275000.0], [2380, 652100.0], [1220, 497000.0], [3090, 940000.0], [2420, 430000.0], [3770, 1104500.0], [1430, 511000.0], [1700, 502000.0], [1400, 383000.0], [1590, 395000.0], [3010, 870000.0], [1640, 250000.0], [2020, 599000.0], [4260, 994000.0], [2240, 905000.0], [2100, 506000.0], [2600, 860000.0], [1990, 715000.0], [1630, 650000.0], [3650, 697000.0], [2230, 537000.0], [1450, 430000.0], [1450, 450000.0], [670, 75000.0], [1920, 353000.0], [2540, 750000.0], [1680, 213400.0], [4460, 1800000.0], [1180, 313000.0], [3920, 1165000.0], [1760, 287500.0], [3050, 950000.0], [2470, 630000.0], [1520, 640000.0], [2140, 620000.0], [2860, 724950.0], [1050, 430000.0], [1970, 406500.0], [1750, 234000.0], [1630, 729999.0], [1050, 163500.0], [2000, 513000.0], [1930, 568000.0], [2200, 433500.0], [1550, 1075000.0], [3290, 783350.0], [1340, 409500.0], [1980, 510000.0], [1730, 700000.0], [3080, 300000.0], [1290, 268500.0], [1120, 401000.0], [2502, 453000.0], [2370, 603000.0], [1690, 600000.0], [1170, 209977.0], [2242, 328000.0], [1390, 345000.0], [1400, 483000.0], [6640, 1820000.0], [710, 216500.0], [1930, 326000.0], [1640, 735000.0], [1400, 374500.0], [2410, 608000.0], [1489, 260000.0], [1160, 210000.0], [1080, 411000.0], [1730, 521000.0], [1780, 315000.0], [2660, 583000.0], [3690, 780000.0], [850, 280000.0], [1460, 449000.0], [1840, 512500.0], [1890, 618000.0], [1060, 405000.0], [1170, 260000.0], [2060, 360000.0], [2270, 716000.0], [1760, 715000.0], [2770, 653000.0], [3200, 839000.0], [4040, 2250000.0], [1460, 450000.0], [700, 225000.0], [6400, 1325000.0], [1800, 180500.0], [3300, 510000.0], [5230, 1987500.0], [2270, 446000.0], [3470, 772000.0], [2009, 279000.0], [2220, 416000.0], [2800, 1465000.0], [2490, 700000.0], [1560, 579000.0], [1770, 373000.0], [1090, 249000.0], [930, 141800.0], [1470, 590300.0], [3260, 1880000.0], [1460, 495000.0], [710, 299000.0], [1820, 456000.0], [2010, 250000.0], [1150, 339000.0], [1720, 589000.0], [2490, 390000.0], [2830, 451000.0], [1850, 330000.0], [1090, 143000.0], [1660, 290000.0], [2560, 388000.0], [1430, 522500.0], [1530, 299800.0], [970, 560000.0], [2846, 482000.0], [3340, 655000.0], [1820, 525000.0], [770, 425000.0], [2310, 370000.0], [4670, 1415000.0], [1170, 440000.0], [4000, 570000.0], [2610, 350000.0], [1920, 571000.0], [1550, 525000.0], [3310, 780000.0], [990, 208000.0], [1370, 530000.0], [3270, 765000.0], [4495, 870000.0], [2310, 750000.0], [3470, 672500.0], [860, 390000.0], [1580, 315000.0], [1480, 468000.0], [810, 408000.0], [730, 465000.0], [3655, 740000.0], [1340, 281000.0], [1790, 402200.0], [3440, 905000.0], [1760, 385000.0], [1320, 255000.0], [1860, 430000.0], [1950, 564500.0], [2160, 842500.0], [2160, 360000.0], [1010, 202000.0], [2220, 291375.0], [1358, 311600.0], [1470, 350000.0], [1120, 315000.0], [3640, 1651000.0], [1590, 267500.0], [2300, 417000.0], [2780, 582000.0], [2980, 1625000.0], [2700, 420000.0], [1010, 675000.0], [1410, 301500.0], [2750, 865000.0], [3920, 1650000.0], [2340, 290000.0], [1540, 490000.0], [2370, 834000.0], [2810, 1565000.0], [2990, 575000.0], [2090, 710000.0], [1814, 530000.0], [1840, 645000.0], [2800, 863000.0], [2320, 630000.0], [3410, 1039000.0], [1870, 355000.0], [1770, 355000.0], [1150, 361000.0], [1900, 390000.0], [1680, 572000.0], [1950, 260000.0], [1750, 247000.0], [1400, 510250.0], [3650, 824000.0], [1050, 360000.0], [1920, 635000.0], [1690, 267000.0], [850, 308500.0], [1810, 295000.0], [2210, 1100000.0], [3820, 1620000.0], [2930, 635000.0], [880, 199400.0], [1880, 681000.0], [750, 319000.0], [1120, 325000.0], [1810, 517500.0], [1730, 577450.0], [1410, 760000.0], [2820, 432000.0], [1240, 259950.0], [1000, 165000.0], [1090, 219500.0], [1950, 375000.0], [1800, 485000.0], [1510, 402000.0], [2000, 323000.0], [940, 229000.0], [1180, 400000.0], [1470, 239000.0], [2820, 750000.0], [1180, 600000.0], [1010, 229900.0], [2480, 1050000.0], [3000, 430000.0], [2800, 405000.0], [2410, 720000.0], [970, 184000.0], [1540, 475000.0], [2110, 604950.0], [1010, 440000.0], [1390, 290000.0], [2270, 526750.0], [1790, 410000.0], [2720, 665000.0], [960, 225000.0], [1850, 328000.0], [2060, 543000.0], [2260, 759000.0], [3000, 2400000.0], [2185, 374000.0], [1580, 602000.0], [4230, 879000.0], [1590, 275000.0], [1130, 227000.0], [1320, 300000.0], [900, 133400.0], [2370, 522500.0], [3770, 1495000.0], [990, 620000.0], [2290, 343000.0], [4140, 1400000.0], [590, 156000.0], [1730, 563000.0], [1250, 345000.0], [940, 163500.0], [1050, 209950.0], [1290, 549000.0], [2789, 272000.0], [2550, 345000.0], [1150, 305000.0], [1220, 330000.0], [2490, 520000.0], [2240, 327500.0], [2400, 575000.0], [3400, 475000.0], [1090, 415000.0], [1130, 185000.0], [3020, 715000.0], [920, 255000.0], [2130, 800000.0], [1180, 193000.0], [2020, 430000.0], [3020, 275000.0], [700, 267800.0], [2803, 379000.0], [2030, 562500.0], [1350, 255500.0], [670, 202000.0], [1330, 175000.0], [2100, 380000.0], [2420, 1100000.0], [1380, 475000.0], [1940, 555000.0], [2000, 228000.0], [1490, 700000.0], [2240, 497000.0], [1480, 418000.0], [1590, 290000.0], [2050, 320000.0], [2290, 325500.0], [3090, 850000.0], [3120, 653000.0], [1240, 459000.0], [2320, 451000.0], [720, 235000.0], [1440, 465000.0], [1910, 293000.0], [3160, 848750.0], [3280, 645000.0], [2640, 383000.0], [2500, 319500.0], [2710, 455000.0], [1170, 360000.0], [930, 290000.0], [2830, 820000.0], [1230, 420000.0], [900, 325000.0], [3480, 490000.0], [1550, 530000.0], [1960, 564000.0], [2310, 651100.0], [3545, 1030000.0], [1490, 385000.0], [1450, 175409.0], [1400, 425000.0], [1900, 316000.0], [1240, 153503.0], [2360, 445000.0], [1640, 579000.0], [1400, 220000.0], [1110, 379500.0], [1450, 309950.0], [2140, 270000.0], [860, 315000.0], [940, 725000.0], [1760, 625000.0], [2450, 1550000.0], [2850, 300000.0], [2240, 527000.0], [2190, 925000.0], [2120, 414000.0], [1440, 337000.0], [740, 230500.0], [1330, 348000.0], [1560, 181000.0], [1510, 309950.0], [1800, 272750.0], [1700, 245000.0], [1700, 255000.0], [1560, 545500.0], [1160, 440000.0], [2790, 1160000.0], [2420, 376000.0], [3440, 1305000.0], [2910, 590000.0], [2610, 337000.0], [1790, 249950.0], [1670, 697000.0], [1010, 255000.0], [4860, 1385000.0], [2170, 260000.0], [1560, 273000.0], [3650, 861111.0], [1560, 604000.0], [2510, 400000.0], [2810, 350000.0], [1010, 315000.0], [2140, 485000.0], [1440, 285000.0], [1190, 195000.0], [2420, 279950.0], [1710, 304000.0], [2120, 436000.0], [2070, 560000.0], [790, 399000.0], [1330, 372000.0], [2400, 569000.0], [1880, 455000.0], [3020, 1900000.0], [2520, 598500.0], [2570, 752000.0], [2350, 539000.0], [3390, 350000.0], [2700, 725000.0], [3610, 1015000.0], [890, 285000.0], [1430, 450000.0], [1690, 259900.0], [2800, 550000.0], [1380, 253750.0], [1000, 303000.0], [2060, 415000.0], [2510, 225000.0], [2570, 1170000.0], [3180, 890000.0], [2470, 585000.0], [1500, 250000.0], [2105, 330000.0], [2170, 755000.0], [3900, 1650000.0], [2860, 799000.0], [2450, 550000.0], [1280, 299500.0], [1800, 295000.0], [910, 465000.0], [1230, 220000.0], [1560, 295000.0], [1200, 260000.0], [2720, 549950.0], [4250, 465000.0], [910, 100000.0], [2530, 625000.0], [2400, 335000.0], [2700, 381000.0], [3870, 600000.0], [4280, 995500.0], [1640, 516000.0], [2470, 550000.0], [1120, 266000.0], [1270, 246500.0], [1860, 560000.0], [1210, 710000.0], [1070, 259950.0], [1300, 570000.0], [1260, 259000.0], [2180, 705000.0], [1420, 716000.0], [2970, 699000.0], [2250, 675000.0], [2260, 459000.0], [2190, 524000.0], [2100, 317000.0], [1390, 280000.0], [2510, 267000.0], [1980, 470000.0], [1960, 565000.0], [1010, 290000.0], [2790, 700000.0], [2720, 752500.0], [1700, 331500.0], [3220, 800000.0], [1150, 436000.0], [1990, 310000.0], [3010, 695000.0], [1710, 390000.0], [2280, 535000.0], [1820, 423000.0], [1960, 410000.0], [1360, 450000.0], [1270, 259000.0], [2020, 397000.0], [1870, 355000.0], [2130, 546500.0], [1960, 552321.0], [3270, 797500.0], [1940, 265000.0], [4160, 1850000.0], [2130, 730000.0], [840, 86500.0], [2020, 640000.0], [2880, 525000.0], [2790, 445000.0], [1210, 355000.0], [1640, 832600.0], [1320, 475000.0], [2420, 675000.0], [2020, 458000.0], [2900, 630000.0], [1140, 249900.0], [3380, 328000.0], [2570, 519000.0], [2070, 490000.0], [1670, 375000.0], [1850, 510000.0], [3200, 1220000.0], [1120, 240000.0], [710, 264000.0], [2120, 278000.0], [1250, 405000.0], [2770, 820000.0], [3030, 455000.0], [1260, 445000.0], [1090, 345000.0], [3220, 640000.0], [1320, 292000.0], [2810, 454450.0], [1380, 505000.0], [1930, 533600.0], [2640, 395000.0], [1010, 350000.0], [740, 213800.0], [2120, 425000.0], [670, 185000.0], [1970, 690000.0], [2910, 805000.0], [1290, 225000.0], [2060, 577000.0], [1300, 374990.0], [1370, 170000.0], [1140, 340000.0], [1200, 365000.0], [1710, 411753.0], [1900, 1042500.0], [1830, 467500.0], [1880, 520500.0], [2040, 435000.0], [2040, 610000.0], [2200, 295000.0], [2490, 360000.0], [2030, 435000.0], [1210, 305000.0], [1200, 214000.0], [2820, 599000.0], [800, 299950.0], [1130, 325000.0], [2680, 475000.0], [2020, 400000.0], [1950, 540000.0], [2030, 700000.0], [1860, 400000.0], [1410, 439900.0], [1530, 245000.0], [2970, 599000.0], [2760, 369950.0], [2620, 460000.0], [1870, 375000.0], [1090, 474000.0], [1990, 328000.0], [2020, 650000.0], [2350, 410000.0], [1450, 375000.0], [1980, 428000.0], [1030, 326000.0], [1720, 323000.0], [1660, 412500.0], [1360, 415000.0], [2570, 1215000.0], [1190, 441000.0], [1630, 280000.0], [1370, 276200.0], [1290, 359950.0], [2245, 389990.0], [1240, 543000.0], [1950, 290000.0], [3390, 835000.0], [1300, 431000.0], [1060, 182000.0], [890, 391000.0], [1800, 865000.0], [2010, 774000.0], [2350, 880000.0], [2870, 525000.0], [2080, 825000.0], [2470, 565000.0], [2180, 480500.0], [780, 180000.0], [1690, 345000.0], [1390, 306500.0], [2390, 519500.0], [1840, 472800.0], [860, 580000.0], [2570, 329000.0], [1770, 667000.0], [1820, 320000.0], [1500, 396000.0], [1120, 230000.0], [2820, 735000.0], [1410, 500000.0], [4250, 1530000.0], [2360, 875000.0], [1620, 399000.0], [1690, 399990.0], [2760, 600000.0], [1480, 350000.0], [3870, 645000.0], [3000, 394000.0], [1840, 513000.0], [2860, 740000.0], [3260, 810000.0], [1960, 325000.0], [1720, 547500.0], [950, 445000.0], [1960, 724950.0], [1490, 310000.0], [4460, 490000.0], [1160, 380000.0], [1230, 387000.0], [3240, 605000.0], [1280, 215000.0], [1550, 405000.0], [1450, 357500.0], [2360, 499900.0], [2230, 809950.0], [1720, 525000.0], [2450, 559950.0], [2520, 525300.0], [1200, 263700.0], [2100, 550000.0], [1260, 300000.0], [2090, 315000.0], [1900, 542000.0], [1140, 460000.0], [2320, 485500.0], [2070, 503000.0], [910, 280000.0], [2900, 310000.0], [1210, 324950.0], [1580, 265000.0], [1930, 285000.0], [1060, 353250.0], [2440, 575000.0], [3570, 725000.0], [1420, 264250.0], [2120, 493000.0], [1670, 587100.0], [1820, 659500.0], [1810, 585000.0], [1580, 325000.0], [2620, 725000.0], [2910, 1850000.0], [1230, 325000.0], [2120, 455000.0], [4340, 537500.0], [1390, 550000.0], [2780, 1650000.0], [4140, 565000.0], [1640, 540000.0], [830, 200000.0], [1040, 210000.0], [2730, 350000.0], [1480, 490000.0], [2740, 315000.0], [3000, 705000.0], [2320, 600000.0], [1980, 615000.0], [1040, 225000.0], [2000, 236000.0], [1880, 412000.0], [3240, 654000.0], [1830, 230000.0], [3220, 359999.0], [2900, 485000.0], [1120, 552000.0], [1980, 560000.0], [3420, 975000.0], [3192, 427000.0], [1070, 217500.0], [2960, 750000.0], [4460, 1059000.0], [2050, 550000.0], [1900, 550000.0], [2280, 345000.0], [2210, 445000.0], [2220, 320000.0], [2670, 575000.0], [1720, 275000.0], [2500, 646000.0], [950, 515000.0], [1490, 604000.0], [2700, 1557600.0], [1620, 299000.0], [1845, 510000.0], [1220, 280500.0], [4150, 988990.0], [1110, 255000.0], [2250, 476500.0], [2810, 675000.0], [2330, 350000.0], [1990, 620000.0], [1970, 780000.0], [1350, 350000.0], [670, 435000.0], [3400, 715000.0], [1760, 285000.0], [1060, 578888.0], [1660, 350000.0], [1880, 407193.0], [960, 175000.0], [2300, 294000.0], [1710, 525000.0], [2130, 1300000.0], [1280, 364000.0], [3280, 1875000.0], [1300, 610000.0], [2100, 610000.0], [1651, 285000.0], [1190, 238950.0], [1530, 352000.0], [2000, 360000.0], [4130, 900000.0], [4470, 885000.0], [2370, 398096.0], [1820, 369000.0], [1000, 715000.0], [2300, 615000.0], [2020, 366000.0], [3010, 600000.0], [2180, 473000.0], [2220, 437000.0], [1300, 369500.0], [2790, 450000.0], [2500, 575000.0], [2040, 417000.0], [1320, 249950.0], [1930, 700000.0], [1770, 514000.0], [3597, 330000.0], [1840, 285000.0], [2640, 387990.0], [1250, 385000.0], [2080, 555000.0], [1430, 350000.0], [1350, 595000.0], [3680, 909000.0], [1250, 505000.0], [1180, 289900.0], [770, 378510.0], [1280, 738000.0], [3990, 825000.0], [1220, 240000.0], [1970, 385000.0], [1320, 259000.0], [1830, 448500.0], [1210, 239000.0], [1920, 433000.0], [1390, 319000.0], [930, 351000.0], [1520, 438000.0], [1510, 265000.0], [940, 250000.0], [930, 500000.0], [550, 115000.0], [1120, 310000.0], [1350, 300000.0], [960, 199999.0], [2240, 480000.0], [1280, 252500.0], [3040, 840000.0], [1050, 206000.0], [1210, 570000.0], [1420, 275000.0], [2820, 585000.0], [1300, 300000.0], [2880, 1989000.0], [2180, 289999.0], [1920, 719521.0], [2500, 411000.0], [770, 310000.0], [1870, 285000.0], [1270, 335000.0], [1550, 650000.0], [2910, 810000.0], [1910, 390000.0], [1020, 229000.0], [960, 237000.0], [1260, 414900.0], [2500, 620000.0], [1540, 324000.0], [2000, 725000.0], [1290, 500000.0], [2080, 480000.0], [960, 300000.0], [1160, 370000.0], [1830, 430000.0], [2040, 760000.0], [800, 325000.0], [5450, 610000.0], [1300, 244500.0], [3010, 998160.0], [1430, 574500.0], [2040, 480000.0], [2410, 625000.0], [2190, 391000.0], [1840, 380000.0], [980, 128000.0], [1820, 499950.0], [1867, 378950.0], [1560, 306000.0], [2600, 749950.0], [1480, 300000.0], [3361, 471275.0], [2520, 335000.0], [2020, 345000.0], [2160, 550000.0], [3670, 1500000.0], [1020, 360000.0], [2730, 625000.0], [2270, 645000.0], [2170, 655000.0], [3940, 1965000.0], [1870, 594000.0], [3240, 1288000.0], [1330, 527700.0], [1430, 485000.0], [1490, 184000.0], [2601, 625000.0], [2080, 254000.0], [1900, 921500.0], [1594, 269000.0], [2180, 254950.0], [2410, 610000.0], [1770, 450000.0], [3920, 918000.0], [2370, 687000.0], [1350, 499950.0], [1390, 589000.0], [2930, 785000.0], [4350, 2538000.0], [940, 473000.0], [1690, 270000.0], [2760, 600000.0], [1880, 725000.0], [1390, 425000.0], [1570, 360000.0], [820, 489950.0], [3830, 963990.0], [1990, 537000.0], [4610, 960000.0], [1010, 308000.0], [4030, 920000.0], [2460, 638250.0], [1140, 476000.0], [2950, 810000.0], [1630, 550000.0], [2140, 362950.0], [1260, 451000.0], [1920, 235000.0], [3040, 420000.0], [2020, 720000.0], [2340, 428000.0], [3040, 431000.0], [2040, 325900.0], [1660, 247500.0], [1190, 230000.0], [1670, 580000.0], [3860, 1755000.0], [2720, 550000.0], [2260, 599000.0], [1480, 370000.0], [1990, 852000.0], [2700, 1060000.0], [1600, 280000.0], [1610, 293000.0], [1640, 527000.0], [1560, 549010.0], [1040, 154000.0], [1770, 671500.0], [1370, 460000.0], [5120, 1237500.0], [1660, 288000.0], [1580, 264500.0], [2760, 445000.0], [5090, 3100000.0], [1110, 532000.0], [970, 339300.0], [1970, 460000.0], [2540, 628990.0], [2100, 567000.0], [3030, 525000.0], [2770, 907500.0], [3050, 555000.0], [2460, 568500.0], [1770, 264950.0], [2640, 537000.0], [3080, 950000.0], [1960, 660000.0], [950, 320000.0], [1680, 359000.0], [840, 445000.0], [2030, 420000.0], [3100, 1125000.0], [1590, 199950.0], [1700, 475000.0], [910, 306000.0], [2170, 460500.0]], \"columns\": [{\"dtype\": \"int\", \"name\": \"id\"}, {\"dtype\": \"str\", \"name\": \"date\"}, {\"dtype\": \"float\", \"name\": \"price\"}, {\"dtype\": \"int\", \"name\": \"bedrooms\"}, {\"dtype\": \"float\", \"name\": \"bathrooms\"}, {\"dtype\": \"int\", \"name\": \"sqft_living\"}, {\"dtype\": \"int\", \"name\": \"sqft_lot\"}, {\"dtype\": \"float\", \"name\": \"floors\"}, {\"dtype\": \"int\", \"name\": \"waterfront\"}, {\"dtype\": \"int\", \"name\": \"view\"}, {\"dtype\": \"int\", \"name\": \"condition\"}, {\"dtype\": \"int\", \"name\": \"grade\"}, {\"dtype\": \"int\", \"name\": \"sqft_above\"}, {\"dtype\": \"int\", \"name\": \"sqft_basement\"}, {\"dtype\": \"int\", \"name\": \"yr_built\"}, {\"dtype\": \"int\", \"name\": \"yr_renovated\"}, {\"dtype\": \"int\", \"name\": \"zipcode\"}, {\"dtype\": \"float\", \"name\": \"lat\"}, {\"dtype\": \"float\", \"name\": \"long\"}, {\"dtype\": \"int\", \"name\": \"sqft_living15\"}, {\"dtype\": \"int\", \"name\": \"sqft_lot15\"}]}, e);\n",
       "                });\n",
       "            })();\n",
       "        "
      ]
     },
     "metadata": {},
     "output_type": "display_data"
    }
   ],
   "source": [
    "#scatter plot for sqft_living and price\n",
    "all_data_frame.show(view=\"Scatter Plot\", x=\"sqft_living\", y=\"price\")"
   ]
  },
  {
   "cell_type": "code",
   "execution_count": 9,
   "metadata": {
    "collapsed": false
   },
   "outputs": [
    {
     "data": {
      "text/html": [
       "<pre>Linear regression:</pre>"
      ],
      "text/plain": [
       "Linear regression:"
      ]
     },
     "metadata": {},
     "output_type": "display_data"
    },
    {
     "data": {
      "text/html": [
       "<pre>--------------------------------------------------------</pre>"
      ],
      "text/plain": [
       "--------------------------------------------------------"
      ]
     },
     "metadata": {},
     "output_type": "display_data"
    },
    {
     "data": {
      "text/html": [
       "<pre>Number of examples          : 17384</pre>"
      ],
      "text/plain": [
       "Number of examples          : 17384"
      ]
     },
     "metadata": {},
     "output_type": "display_data"
    },
    {
     "data": {
      "text/html": [
       "<pre>Number of features          : 1</pre>"
      ],
      "text/plain": [
       "Number of features          : 1"
      ]
     },
     "metadata": {},
     "output_type": "display_data"
    },
    {
     "data": {
      "text/html": [
       "<pre>Number of unpacked features : 1</pre>"
      ],
      "text/plain": [
       "Number of unpacked features : 1"
      ]
     },
     "metadata": {},
     "output_type": "display_data"
    },
    {
     "data": {
      "text/html": [
       "<pre>Number of coefficients    : 2</pre>"
      ],
      "text/plain": [
       "Number of coefficients    : 2"
      ]
     },
     "metadata": {},
     "output_type": "display_data"
    },
    {
     "data": {
      "text/html": [
       "<pre>Starting Newton Method</pre>"
      ],
      "text/plain": [
       "Starting Newton Method"
      ]
     },
     "metadata": {},
     "output_type": "display_data"
    },
    {
     "data": {
      "text/html": [
       "<pre>--------------------------------------------------------</pre>"
      ],
      "text/plain": [
       "--------------------------------------------------------"
      ]
     },
     "metadata": {},
     "output_type": "display_data"
    },
    {
     "data": {
      "text/html": [
       "<pre>+-----------+----------+--------------+--------------------+---------------+</pre>"
      ],
      "text/plain": [
       "+-----------+----------+--------------+--------------------+---------------+"
      ]
     },
     "metadata": {},
     "output_type": "display_data"
    },
    {
     "data": {
      "text/html": [
       "<pre>| Iteration | Passes   | Elapsed Time | Training-max_error | Training-rmse |</pre>"
      ],
      "text/plain": [
       "| Iteration | Passes   | Elapsed Time | Training-max_error | Training-rmse |"
      ]
     },
     "metadata": {},
     "output_type": "display_data"
    }
   ],
   "source": [
    "#time to create our model!\n",
    "#split data for train and test\n",
    "train_data,test_data = all_data_frame.random_split(.8,seed=0)\n",
    "sqft_linear_model = graphlab.linear_regression.create(train_data, target='price', features=['sqft_living'],validation_set=None)"
   ]
  },
  {
   "cell_type": "code",
   "execution_count": 10,
   "metadata": {
    "collapsed": false
   },
   "outputs": [
    {
     "data": {
      "text/html": [
       "<pre>+-----------+----------+--------------+--------------------+---------------+</pre>"
      ],
      "text/plain": [
       "+-----------+----------+--------------+--------------------+---------------+"
      ]
     },
     "metadata": {},
     "output_type": "display_data"
    },
    {
     "name": "stdout",
     "output_type": "stream",
     "text": [
      "262943.613519\n",
      "{'max_error': 4143550.874517013, 'rmse': 255191.02748709585}\n"
     ]
    },
    {
     "data": {
      "text/html": [
       "<pre>| 1         | 2        | 1.027905     | 4349521.915863     | 262943.613519 |</pre>"
      ],
      "text/plain": [
       "| 1         | 2        | 1.027905     | 4349521.915863     | 262943.613519 |"
      ]
     },
     "metadata": {},
     "output_type": "display_data"
    },
    {
     "data": {
      "text/html": [
       "<pre>+-----------+----------+--------------+--------------------+---------------+</pre>"
      ],
      "text/plain": [
       "+-----------+----------+--------------+--------------------+---------------+"
      ]
     },
     "metadata": {},
     "output_type": "display_data"
    },
    {
     "data": {
      "text/html": [
       "<pre>SUCCESS: Optimal solution found.</pre>"
      ],
      "text/plain": [
       "SUCCESS: Optimal solution found."
      ]
     },
     "metadata": {},
     "output_type": "display_data"
    },
    {
     "data": {
      "text/html": [
       "<pre></pre>"
      ],
      "text/plain": []
     },
     "metadata": {},
     "output_type": "display_data"
    },
    {
     "data": {
      "text/html": [
       "<div style=\"max-height:1000px;max-width:1500px;overflow:auto;\"><table frame=\"box\" rules=\"cols\">\n",
       "    <tr>\n",
       "        <th style=\"padding-left: 1em; padding-right: 1em; text-align: center\">name</th>\n",
       "        <th style=\"padding-left: 1em; padding-right: 1em; text-align: center\">index</th>\n",
       "        <th style=\"padding-left: 1em; padding-right: 1em; text-align: center\">value</th>\n",
       "        <th style=\"padding-left: 1em; padding-right: 1em; text-align: center\">stderr</th>\n",
       "    </tr>\n",
       "    <tr>\n",
       "        <td style=\"padding-left: 1em; padding-right: 1em; text-align: center; vertical-align: top\">(intercept)</td>\n",
       "        <td style=\"padding-left: 1em; padding-right: 1em; text-align: center; vertical-align: top\">None</td>\n",
       "        <td style=\"padding-left: 1em; padding-right: 1em; text-align: center; vertical-align: top\">-47114.0231682</td>\n",
       "        <td style=\"padding-left: 1em; padding-right: 1em; text-align: center; vertical-align: top\">4923.34437313</td>\n",
       "    </tr>\n",
       "    <tr>\n",
       "        <td style=\"padding-left: 1em; padding-right: 1em; text-align: center; vertical-align: top\">sqft_living</td>\n",
       "        <td style=\"padding-left: 1em; padding-right: 1em; text-align: center; vertical-align: top\">None</td>\n",
       "        <td style=\"padding-left: 1em; padding-right: 1em; text-align: center; vertical-align: top\">281.957851229</td>\n",
       "        <td style=\"padding-left: 1em; padding-right: 1em; text-align: center; vertical-align: top\">2.1640546513</td>\n",
       "    </tr>\n",
       "</table>\n",
       "[2 rows x 4 columns]<br/>\n",
       "</div>"
      ],
      "text/plain": [
       "Columns:\n",
       "\tname\tstr\n",
       "\tindex\tstr\n",
       "\tvalue\tfloat\n",
       "\tstderr\tfloat\n",
       "\n",
       "Rows: 2\n",
       "\n",
       "Data:\n",
       "+-------------+-------+----------------+---------------+\n",
       "|     name    | index |     value      |     stderr    |\n",
       "+-------------+-------+----------------+---------------+\n",
       "| (intercept) |  None | -47114.0231682 | 4923.34437313 |\n",
       "| sqft_living |  None | 281.957851229  |  2.1640546513 |\n",
       "+-------------+-------+----------------+---------------+\n",
       "[2 rows x 4 columns]"
      ]
     },
     "execution_count": 10,
     "metadata": {},
     "output_type": "execute_result"
    }
   ],
   "source": [
    "#What about errors?\n",
    "print sqft_linear_model.training_rmse\n",
    "print sqft_linear_model.evaluate(test_data)\n",
    "sqft_linear_model.get('coefficients')"
   ]
  },
  {
   "cell_type": "code",
   "execution_count": 11,
   "metadata": {
    "collapsed": false
   },
   "outputs": [
    {
     "data": {
      "text/plain": [
       "[<matplotlib.lines.Line2D at 0x11daec4d0>,\n",
       " <matplotlib.lines.Line2D at 0x11daec990>]"
      ]
     },
     "execution_count": 11,
     "metadata": {},
     "output_type": "execute_result"
    },
    {
     "data": {
      "image/png": "[encoded data removed]",
      "text/plain": [
       "<matplotlib.figure.Figure at 0x11ddeec10>"
      ]
     },
     "metadata": {},
     "output_type": "display_data"
    }
   ],
   "source": [
    "#lets see it on plot\n",
    "plt.plot(test_data['sqft_living'],test_data['price'],'.',\n",
    "        test_data['sqft_living'],sqft_linear_model.predict(test_data),'-')"
   ]
  },
  {
   "cell_type": "code",
   "execution_count": 12,
   "metadata": {
    "collapsed": false
   },
   "outputs": [
    {
     "name": "stdout",
     "output_type": "stream",
     "text": [
      "269900.0\n",
      "[384281.4892116396]\n",
      "[180000.0]\n",
      "[169993.52227788075]\n",
      "[610685.0]\n",
      "[663419.7619279834]\n"
     ]
    }
   ],
   "source": [
    "#not the best model, isn't it?\n",
    "house_sqft_1 = all_data_frame.filter_by(1530, 'sqft_living')[0]\n",
    "print house_sqft_1['price']\n",
    "print sqft_linear_model.predict(house_sqft_1)\n",
    "\n",
    "house1 = all_data_frame.filter_by(5631500400, 'id')\n",
    "print house1['price']\n",
    "print sqft_linear_model.predict(house1)\n",
    "\n",
    "house2 = all_data_frame.filter_by(3448900210, 'id')\n",
    "print house2['price']\n",
    "print sqft_linear_model.predict(house2)"
   ]
  },
  {
   "cell_type": "code",
   "execution_count": 13,
   "metadata": {
    "collapsed": false
   },
   "outputs": [
    {
     "data": {
      "text/html": [
       "<pre>Boosted trees regression:</pre>"
      ],
      "text/plain": [
       "Boosted trees regression:"
      ]
     },
     "metadata": {},
     "output_type": "display_data"
    },
    {
     "data": {
      "text/html": [
       "<pre>--------------------------------------------------------</pre>"
      ],
      "text/plain": [
       "--------------------------------------------------------"
      ]
     },
     "metadata": {},
     "output_type": "display_data"
    },
    {
     "data": {
      "text/html": [
       "<pre>Number of examples          : 17384</pre>"
      ],
      "text/plain": [
       "Number of examples          : 17384"
      ]
     },
     "metadata": {},
     "output_type": "display_data"
    },
    {
     "data": {
      "text/html": [
       "<pre>Number of features          : 1</pre>"
      ],
      "text/plain": [
       "Number of features          : 1"
      ]
     },
     "metadata": {},
     "output_type": "display_data"
    },
    {
     "data": {
      "text/html": [
       "<pre>Number of unpacked features : 1</pre>"
      ],
      "text/plain": [
       "Number of unpacked features : 1"
      ]
     },
     "metadata": {},
     "output_type": "display_data"
    },
    {
     "data": {
      "text/html": [
       "<pre>+-----------+--------------+--------------------+---------------+</pre>"
      ],
      "text/plain": [
       "+-----------+--------------+--------------------+---------------+"
      ]
     },
     "metadata": {},
     "output_type": "display_data"
    },
    {
     "data": {
      "text/html": [
       "<pre>| Iteration | Elapsed Time | Training-max_error | Training-rmse |</pre>"
      ],
      "text/plain": [
       "| Iteration | Elapsed Time | Training-max_error | Training-rmse |"
      ]
     },
     "metadata": {},
     "output_type": "display_data"
    },
    {
     "data": {
      "text/html": [
       "<pre>+-----------+--------------+--------------------+---------------+</pre>"
      ],
      "text/plain": [
       "+-----------+--------------+--------------------+---------------+"
      ]
     },
     "metadata": {},
     "output_type": "display_data"
    },
    {
     "data": {
      "text/html": [
       "<pre>| 1         | 0.013951     | 6311689.500000     | 491358.468750 |</pre>"
      ],
      "text/plain": [
       "| 1         | 0.013951     | 6311689.500000     | 491358.468750 |"
      ]
     },
     "metadata": {},
     "output_type": "display_data"
    },
    {
     "data": {
      "text/html": [
       "<pre>| 2         | 0.021349     | 5293596.000000     | 386686.187500 |</pre>"
      ],
      "text/plain": [
       "| 2         | 0.021349     | 5293596.000000     | 386686.187500 |"
      ]
     },
     "metadata": {},
     "output_type": "display_data"
    },
    {
     "data": {
      "text/html": [
       "<pre>| 3         | 0.029429     | 4371103.000000     | 322246.531250 |</pre>"
      ],
      "text/plain": [
       "| 3         | 0.029429     | 4371103.000000     | 322246.531250 |"
      ]
     },
     "metadata": {},
     "output_type": "display_data"
    },
    {
     "data": {
      "text/html": [
       "<pre>| 4         | 0.036849     | 3716847.000000     | 284406.031250 |</pre>"
      ],
      "text/plain": [
       "| 4         | 0.036849     | 3716847.000000     | 284406.031250 |"
      ]
     },
     "metadata": {},
     "output_type": "display_data"
    },
    {
     "data": {
      "text/html": [
       "<pre>| 5         | 0.045122     | 3037227.500000     | 262934.843750 |</pre>"
      ],
      "text/plain": [
       "| 5         | 0.045122     | 3037227.500000     | 262934.843750 |"
      ]
     },
     "metadata": {},
     "output_type": "display_data"
    },
    {
     "data": {
      "text/html": [
       "<pre>| 6         | 0.052982     | 2493532.000000     | 251163.484375 |</pre>"
      ],
      "text/plain": [
       "| 6         | 0.052982     | 2493532.000000     | 251163.484375 |"
      ]
     },
     "metadata": {},
     "output_type": "display_data"
    },
    {
     "data": {
      "text/html": [
       "<pre>+-----------+--------------+--------------------+---------------+</pre>"
      ],
      "text/plain": [
       "+-----------+--------------+--------------------+---------------+"
      ]
     },
     "metadata": {},
     "output_type": "display_data"
    }
   ],
   "source": [
    "#maybe graphlab will help us\n",
    "train_data,test_data = all_data_frame.random_split(.8,seed=0)\n",
    "sqft_trees_model_reg = graphlab.regression.create(train_data, target='price', features=['sqft_living'],validation_set=None)"
   ]
  },
  {
   "cell_type": "code",
   "execution_count": 14,
   "metadata": {
    "collapsed": false
   },
   "outputs": [
    {
     "data": {
      "text/plain": [
       "[<matplotlib.lines.Line2D at 0x120c20fd0>,\n",
       " <matplotlib.lines.Line2D at 0x120c0f0d0>]"
      ]
     },
     "execution_count": 14,
     "metadata": {},
     "output_type": "execute_result"
    },
    {
     "data": {
      "image/png": "[encoded data removed]",
      "text/plain": [
       "<matplotlib.figure.Figure at 0x11dc35e90>"
      ]
     },
     "metadata": {},
     "output_type": "display_data"
    }
   ],
   "source": [
    "#looks odd\n",
    "plt.plot(test_data['sqft_living'],test_data['price'],'.',\n",
    "        test_data['sqft_living'],sqft_trees_model_reg.predict(test_data),'-')"
   ]
  },
  {
   "cell_type": "code",
   "execution_count": 15,
   "metadata": {
    "collapsed": false
   },
   "outputs": [
    {
     "name": "stdout",
     "output_type": "stream",
     "text": [
      "237207.328125\n",
      "{'max_error': 2104453.25, 'rmse': 243363.25455260428}\n",
      "269900.0\n",
      "[409591.84375]\n",
      "[180000.0]\n",
      "[270168.96875]\n",
      "[610685.0]\n",
      "[563811.0625]\n"
     ]
    }
   ],
   "source": [
    "#even worst!\n",
    "print sqft_trees_model_reg.training_rmse\n",
    "print sqft_trees_model_reg.evaluate(test_data)\n",
    "house_sqft_1 = all_data_frame.filter_by(1530, 'sqft_living')[0]\n",
    "print house_sqft_1['price']\n",
    "print sqft_trees_model_reg.predict(house_sqft_1)\n",
    "print house1['price']\n",
    "print sqft_trees_model_reg.predict(house1)\n",
    "print house2['price']\n",
    "print sqft_trees_model_reg.predict(house2)"
   ]
  },
  {
   "cell_type": "code",
   "execution_count": 16,
   "metadata": {
    "collapsed": false,
    "scrolled": false
   },
   "outputs": [
    {
     "data": {
      "application/javascript": [
       "$(\"head\").append($(\"<link/>\").attr({\n",
       "  rel:  \"stylesheet\",\n",
       "  type: \"text/css\",\n",
       "  href: \"//cdnjs.cloudflare.com/ajax/libs/font-awesome/4.1.0/css/font-awesome.min.css\"\n",
       "}));\n",
       "$(\"head\").append($(\"<link/>\").attr({\n",
       "  rel:  \"stylesheet\",\n",
       "  type: \"text/css\",\n",
       "  href: \"https://static.turi.com/products/graphlab-create/2.1/canvas/css/canvas.css\"\n",
       "}));\n",
       "\n",
       "            (function(){\n",
       "\n",
       "                var e = null;\n",
       "                if (typeof element == 'undefined') {\n",
       "                    var scripts = document.getElementsByTagName('script');\n",
       "                    var thisScriptTag = scripts[scripts.length-1];\n",
       "                    var parentDiv = thisScriptTag.parentNode;\n",
       "                    e = document.createElement('div');\n",
       "                    parentDiv.appendChild(e);\n",
       "                } else {\n",
       "                    e = element[0];\n",
       "                }\n",
       "\n",
       "                if (typeof requirejs !== 'undefined') {\n",
       "                    // disable load timeout; ipython_app.js is large and can take a while to load.\n",
       "                    requirejs.config({waitSeconds: 0});\n",
       "                }\n",
       "\n",
       "                require(['https://static.turi.com/products/graphlab-create/2.1/canvas/js/ipython_app.js'], function(IPythonApp){\n",
       "                    var app = new IPythonApp();\n",
       "                    app.attachView('sframe','Plots', {\"selected_variable\": {\"name\": [\"all_data_frame\"], \"descriptives\": {\"rows\": 21613, \"columns\": 21}, \"view_component\": \"Plots\", \"view_file\": \"sframe\", \"view_params\": {\"y\": \"price\", \"x\": \"bedrooms\", \"columns\": [\"id\", \"date\", \"price\", \"bedrooms\", \"bathrooms\", \"sqft_living\", \"sqft_lot\", \"floors\", \"waterfront\", \"view\", \"condition\", \"grade\", \"sqft_above\", \"sqft_basement\", \"yr_built\", \"yr_renovated\", \"zipcode\", \"lat\", \"long\", \"sqft_living15\", \"sqft_lot15\"], \"view\": \"Scatter Plot\"}, \"view_components\": [\"Summary\", \"Table\", \"Bar Chart\", \"BoxWhisker Plot\", \"Line Chart\", \"Scatter Plot\", \"Heat Map\", \"Plots\"], \"type\": \"SFrame\", \"columns\": [{\"dtype\": \"int\", \"name\": \"id\"}, {\"dtype\": \"str\", \"name\": \"date\"}, {\"dtype\": \"float\", \"name\": \"price\"}, {\"dtype\": \"int\", \"name\": \"bedrooms\"}, {\"dtype\": \"float\", \"name\": \"bathrooms\"}, {\"dtype\": \"int\", \"name\": \"sqft_living\"}, {\"dtype\": \"int\", \"name\": \"sqft_lot\"}, {\"dtype\": \"float\", \"name\": \"floors\"}, {\"dtype\": \"int\", \"name\": \"waterfront\"}, {\"dtype\": \"int\", \"name\": \"view\"}, {\"dtype\": \"int\", \"name\": \"condition\"}, {\"dtype\": \"int\", \"name\": \"grade\"}, {\"dtype\": \"int\", \"name\": \"sqft_above\"}, {\"dtype\": \"int\", \"name\": \"sqft_basement\"}, {\"dtype\": \"int\", \"name\": \"yr_built\"}, {\"dtype\": \"int\", \"name\": \"yr_renovated\"}, {\"dtype\": \"int\", \"name\": \"zipcode\"}, {\"dtype\": \"float\", \"name\": \"lat\"}, {\"dtype\": \"float\", \"name\": \"long\"}, {\"dtype\": \"int\", \"name\": \"sqft_living15\"}, {\"dtype\": \"int\", \"name\": \"sqft_lot15\"}], \"column_identifiers\": [\"bathrooms\", \"sqft_living15\", \"sqft_above\", \"grade\", \"yr_built\", \"price\", \"bedrooms\", \"zipcode\", \"long\", \"id\", \"sqft_lot15\", \"sqft_living\", \"floors\", \"sqft_lot\", \"date\", \"waterfront\", \"sqft_basement\", \"yr_renovated\", \"lat\", \"condition\", \"view\"]}, \"complete\": 1, \"ipython\": true, \"progress\": 1.0, \"data\": [[4, 1400000.0], [3, 606000.0], [2, 431500.0], [2, 386180.0], [3, 360000.0], [2, 512000.0], [3, 325000.0], [3, 364808.0], [3, 320000.0], [3, 485000.0], [2, 405100.0], [3, 420000.0], [4, 230000.0], [4, 525000.0], [3, 410000.0], [2, 498800.0], [4, 558000.0], [3, 251000.0], [5, 314000.0], [4, 436000.0], [3, 470000.0], [2, 592500.0], [3, 825000.0], [2, 205000.0], [4, 425000.0], [4, 601000.0], [5, 473000.0], [3, 374900.0], [3, 561000.0], [4, 771000.0], [4, 367000.0], [2, 478000.0], [3, 325000.0], [2, 395000.0], [4, 285000.0], [3, 311000.0], [3, 290000.0], [2, 865000.0], [4, 290000.0], [3, 242000.0], [3, 133400.0], [4, 800000.0], [3, 355000.0], [4, 592500.0], [2, 250000.0], [4, 335000.0], [5, 1250000.0], [3, 439000.0], [3, 328423.0], [4, 3204000.0], [4, 235000.0], [4, 950000.0], [4, 801501.0], [2, 380000.0], [4, 1928000.0], [3, 270000.0], [3, 225000.0], [3, 260000.0], [3, 370000.0], [3, 1600000.0], [3, 232500.0], [4, 1425000.0], [3, 360000.0], [5, 2500000.0], [3, 608000.0], [3, 1387800.0], [4, 750000.0], [3, 621500.0], [3, 552000.0], [5, 1325000.0], [3, 575000.0], [3, 315000.0], [3, 375000.0], [3, 399900.0], [3, 340000.0], [4, 275000.0], [4, 435000.0], [4, 585000.0], [3, 350000.0], [2, 155000.0], [4, 380000.0], [2, 176000.0], [2, 230000.0], [3, 685000.0], [3, 315000.0], [2, 289000.0], [2, 550000.0], [4, 610000.0], [4, 390000.0], [4, 571000.0], [3, 300000.0], [3, 367950.0], [4, 430000.0], [4, 314000.0], [4, 710200.0], [4, 464900.0], [3, 169000.0], [4, 199000.0], [4, 355000.0], [3, 625000.0], [3, 850830.0], [3, 330000.0], [3, 529941.0], [3, 814842.0], [3, 441500.0], [4, 260000.0], [5, 640000.0], [4, 865000.0], [3, 472500.0], [3, 286651.0], [4, 475000.0], [2, 255000.0], [4, 325000.0], [2, 207100.0], [4, 4489000.0], [4, 569950.0], [2, 995000.0], [4, 429900.0], [3, 396450.0], [3, 374500.0], [3, 936000.0], [4, 562500.0], [3, 570000.0], [3, 1100000.0], [4, 763000.0], [2, 555000.0], [3, 255000.0], [4, 817500.0], [4, 734500.0], [2, 425000.0], [4, 1130000.0], [3, 2230000.0], [2, 210000.0], [6, 540000.0], [3, 718000.0], [4, 533000.0], [4, 699950.0], [6, 535000.0], [4, 484998.0], [3, 250000.0], [3, 410000.0], [2, 125000.0], [4, 700000.0], [3, 420000.0], [3, 590000.0], [4, 518000.0], [3, 590000.0], [4, 330000.0], [3, 742000.0], [5, 818500.0], [5, 1307000.0], [4, 301000.0], [3, 502000.0], [4, 300000.0], [2, 930000.0], [2, 325000.0], [3, 350000.0], [4, 710000.0], [3, 500000.0], [3, 438500.0], [2, 500000.0], [4, 820000.0], [3, 340000.0], [2, 402000.0], [5, 708000.0], [4, 413900.0], [4, 695000.0], [3, 729000.0], [3, 535500.0], [2, 428000.0], [4, 370000.0], [2, 389000.0], [3, 313000.0], [3, 490000.0], [3, 670000.0], [4, 460000.0], [4, 300000.0], [5, 515000.0], [4, 442200.0], [3, 716100.0], [3, 405000.0], [5, 515000.0], [4, 375500.0], [2, 265000.0], [4, 625000.0], [5, 1095000.0], [3, 370000.0], [3, 295000.0], [3, 550000.0], [4, 253000.0], [4, 230000.0], [3, 1085000.0], [3, 505000.0], [5, 294000.0], [3, 220000.0], [3, 645000.0], [4, 456500.0], [3, 440000.0], [4, 1385000.0], [3, 270000.0], [4, 340000.0], [4, 890000.0], [4, 700000.0], [4, 565000.0], [4, 365000.0], [3, 348000.0], [4, 759900.0], [4, 675000.0], [3, 525000.0], [3, 649000.0], [3, 436000.0], [2, 282150.0], [4, 675000.0], [3, 402000.0], [3, 535000.0], [3, 439950.0], [5, 506000.0], [2, 535000.0], [4, 425000.0], [4, 299000.0], [4, 492500.0], [3, 279950.0], [3, 720000.0], [4, 589500.0], [2, 140000.0], [4, 500000.0], [6, 516250.0], [3, 424305.0], [4, 533300.0], [3, 280000.0], [3, 289950.0], [3, 271920.0], [3, 374500.0], [3, 522500.0], [4, 525000.0], [3, 729000.0], [3, 325000.0], [4, 351000.0], [5, 330000.0], [4, 1580000.0], [3, 398750.0], [3, 167000.0], [4, 730000.0], [3, 439950.0], [2, 480000.0], [3, 268000.0], [4, 2400000.0], [3, 678100.0], [3, 485000.0], [3, 400000.0], [3, 488500.0], [4, 455000.0], [3, 430000.0], [2, 560000.0], [4, 359950.0], [3, 250000.0], [4, 608000.0], [3, 580000.0], [3, 585000.0], [3, 145600.0], [3, 233000.0], [3, 257000.0], [5, 321000.0], [3, 730000.0], [4, 1200000.0], [2, 451555.0], [3, 194000.0], [4, 480000.0], [3, 235000.0], [4, 558000.0], [6, 650000.0], [3, 490000.0], [4, 1270000.0], [4, 239900.0], [4, 872000.0], [5, 593000.0], [2, 252500.0], [3, 170000.0], [2, 218450.0], [4, 565000.0], [4, 595000.0], [4, 990000.0], [2, 220650.0], [4, 879950.0], [3, 197000.0], [3, 325000.0], [3, 371000.0], [4, 765000.0], [3, 252000.0], [3, 565000.0], [4, 312000.0], [3, 395000.0], [3, 640000.0], [3, 195000.0], [4, 1900000.0], [3, 2225000.0], [3, 386500.0], [3, 515000.0], [3, 361000.0], [4, 720168.0], [3, 219950.0], [3, 335000.0], [3, 1010000.0], [4, 312000.0], [3, 425000.0], [3, 255000.0], [4, 1285000.0], [4, 365000.0], [4, 422500.0], [2, 490000.0], [4, 465000.0], [2, 295000.0], [4, 575000.0], [4, 800000.0], [4, 1400000.0], [3, 515000.0], [5, 425000.0], [4, 410000.0], [3, 244000.0], [2, 329950.0], [5, 538888.0], [2, 216500.0], [3, 610000.0], [4, 714000.0], [4, 731500.0], [2, 208000.0], [4, 815000.0], [2, 475000.0], [3, 435000.0], [3, 790000.0], [4, 647000.0], [4, 299000.0], [5, 510000.0], [3, 990000.0], [5, 429000.0], [2, 559000.0], [2, 212000.0], [5, 1060000.0], [2, 235000.0], [3, 447500.0], [3, 632000.0], [2, 260000.0], [5, 972800.0], [2, 270000.0], [3, 845000.0], [3, 851000.0], [4, 651100.0], [4, 285000.0], [4, 300000.0], [3, 685650.0], [3, 497000.0], [3, 229500.0], [2, 276200.0], [4, 565000.0], [6, 442500.0], [3, 396000.0], [4, 372000.0], [3, 340000.0], [1, 316000.0], [6, 900000.0], [3, 444500.0], [3, 289000.0], [3, 400000.0], [6, 300000.0], [4, 532500.0], [3, 266500.0], [2, 455000.0], [4, 710000.0], [2, 249500.0], [3, 529000.0], [5, 310000.0], [4, 315000.0], [6, 1140000.0], [2, 407500.0], [4, 475000.0], [3, 435000.0], [3, 333000.0], [3, 365000.0], [4, 805000.0], [5, 424950.0], [5, 480000.0], [4, 1200000.0], [3, 400000.0], [2, 285000.0], [5, 1350000.0], [4, 229999.0], [3, 450000.0], [5, 730000.0], [4, 965000.0], [4, 299900.0], [3, 149500.0], [4, 601000.0], [3, 203000.0], [5, 395950.0], [3, 241000.0], [4, 3640900.0], [3, 763101.0], [4, 560000.0], [3, 649000.0], [3, 400000.0], [3, 570000.0], [3, 875000.0], [3, 325000.0], [3, 339000.0], [4, 564500.0], [3, 249950.0], [4, 220000.0], [2, 180000.0], [3, 440000.0], [2, 428000.0], [4, 500000.0], [3, 198500.0], [3, 478000.0], [4, 286000.0], [4, 485000.0], [4, 950000.0], [3, 259000.0], [3, 700000.0], [3, 450500.0], [4, 568000.0], [3, 288000.0], [3, 525000.0], [3, 284000.0], [3, 523000.0], [3, 335000.0], [4, 637000.0], [2, 380000.0], [4, 366000.0], [4, 800000.0], [4, 290000.0], [4, 635000.0], [4, 681000.0], [3, 360000.0], [3, 237000.0], [3, 439000.0], [3, 390000.0], [5, 722500.0], [4, 627000.0], [3, 420000.0], [5, 500000.0], [2, 581000.0], [4, 1050000.0], [3, 183000.0], [4, 535000.0], [4, 328000.0], [3, 525000.0], [3, 160134.0], [3, 535000.0], [3, 369000.0], [4, 978000.0], [2, 459500.0], [2, 90000.0], [3, 850000.0], [2, 369950.0], [3, 255000.0], [5, 485000.0], [3, 418000.0], [3, 480000.0], [4, 725000.0], [3, 545000.0], [3, 736000.0], [4, 336000.0], [5, 1300000.0], [2, 300000.0], [4, 300000.0], [4, 506000.0], [3, 630000.0], [4, 565000.0], [3, 340000.0], [4, 650000.0], [5, 294000.0], [3, 385500.0], [3, 535000.0], [3, 312000.0], [2, 110700.0], [2, 440000.0], [4, 650000.0], [4, 750000.0], [4, 462000.0], [4, 305000.0], [4, 550000.0], [3, 825000.0], [3, 315000.0], [5, 770000.0], [3, 377500.0], [2, 245000.0], [3, 535000.0], [3, 410000.0], [3, 239000.0], [3, 410000.0], [3, 434000.0], [1, 190000.0], [3, 445000.0], [2, 306000.0], [3, 545000.0], [4, 370000.0], [5, 605000.0], [3, 305000.0], [3, 165000.0], [2, 536500.0], [3, 200000.0], [3, 327500.0], [4, 225000.0], [4, 643000.0], [4, 261500.0], [3, 251000.0], [4, 344200.0], [3, 515000.0], [4, 483500.0], [3, 300000.0], [3, 280000.0], [3, 510000.0], [2, 340000.0], [3, 283000.0], [3, 472000.0], [4, 500000.0], [3, 380000.0], [2, 361000.0], [4, 518000.0], [5, 359950.0], [4, 365070.0], [4, 325000.0], [5, 515000.0], [4, 348500.0], [3, 395000.0], [4, 600000.0], [2, 475000.0], [6, 1600000.0], [3, 520000.0], [3, 470000.0], [4, 920000.0], [3, 427500.0], [2, 150000.0], [4, 762500.0], [2, 163250.0], [3, 540000.0], [3, 342000.0], [2, 595000.0], [3, 150000.0], [3, 540000.0], [2, 310000.0], [3, 334000.0], [4, 860000.0], [3, 240000.0], [3, 438000.0], [4, 700000.0], [5, 850000.0], [3, 255000.0], [3, 525000.0], [3, 364000.0], [3, 124000.0], [4, 565000.0], [4, 720000.0], [2, 300000.0], [3, 625000.0], [2, 1410000.0], [4, 551000.0], [4, 922000.0], [3, 525000.0], [5, 1125000.0], [4, 1600000.0], [4, 404950.0], [3, 218500.0], [3, 613000.0], [2, 345000.0], [2, 548000.0], [3, 675000.0], [5, 362000.0], [4, 733000.0], [3, 380000.0], [3, 359000.0], [4, 360000.0], [3, 640000.0], [3, 190000.0], [4, 1020000.0], [3, 215000.0], [6, 230000.0], [3, 540000.0], [4, 530000.0], [4, 1139990.0], [3, 619000.0], [2, 415000.0], [0, 142000.0], [3, 375000.0], [2, 474000.0], [4, 440000.0], [4, 2500000.0], [2, 355000.0], [5, 315000.0], [3, 780000.0], [5, 430000.0], [4, 808000.0], [5, 530000.0], [3, 640000.0], [4, 360000.0], [3, 630000.0], [2, 605000.0], [3, 429000.0], [4, 515000.0], [0, 355000.0], [3, 292000.0], [4, 1265000.0], [3, 560000.0], [3, 460000.0], [4, 510000.0], [2, 314000.0], [3, 260000.0], [2, 615000.0], [4, 3710000.0], [3, 212000.0], [3, 510000.0], [3, 291700.0], [4, 1045000.0], [2, 395000.0], [2, 399950.0], [3, 655275.0], [3, 450000.0], [4, 485000.0], [3, 675000.0], [3, 315000.0], [4, 673000.0], [4, 333000.0], [3, 200000.0], [4, 875000.0], [4, 325000.0], [3, 300000.0], [3, 798000.0], [4, 793000.0], [4, 2890000.0], [4, 310000.0], [4, 850000.0], [3, 250000.0], [3, 530000.0], [4, 360000.0], [3, 235000.0], [3, 400000.0], [5, 695000.0], [4, 1065000.0], [3, 186000.0], [4, 235000.0], [2, 378000.0], [3, 160000.0], [4, 1300000.0], [4, 329995.0], [2, 190000.0], [4, 1335000.0], [3, 703000.0], [3, 496600.0], [4, 939000.0], [3, 317750.0], [2, 334500.0], [2, 299000.0], [5, 1000000.0], [3, 740000.0], [2, 370000.0], [3, 207000.0], [4, 775000.0], [3, 495000.0], [3, 402500.0], [4, 242550.0], [3, 267000.0], [3, 519000.0], [3, 134000.0], [3, 656000.0], [3, 374000.0], [3, 1070000.0], [3, 402000.0], [3, 157500.0], [4, 215000.0], [4, 810000.0], [3, 253000.0], [2, 438000.0], [4, 1400000.0], [3, 500000.0], [4, 563950.0], [4, 870000.0], [4, 527500.0], [2, 475000.0], [3, 478500.0], [3, 670000.0], [3, 285000.0], [4, 1580000.0], [3, 279800.0], [2, 115000.0], [3, 770000.0], [4, 353500.0], [2, 376000.0], [4, 342000.0], [4, 486940.0], [3, 315000.0], [3, 373000.0], [3, 577450.0], [3, 288000.0], [3, 277500.0], [5, 393000.0], [5, 774900.0], [4, 908990.0], [3, 590000.0], [4, 570000.0], [2, 213800.0], [2, 297000.0], [3, 1312000.0], [4, 250000.0], [2, 180000.0], [3, 570000.0], [2, 329950.0], [2, 501000.0], [4, 550000.0], [4, 513000.0], [3, 261000.0], [1, 210000.0], [3, 243000.0], [3, 481450.0], [3, 537000.0], [3, 237000.0], [3, 310000.0], [4, 291000.0], [3, 532000.0], [4, 676000.0], [3, 220000.0], [4, 269000.0], [3, 325000.0], [4, 1578000.0], [3, 636000.0], [3, 679950.0], [3, 500000.0], [4, 1060000.0], [3, 530000.0], [5, 549000.0], [3, 355000.0], [3, 670000.0], [2, 602000.0], [2, 605125.0], [3, 385000.0], [4, 386000.0], [3, 215000.0], [2, 370000.0], [3, 409316.0], [3, 245000.0], [5, 506000.0], [3, 105000.0], [4, 382500.0], [3, 740000.0], [4, 285000.0], [4, 350000.0], [4, 293550.0], [4, 575000.0], [5, 3418800.0], [3, 241500.0], [3, 566950.0], [3, 500000.0], [3, 850000.0], [2, 450000.0], [4, 840000.0], [3, 1400000.0], [4, 535000.0], [3, 299000.0], [2, 325000.0], [3, 428000.0], [3, 219950.0], [3, 495000.0], [3, 503000.0], [3, 495500.0], [3, 440000.0], [4, 300000.0], [5, 540000.0], [3, 1000000.0], [3, 450000.0], [5, 455000.0], [4, 1460000.0], [3, 419700.0], [2, 163800.0], [3, 721000.0], [2, 220000.0], [3, 427500.0], [3, 337000.0], [4, 875000.0], [4, 509000.0], [4, 370000.0], [4, 805000.0], [4, 229000.0], [4, 350000.0], [3, 277140.0], [4, 552625.0], [3, 534640.0], [4, 518500.0], [4, 849990.0], [1, 250000.0], [5, 325000.0], [4, 335000.0], [2, 294950.0], [3, 339888.0], [2, 149900.0], [6, 1150000.0], [5, 446000.0], [4, 630000.0], [4, 825000.0], [2, 419000.0], [3, 470000.0], [3, 568000.0], [4, 445000.0], [3, 255000.0], [4, 760000.0], [3, 300000.0], [4, 385200.0], [4, 289950.0], [3, 299000.0], [3, 652000.0], [5, 1030000.0], [4, 603000.0], [4, 292000.0], [4, 555000.0], [4, 225000.0], [4, 625000.0], [3, 650000.0], [4, 647000.0], [3, 528000.0], [4, 410000.0], [3, 235000.0], [3, 525000.0], [3, 325000.0], [3, 230000.0], [4, 410000.0], [4, 492000.0], [5, 313500.0], [4, 777000.0], [3, 243000.0], [3, 229950.0], [3, 285000.0], [4, 455000.0], [4, 295000.0], [3, 223000.0], [4, 345000.0], [4, 399950.0], [2, 400000.0], [2, 650000.0], [2, 430000.0], [3, 154000.0], [4, 1165000.0], [4, 675000.0], [2, 425000.0], [2, 549000.0], [2, 184900.0], [3, 265000.0], [2, 690000.0], [3, 353000.0], [5, 352000.0], [2, 260600.0], [3, 365000.0], [2, 430000.0], [2, 340000.0], [3, 189000.0], [5, 632500.0], [3, 576000.0], [4, 450000.0], [4, 370500.0], [5, 949950.0], [4, 870000.0], [4, 2000000.0], [3, 195000.0], [3, 565000.0], [3, 460000.0], [2, 245000.0], [4, 425000.0], [3, 759950.0], [4, 440000.0], [4, 749950.0], [5, 347950.0], [5, 316000.0], [2, 542000.0], [4, 690000.0], [4, 595000.0], [2, 250000.0], [2, 429592.0], [3, 724800.0], [3, 266950.0], [4, 900000.0], [4, 890000.0], [3, 690000.0], [3, 185000.0], [4, 734990.0], [4, 490000.0], [4, 1150000.0], [4, 471000.0], [3, 670000.0], [4, 588000.0], [3, 565000.0], [4, 425000.0], [4, 800000.0], [4, 488250.0], [3, 280000.0], [5, 870000.0], [3, 650000.0], [3, 1326000.0], [4, 802000.0], [3, 350000.0], [2, 1248000.0], [3, 583800.0], [4, 450000.0], [3, 263000.0], [4, 422000.0], [4, 987500.0], [5, 470000.0], [3, 735000.0], [3, 435000.0], [3, 525000.0], [2, 650000.0], [5, 675000.0], [3, 275000.0], [3, 249950.0], [3, 230000.0], [3, 357500.0], [3, 562100.0], [2, 439000.0], [5, 648000.0], [5, 377691.0], [4, 890000.0], [3, 510000.0], [5, 475000.0], [2, 780000.0], [5, 329000.0], [4, 670000.0], [4, 464950.0], [1, 229500.0], [3, 322000.0], [3, 430000.0], [3, 610000.0], [3, 420000.0], [3, 172000.0], [3, 650000.0], [3, 179500.0], [3, 525000.0], [5, 465000.0], [3, 515000.0], [3, 650000.0], [3, 434500.0], [3, 277284.0], [4, 865000.0], [4, 445000.0], [2, 455000.0], [5, 1610000.0], [4, 563000.0], [4, 545000.0], [3, 485000.0], [4, 364950.0], [2, 430000.0], [4, 282900.0], [2, 625500.0], [4, 920000.0], [4, 249000.0], [3, 695000.0], [4, 429000.0], [3, 829000.0], [4, 270000.0], [4, 365000.0], [4, 1005000.0], [4, 1400000.0], [3, 490000.0], [4, 775000.0], [2, 426000.0], [4, 375000.0], [3, 744000.0], [3, 230000.0], [4, 618250.0], [3, 435000.0], [2, 380000.0], [3, 650000.0], [4, 329800.0], [3, 440000.0], [4, 460458.0], [4, 1210000.0], [4, 550000.0], [4, 525000.0], [5, 2479000.0], [4, 765000.0], [4, 325000.0], [3, 153500.0], [1, 270000.0], [4, 1218000.0], [3, 495000.0], [4, 340000.0], [3, 291000.0], [4, 585000.0], [2, 230000.0], [3, 759000.0], [3, 535000.0], [3, 265000.0], [4, 600000.0], [4, 1160000.0], [4, 579950.0], [4, 181100.0], [3, 562000.0], [2, 290000.0], [4, 1785000.0], [3, 208000.0], [7, 727160.0], [4, 540400.0], [3, 270000.0], [5, 385000.0], [2, 327000.0]], \"columns\": [{\"dtype\": \"int\", \"name\": \"id\"}, {\"dtype\": \"str\", \"name\": \"date\"}, {\"dtype\": \"float\", \"name\": \"price\"}, {\"dtype\": \"int\", \"name\": \"bedrooms\"}, {\"dtype\": \"float\", \"name\": \"bathrooms\"}, {\"dtype\": \"int\", \"name\": \"sqft_living\"}, {\"dtype\": \"int\", \"name\": \"sqft_lot\"}, {\"dtype\": \"float\", \"name\": \"floors\"}, {\"dtype\": \"int\", \"name\": \"waterfront\"}, {\"dtype\": \"int\", \"name\": \"view\"}, {\"dtype\": \"int\", \"name\": \"condition\"}, {\"dtype\": \"int\", \"name\": \"grade\"}, {\"dtype\": \"int\", \"name\": \"sqft_above\"}, {\"dtype\": \"int\", \"name\": \"sqft_basement\"}, {\"dtype\": \"int\", \"name\": \"yr_built\"}, {\"dtype\": \"int\", \"name\": \"yr_renovated\"}, {\"dtype\": \"int\", \"name\": \"zipcode\"}, {\"dtype\": \"float\", \"name\": \"lat\"}, {\"dtype\": \"float\", \"name\": \"long\"}, {\"dtype\": \"int\", \"name\": \"sqft_living15\"}, {\"dtype\": \"int\", \"name\": \"sqft_lot15\"}]}, e);\n",
       "                });\n",
       "            })();\n",
       "        "
      ]
     },
     "metadata": {},
     "output_type": "display_data"
    },
    {
     "data": {
      "application/javascript": [
       "$(\"head\").append($(\"<link/>\").attr({\n",
       "  rel:  \"stylesheet\",\n",
       "  type: \"text/css\",\n",
       "  href: \"//cdnjs.cloudflare.com/ajax/libs/font-awesome/4.1.0/css/font-awesome.min.css\"\n",
       "}));\n",
       "$(\"head\").append($(\"<link/>\").attr({\n",
       "  rel:  \"stylesheet\",\n",
       "  type: \"text/css\",\n",
       "  href: \"https://static.turi.com/products/graphlab-create/2.1/canvas/css/canvas.css\"\n",
       "}));\n",
       "\n",
       "            (function(){\n",
       "\n",
       "                var e = null;\n",
       "                if (typeof element == 'undefined') {\n",
       "                    var scripts = document.getElementsByTagName('script');\n",
       "                    var thisScriptTag = scripts[scripts.length-1];\n",
       "                    var parentDiv = thisScriptTag.parentNode;\n",
       "                    e = document.createElement('div');\n",
       "                    parentDiv.appendChild(e);\n",
       "                } else {\n",
       "                    e = element[0];\n",
       "                }\n",
       "\n",
       "                if (typeof requirejs !== 'undefined') {\n",
       "                    // disable load timeout; ipython_app.js is large and can take a while to load.\n",
       "                    requirejs.config({waitSeconds: 0});\n",
       "                }\n",
       "\n",
       "                require(['https://static.turi.com/products/graphlab-create/2.1/canvas/js/ipython_app.js'], function(IPythonApp){\n",
       "                    var app = new IPythonApp();\n",
       "                    app.attachView('sframe','Plots', {\"selected_variable\": {\"name\": [\"all_data_frame\"], \"descriptives\": {\"rows\": 21613, \"columns\": 21}, \"view_component\": \"Plots\", \"view_file\": \"sframe\", \"view_params\": {\"y\": \"price\", \"x\": \"bathrooms\", \"columns\": [\"id\", \"date\", \"price\", \"bedrooms\", \"bathrooms\", \"sqft_living\", \"sqft_lot\", \"floors\", \"waterfront\", \"view\", \"condition\", \"grade\", \"sqft_above\", \"sqft_basement\", \"yr_built\", \"yr_renovated\", \"zipcode\", \"lat\", \"long\", \"sqft_living15\", \"sqft_lot15\"], \"view\": \"Scatter Plot\"}, \"view_components\": [\"Summary\", \"Table\", \"Bar Chart\", \"BoxWhisker Plot\", \"Line Chart\", \"Scatter Plot\", \"Heat Map\", \"Plots\"], \"type\": \"SFrame\", \"columns\": [{\"dtype\": \"int\", \"name\": \"id\"}, {\"dtype\": \"str\", \"name\": \"date\"}, {\"dtype\": \"float\", \"name\": \"price\"}, {\"dtype\": \"int\", \"name\": \"bedrooms\"}, {\"dtype\": \"float\", \"name\": \"bathrooms\"}, {\"dtype\": \"int\", \"name\": \"sqft_living\"}, {\"dtype\": \"int\", \"name\": \"sqft_lot\"}, {\"dtype\": \"float\", \"name\": \"floors\"}, {\"dtype\": \"int\", \"name\": \"waterfront\"}, {\"dtype\": \"int\", \"name\": \"view\"}, {\"dtype\": \"int\", \"name\": \"condition\"}, {\"dtype\": \"int\", \"name\": \"grade\"}, {\"dtype\": \"int\", \"name\": \"sqft_above\"}, {\"dtype\": \"int\", \"name\": \"sqft_basement\"}, {\"dtype\": \"int\", \"name\": \"yr_built\"}, {\"dtype\": \"int\", \"name\": \"yr_renovated\"}, {\"dtype\": \"int\", \"name\": \"zipcode\"}, {\"dtype\": \"float\", \"name\": \"lat\"}, {\"dtype\": \"float\", \"name\": \"long\"}, {\"dtype\": \"int\", \"name\": \"sqft_living15\"}, {\"dtype\": \"int\", \"name\": \"sqft_lot15\"}], \"column_identifiers\": [\"bathrooms\", \"sqft_living15\", \"sqft_above\", \"grade\", \"yr_built\", \"price\", \"bedrooms\", \"zipcode\", \"long\", \"id\", \"sqft_lot15\", \"sqft_living\", \"floors\", \"sqft_lot\", \"date\", \"waterfront\", \"sqft_basement\", \"yr_renovated\", \"lat\", \"condition\", \"view\"]}, \"complete\": 1, \"ipython\": true, \"progress\": 1.0, \"data\": [[2.5, 350000.0], [2.75, 600000.0], [2.75, 485000.0], [1.0, 435000.0], [1.75, 215500.0], [1.0, 392000.0], [1.75, 518000.0], [1.0, 328000.0], [2.75, 678500.0], [3.0, 370000.0], [1.75, 815000.0], [2.5, 820000.0], [1.0, 310000.0], [2.5, 255000.0], [1.0, 208000.0], [3.75, 740000.0], [2.25, 276000.0], [1.75, 430000.0], [1.0, 350000.0], [2.25, 850000.0], [2.0, 580000.0], [2.5, 1100000.0], [1.5, 455000.0], [3.25, 470000.0], [2.0, 626000.0], [1.5, 390000.0], [1.0, 255000.0], [1.75, 257000.0], [2.25, 306500.0], [1.0, 290000.0], [1.75, 475000.0], [1.5, 280000.0], [1.5, 543000.0], [3.5, 1300000.0], [1.75, 293550.0], [2.5, 549950.0], [1.0, 333000.0], [2.0, 480000.0], [2.25, 872000.0], [1.75, 337000.0], [3.5, 349950.0], [2.75, 605000.0], [1.75, 400000.0], [2.25, 247500.0], [1.0, 130000.0], [1.0, 435000.0], [2.0, 699000.0], [1.75, 639000.0], [1.5, 305000.0], [2.0, 390000.0], [1.0, 505000.0], [1.0, 199950.0], [2.5, 297000.0], [2.75, 649000.0], [1.75, 279800.0], [2.25, 289000.0], [2.0, 585000.0], [2.0, 200000.0], [3.5, 1229000.0], [1.0, 490000.0], [2.5, 529999.0], [1.0, 425000.0], [2.5, 885000.0], [2.5, 728050.0], [2.5, 479990.0], [2.75, 1865000.0], [1.0, 329000.0], [1.0, 255000.0], [3.0, 1190000.0], [1.0, 149000.0], [2.5, 470500.0], [2.0, 677100.0], [2.5, 375000.0], [2.25, 432100.0], [1.5, 220000.0], [2.25, 1325000.0], [2.5, 702000.0], [1.75, 400950.0], [1.0, 715000.0], [1.75, 549950.0], [3.75, 1570000.0], [2.0, 340000.0], [1.5, 324950.0], [1.0, 305000.0], [1.0, 330000.0], [2.25, 299950.0], [1.75, 250000.0], [2.0, 558000.0], [2.5, 285000.0], [1.75, 335000.0], [1.0, 195000.0], [2.0, 392137.0], [2.25, 390000.0], [2.0, 249950.0], [1.5, 420000.0], [1.0, 310000.0], [2.75, 505000.0], [3.25, 605000.0], [1.0, 222900.0], [2.5, 650000.0], [1.0, 426000.0], [3.0, 355000.0], [2.0, 450000.0], [1.0, 300000.0], [2.5, 481000.0], [1.75, 690000.0], [2.75, 564500.0], [2.5, 760000.0], [1.75, 383000.0], [1.75, 231000.0], [2.25, 438000.0], [3.25, 401000.0], [2.5, 438000.0], [1.5, 895000.0], [1.0, 427500.0], [1.5, 515000.0], [2.25, 650000.0], [2.25, 779000.0], [2.5, 657000.0], [1.75, 345000.0], [2.5, 367000.0], [2.5, 975000.0], [2.5, 749950.0], [2.25, 312000.0], [2.5, 1108000.0], [3.5, 1200000.0], [2.5, 635000.0], [1.75, 550000.0], [1.0, 199000.0], [1.0, 715000.0], [2.5, 309000.0], [2.5, 505000.0], [2.5, 749400.0], [1.0, 501000.0], [1.0, 425000.0], [2.0, 272000.0], [2.5, 297262.0], [1.75, 565000.0], [2.0, 247500.0], [1.0, 215000.0], [1.5, 303500.0], [1.75, 526000.0], [3.0, 479349.0], [2.0, 660000.0], [2.25, 500000.0], [2.5, 715000.0], [2.0, 535000.0], [1.0, 194000.0], [2.75, 925000.0], [2.5, 345000.0], [1.75, 250000.0], [2.75, 852000.0], [2.5, 339950.0], [1.75, 460000.0], [1.0, 229000.0], [2.5, 449990.0], [1.75, 386500.0], [2.0, 519000.0], [2.25, 575000.0], [2.5, 715000.0], [2.5, 569500.0], [1.75, 438000.0], [3.25, 780000.0], [2.25, 387000.0], [2.0, 211000.0], [3.5, 530000.0], [1.75, 313000.0], [2.0, 629000.0], [2.5, 682000.0], [1.5, 357000.0], [1.0, 225000.0], [1.0, 707500.0], [1.5, 383900.0], [2.75, 493000.0], [2.5, 665000.0], [1.75, 213000.0], [1.0, 320000.0], [2.75, 262500.0], [2.5, 580000.0], [2.5, 640000.0], [2.25, 578000.0], [1.75, 377691.0], [1.5, 256400.0], [0.75, 330000.0], [2.5, 835000.0], [1.75, 272000.0], [1.75, 575000.0], [2.5, 579950.0], [1.0, 315000.0], [2.25, 585188.0], [5.0, 480000.0], [4.0, 750000.0], [2.5, 345000.0], [1.0, 360500.0], [3.0, 2230000.0], [2.25, 605000.0], [1.75, 205000.0], [1.75, 645000.0], [2.5, 510000.0], [1.75, 510000.0], [2.75, 427000.0], [1.5, 243400.0], [3.0, 418000.0], [2.5, 244950.0], [2.0, 420000.0], [1.75, 581000.0], [2.5, 1090000.0], [2.0, 545000.0], [2.0, 536500.0], [2.25, 270000.0], [1.75, 186000.0], [2.5, 235000.0], [2.25, 507000.0], [2.25, 550700.0], [4.0, 1195000.0], [1.0, 510000.0], [2.0, 635000.0], [1.0, 308000.0], [1.5, 635000.0], [1.75, 295000.0], [1.0, 420000.0], [2.5, 585000.0], [2.5, 339100.0], [1.0, 322000.0], [2.25, 587450.0], [1.0, 225000.0], [1.75, 455000.0], [2.5, 356000.0], [2.0, 267000.0], [3.25, 745000.0], [1.0, 205000.0], [2.75, 650000.0], [1.0, 210000.0], [1.0, 618000.0], [2.5, 785000.0], [1.0, 199999.0], [2.25, 1225000.0], [2.5, 306000.0], [3.5, 800000.0], [3.25, 1650000.0], [2.5, 435000.0], [1.0, 535000.0], [2.25, 210000.0], [1.0, 330000.0], [2.0, 234000.0], [2.75, 555000.0], [0.0, 142000.0], [2.5, 626000.0], [1.0, 185000.0], [1.5, 284900.0], [1.5, 500000.0], [2.25, 658588.0], [3.5, 499950.0], [2.5, 487000.0], [1.0, 518000.0], [4.5, 389000.0], [1.0, 130000.0], [2.5, 365000.0], [1.75, 285000.0], [3.25, 442500.0], [2.5, 260000.0], [2.25, 269950.0], [3.25, 539900.0], [1.0, 379000.0], [1.0, 99000.0], [3.5, 1490000.0], [1.5, 645000.0], [2.75, 319900.0], [2.25, 545000.0], [1.75, 530000.0], [4.75, 1365000.0], [2.25, 575000.0], [3.5, 771150.0], [2.5, 379000.0], [1.5, 595000.0], [1.0, 393000.0], [1.0, 404500.0], [2.5, 750000.0], [2.0, 190000.0], [1.0, 160000.0], [1.75, 304900.0], [4.0, 842500.0], [3.0, 2050000.0], [2.25, 365000.0], [1.0, 201000.0], [2.5, 370000.0], [2.5, 515000.0], [2.5, 799000.0], [1.0, 325000.0], [2.25, 564000.0], [2.5, 555000.0], [2.0, 665000.0], [2.5, 540000.0], [2.25, 370000.0], [2.25, 340000.0], [1.75, 750000.0], [2.5, 570000.0], [2.5, 635000.0], [1.0, 175000.0], [1.0, 227000.0], [1.75, 936000.0], [2.25, 700000.0], [1.75, 305000.0], [2.75, 392000.0], [2.25, 1215000.0], [2.0, 855000.0], [3.0, 310000.0], [1.5, 500000.0], [2.75, 425000.0], [2.5, 180500.0], [3.0, 970000.0], [1.75, 201000.0], [2.0, 369000.0], [3.0, 522500.0], [2.5, 806000.0], [2.0, 450000.0], [1.5, 659000.0], [2.5, 950000.0], [2.75, 623000.0], [2.75, 376000.0], [2.5, 475000.0], [2.5, 364988.0], [1.75, 550000.0], [1.75, 328950.0], [3.0, 1061600.0], [1.5, 670000.0], [2.5, 557000.0], [2.5, 374000.0], [1.75, 315000.0], [3.5, 1175000.0], [1.75, 310000.0], [2.5, 500000.0], [1.5, 215000.0], [1.0, 490000.0], [2.25, 294450.0], [2.25, 830000.0], [1.75, 307000.0], [1.0, 279000.0], [1.5, 465000.0], [3.25, 542500.0], [2.5, 271500.0], [4.5, 1569500.0], [1.0, 345000.0], [2.5, 345000.0], [2.5, 312000.0], [1.0, 255000.0], [4.25, 569950.0], [2.0, 172500.0], [3.25, 535000.0], [1.75, 485000.0], [0.75, 299000.0], [2.0, 330000.0], [2.0, 500000.0], [3.0, 2175000.0], [1.5, 252000.0], [2.5, 337000.0], [1.0, 319900.0], [2.75, 774000.0], [1.0, 710000.0], [1.5, 430000.0], [1.0, 302000.0], [3.5, 1500000.0], [2.5, 518000.0], [1.0, 225000.0], [1.75, 700000.0], [3.0, 742500.0], [1.0, 245000.0], [1.75, 432000.0], [3.0, 272000.0], [1.75, 469000.0], [1.0, 240000.0], [2.5, 426500.0], [2.5, 915000.0], [1.5, 395000.0], [1.75, 371000.0], [2.25, 575000.0], [2.5, 602000.0], [2.5, 530000.0], [2.5, 390000.0], [1.75, 714000.0], [2.0, 339950.0], [1.75, 469000.0], [2.5, 347500.0], [2.5, 540000.0], [2.25, 460000.0], [2.5, 875000.0], [2.0, 252000.0], [2.25, 890000.0], [2.5, 576000.0], [1.0, 415000.0], [1.0, 185000.0], [1.5, 209500.0], [2.5, 435000.0], [1.75, 445000.0], [2.5, 388598.0], [1.5, 287000.0], [2.25, 600000.0], [2.75, 552000.0], [3.25, 699950.0], [1.75, 269900.0], [2.5, 273000.0], [1.0, 175000.0], [1.75, 385000.0], [2.5, 296475.0], [1.5, 370000.0], [2.5, 835000.0], [1.75, 515000.0], [2.5, 300000.0], [2.0, 1087500.0], [2.5, 353000.0], [2.5, 268000.0], [2.5, 194990.0], [1.0, 325000.0], [2.5, 328423.0], [1.75, 579000.0], [2.5, 435000.0], [2.5, 510000.0], [2.5, 651000.0], [2.0, 290000.0], [2.5, 503000.0], [2.0, 290000.0], [1.0, 324500.0], [1.75, 235000.0], [1.75, 456200.0], [2.0, 424240.0], [1.75, 639500.0], [1.75, 720000.0], [2.0, 276750.0], [1.0, 1000000.0], [4.5, 1898000.0], [3.0, 900000.0], [2.0, 329000.0], [1.0, 357500.0], [2.5, 293000.0], [2.75, 1000000.0], [3.5, 1298000.0], [2.5, 722500.0], [2.75, 785000.0], [2.5, 284000.0], [1.0, 302000.0], [1.0, 325000.0], [2.5, 439000.0], [2.25, 2193000.0], [2.5, 315000.0], [1.75, 972000.0], [2.5, 402000.0], [1.0, 105000.0], [2.5, 1175000.0], [2.25, 530000.0], [2.0, 240000.0], [1.75, 575000.0], [2.5, 640000.0], [2.5, 1225000.0], [2.5, 925000.0], [1.0, 309000.0], [2.25, 760000.0], [2.5, 925000.0], [1.0, 140000.0], [1.75, 525000.0], [2.0, 245000.0], [2.5, 925000.0], [2.75, 1010000.0], [1.5, 585000.0], [2.25, 359500.0], [1.75, 285000.0], [1.0, 235000.0], [1.5, 387000.0], [2.5, 812000.0], [1.0, 256000.0], [2.5, 236000.0], [3.25, 545000.0], [1.0, 294000.0], [1.75, 375000.0], [1.75, 637800.0], [1.0, 220000.0], [1.0, 277000.0], [3.5, 502700.0], [1.75, 675000.0], [2.5, 353500.0], [1.0, 290000.0], [1.0, 305000.0], [1.0, 429000.0], [2.5, 720000.0], [1.5, 525000.0], [2.25, 549000.0], [1.0, 335000.0], [2.0, 393000.0], [2.25, 442500.0], [2.25, 535900.0], [1.75, 364500.0], [2.5, 310000.0], [2.5, 321000.0], [2.25, 399888.0], [2.25, 465000.0], [1.75, 808000.0], [3.75, 1740000.0], [2.5, 660000.0], [1.75, 372500.0], [1.5, 625000.0], [2.0, 570000.0], [2.5, 650000.0], [2.25, 439000.0], [1.75, 580000.0], [1.0, 440000.0], [1.0, 310000.0], [3.0, 305000.0], [1.75, 565000.0], [1.75, 218000.0], [1.0, 615000.0], [1.75, 361550.0], [2.25, 585000.0], [2.5, 349900.0], [1.0, 401000.0], [3.5, 970000.0], [2.5, 352000.0], [1.75, 271900.0], [1.0, 660000.0], [3.0, 421500.0], [2.0, 455000.0], [3.25, 890000.0], [2.5, 710000.0], [2.25, 279950.0], [3.5, 1325000.0], [1.75, 390000.0], [0.75, 132500.0], [1.5, 367500.0], [2.5, 380000.0], [2.5, 405000.0], [2.25, 319000.0], [1.75, 324000.0], [3.5, 470000.0], [1.75, 218500.0], [2.25, 245000.0], [2.5, 1155000.0], [2.5, 325000.0], [1.0, 249000.0], [2.5, 255000.0], [1.0, 525000.0], [2.75, 1060000.0], [2.5, 775000.0], [3.5, 690000.0], [1.0, 355000.0], [1.0, 311300.0], [1.0, 295000.0], [3.0, 540000.0], [1.75, 743000.0], [2.0, 550000.0], [3.0, 1425000.0], [2.25, 500000.0], [1.75, 450000.0], [2.5, 564450.0], [1.75, 229900.0], [1.0, 375000.0], [2.25, 305000.0], [1.0, 300000.0], [1.5, 195000.0], [3.25, 430000.0], [2.0, 270000.0], [1.0, 345000.0], [2.5, 600000.0], [2.0, 1700000.0], [1.0, 570000.0], [2.5, 225000.0], [1.0, 347000.0], [1.5, 453000.0], [1.75, 310000.0], [1.0, 420000.0], [2.75, 671500.0], [2.5, 445000.0], [2.5, 749950.0], [2.5, 424305.0], [3.5, 1600000.0], [2.75, 485000.0], [2.5, 999000.0], [1.75, 263500.0], [2.5, 485500.0], [3.0, 1180000.0], [1.75, 591000.0], [2.5, 311000.0], [1.75, 340000.0], [2.5, 790000.0], [3.0, 2250000.0], [1.75, 597500.0], [3.0, 414000.0], [1.75, 361000.0], [1.0, 315000.0], [2.0, 400000.0], [2.5, 305000.0], [1.0, 200000.0], [2.5, 640000.0], [2.5, 616000.0], [1.0, 270000.0], [2.5, 380000.0], [1.0, 141800.0], [1.5, 270000.0], [2.5, 561000.0], [2.75, 734000.0], [1.5, 386180.0], [1.75, 850000.0], [2.25, 1220000.0], [1.75, 507000.0], [2.5, 370000.0], [2.5, 589999.0], [1.0, 175000.0], [2.25, 507000.0], [2.5, 320000.0], [2.0, 815000.0], [1.75, 269950.0], [2.0, 223000.0], [1.0, 208000.0], [2.0, 200000.0], [1.0, 278000.0], [1.75, 269500.0], [2.5, 286651.0], [2.5, 261950.0], [2.25, 425000.0], [1.0, 255500.0], [2.25, 765000.0], [1.0, 170000.0], [3.25, 707000.0], [2.0, 440000.0], [2.5, 345000.0], [1.0, 410000.0], [3.5, 866059.0], [1.0, 325000.0], [2.0, 254000.0], [3.0, 1705000.0], [4.0, 2750000.0], [2.25, 979700.0], [1.0, 240000.0], [1.75, 762400.0], [2.5, 465000.0], [2.5, 275000.0], [2.5, 807000.0], [1.5, 194000.0], [2.5, 247000.0], [1.0, 200000.0], [1.75, 1320000.0], [1.75, 559500.0], [1.0, 235000.0], [2.0, 378000.0], [2.5, 827500.0], [2.0, 565000.0], [3.25, 3200000.0], [2.5, 299999.0], [1.0, 124000.0], [2.25, 895000.0], [2.0, 515000.0], [1.5, 379950.0], [2.5, 315000.0], [1.0, 485000.0], [1.0, 698000.0], [1.0, 210000.0], [1.75, 525000.0], [4.0, 980000.0], [1.75, 650000.0], [2.5, 1050000.0], [2.5, 479000.0], [2.0, 439950.0], [2.5, 515000.0], [1.5, 361000.0], [2.5, 315000.0], [2.25, 299000.0], [1.0, 525000.0], [1.75, 390000.0], [1.5, 560000.0], [1.75, 357186.0], [1.0, 235000.0], [1.0, 500000.0], [1.0, 220000.0], [1.5, 332900.0], [3.0, 738000.0], [1.0, 405000.0], [3.0, 373000.0], [2.5, 684000.0], [2.0, 580000.0], [1.5, 345000.0], [2.0, 315000.0], [2.5, 449950.0], [1.5, 224000.0], [1.0, 505000.0], [2.75, 599000.0], [2.25, 305000.0], [2.25, 266500.0], [2.0, 394250.0], [2.5, 305000.0], [2.5, 1150000.0], [1.0, 300000.0], [1.0, 387500.0], [2.25, 685000.0], [3.0, 337000.0], [2.5, 749000.0], [2.5, 671300.0], [2.25, 420000.0], [2.75, 1650000.0], [1.0, 125000.0], [2.25, 465000.0], [3.0, 949000.0], [1.75, 397000.0], [2.5, 815000.0], [1.0, 340000.0], [1.5, 422250.0], [1.0, 438600.0], [2.5, 502000.0], [1.0, 299000.0], [1.5, 196000.0], [2.25, 1052000.0], [1.5, 687500.0], [2.25, 539500.0], [1.0, 215000.0], [3.0, 925000.0], [1.75, 274000.0], [2.5, 335000.0], [1.75, 295000.0], [2.0, 247500.0], [2.25, 580000.0], [2.5, 420000.0], [1.0, 205000.0], [2.5, 377500.0], [2.75, 525000.0], [2.75, 752500.0], [3.0, 300000.0], [1.5, 608000.0], [1.0, 220000.0], [3.0, 350000.0], [2.25, 176000.0], [1.75, 343000.0], [2.5, 410000.0], [2.5, 415000.0], [2.75, 555000.0], [3.5, 1886700.0], [2.0, 305100.0], [2.25, 417250.0], [2.5, 220000.0], [1.75, 258800.0], [1.5, 271000.0], [1.0, 325000.0], [1.75, 605000.0], [3.25, 1050000.0], [1.5, 615000.0], [2.5, 405000.0], [2.25, 466000.0], [2.5, 382500.0], [1.0, 218000.0], [3.5, 2260000.0], [2.5, 640000.0], [1.75, 650000.0], [2.75, 535000.0], [2.5, 410000.0], [2.25, 735000.0], [4.25, 1600000.0], [2.5, 800000.0], [1.0, 415000.0], [1.75, 594000.0], [2.0, 1350000.0], [2.5, 795000.0], [2.5, 360000.0], [2.5, 339989.0], [1.75, 585000.0], [2.5, 734000.0], [1.0, 255000.0], [2.5, 590000.0], [2.5, 630000.0], [2.75, 374950.0], [2.25, 439000.0], [2.25, 560000.0], [2.5, 265500.0], [1.75, 680000.0], [2.25, 465000.0], [2.25, 332000.0], [2.25, 490000.0], [1.0, 690000.0], [2.25, 340000.0], [1.75, 306000.0], [1.0, 118000.0], [1.5, 213500.0], [1.75, 309933.0], [0.75, 190000.0], [2.5, 705380.0], [2.0, 210000.0], [1.0, 350000.0], [2.25, 1225000.0], [1.75, 415000.0], [1.0, 430000.0], [1.75, 559000.0], [2.5, 401500.0], [2.5, 330000.0], [1.0, 425000.0], [1.0, 435000.0], [0.75, 290000.0], [1.75, 522000.0], [1.5, 632500.0], [2.5, 741500.0], [2.0, 240000.0], [1.0, 402500.0], [2.0, 525000.0], [2.75, 710000.0], [2.5, 515000.0], [1.0, 658500.0], [1.0, 530100.0], [1.75, 432100.0], [3.5, 657044.0], [1.0, 393000.0], [2.5, 775000.0], [1.0, 385200.0], [2.5, 375500.0], [2.5, 605000.0], [1.75, 255000.0], [2.5, 510000.0], [1.5, 430000.0], [3.75, 1598000.0], [1.0, 575000.0], [2.5, 386591.0], [1.5, 301500.0], [2.0, 529941.0], [1.75, 459500.0], [2.75, 775000.0], [2.5, 790000.0], [2.5, 568000.0], [2.25, 987500.0], [1.0, 249000.0], [2.5, 522250.0], [1.0, 535000.0], [1.5, 224950.0], [2.5, 293500.0], [1.0, 293000.0], [1.75, 364000.0], [2.75, 858450.0], [1.0, 200000.0], [2.25, 830000.0], [1.75, 575000.0], [2.0, 778000.0], [2.5, 366000.0], [2.25, 466000.0], [2.5, 429000.0], [1.75, 840000.0], [1.0, 342000.0], [1.0, 241000.0], [1.0, 400000.0], [3.75, 1900000.0], [2.25, 600000.0], [2.5, 669000.0], [2.25, 340000.0], [2.25, 330000.0], [1.75, 540000.0], [1.0, 229950.0], [1.25, 360000.0], [1.75, 475000.0], [2.0, 376000.0], [1.0, 185000.0], [1.75, 223000.0], [3.0, 1320000.0], [2.5, 439990.0], [2.5, 1085000.0], [2.0, 335000.0], [1.0, 505000.0], [1.75, 410000.0], [2.25, 600000.0], [1.0, 425000.0], [2.25, 455850.0], [3.5, 1450000.0], [1.0, 180000.0], [1.5, 580000.0], [2.5, 495000.0], [3.0, 719000.0], [2.75, 275436.0], [2.5, 455000.0], [1.0, 970000.0], [2.5, 485000.0], [2.0, 399000.0], [2.0, 762000.0], [1.75, 480000.0], [2.5, 470000.0], [2.5, 252500.0], [1.5, 733500.0], [1.0, 341000.0], [2.0, 740000.0], [2.0, 390000.0], [1.0, 215150.0], [1.75, 350000.0], [1.0, 174950.0], [2.25, 510000.0], [1.5, 425000.0], [1.75, 720000.0], [1.75, 490000.0], [2.0, 665000.0], [3.25, 700000.0], [3.25, 1010000.0], [1.75, 395000.0], [2.5, 550000.0], [2.5, 280000.0], [1.0, 287000.0], [2.5, 343500.0], [2.5, 280000.0], [1.75, 355000.0], [2.25, 1395710.0], [1.75, 404000.0], [3.0, 850000.0], [2.0, 276000.0], [2.5, 429950.0], [1.75, 330000.0], [2.25, 242500.0], [1.0, 546000.0], [2.5, 835000.0], [1.0, 460000.0], [1.0, 335000.0], [1.0, 200000.0], [1.75, 285000.0], [4.75, 3300000.0], [3.25, 600000.0], [2.5, 475000.0], [2.25, 572000.0], [2.0, 205000.0], [1.0, 255000.0], [1.75, 535000.0], [1.5, 280000.0], [2.25, 280000.0], [2.0, 280000.0], [2.25, 360000.0], [1.0, 234900.0], [3.0, 790000.0], [2.25, 652427.0], [1.0, 750000.0], [2.5, 433000.0], [1.75, 379950.0], [2.0, 560000.0], [2.75, 350000.0], [1.5, 420000.0], [2.5, 350900.0], [1.5, 200000.0], [2.75, 325000.0], [2.0, 435000.0], [1.0, 130000.0], [2.0, 240000.0], [1.0, 314950.0], [2.0, 1200000.0], [2.25, 325000.0], [1.75, 650000.0], [1.0, 458450.0], [2.25, 500000.0], [3.75, 848750.0], [1.0, 665000.0], [2.5, 315000.0], [3.0, 1245000.0], [2.5, 820000.0], [1.5, 419000.0], [2.5, 770000.0], [3.0, 2680000.0], [1.0, 705000.0], [3.5, 1450000.0], [2.5, 1200000.0], [2.5, 340000.0], [1.0, 585000.0], [1.5, 490000.0], [1.0, 615000.0], [1.75, 495000.0], [1.0, 473000.0], [2.5, 620000.0], [3.5, 600000.0], [2.75, 734500.0], [2.5, 757500.0], [1.5, 930000.0], [2.0, 800000.0], [1.75, 492000.0], [2.0, 453000.0], [2.5, 419500.0], [2.25, 620000.0], [2.5, 399950.0], [2.25, 439000.0], [4.0, 1583000.0], [2.5, 395000.0], [2.25, 359000.0], [1.0, 450000.0], [2.5, 456500.0], [2.75, 565000.0], [2.25, 240000.0], [1.5, 296000.0], [3.0, 550000.0], [1.5, 461000.0], [1.0, 365000.0], [2.25, 280000.0], [4.0, 1325000.0], [1.0, 275000.0], [1.0, 502501.0], [2.5, 235000.0], [2.25, 725000.0], [1.0, 565000.0], [2.0, 459000.0], [2.5, 533000.0], [1.5, 269000.0], [2.5, 435000.0], [3.5, 1440000.0], [2.0, 410000.0], [3.5, 2075000.0], [1.0, 191000.0], [3.5, 475000.0], [1.0, 475000.0], [1.75, 362000.0], [2.25, 631000.0], [1.0, 153000.0]], \"columns\": [{\"dtype\": \"int\", \"name\": \"id\"}, {\"dtype\": \"str\", \"name\": \"date\"}, {\"dtype\": \"float\", \"name\": \"price\"}, {\"dtype\": \"int\", \"name\": \"bedrooms\"}, {\"dtype\": \"float\", \"name\": \"bathrooms\"}, {\"dtype\": \"int\", \"name\": \"sqft_living\"}, {\"dtype\": \"int\", \"name\": \"sqft_lot\"}, {\"dtype\": \"float\", \"name\": \"floors\"}, {\"dtype\": \"int\", \"name\": \"waterfront\"}, {\"dtype\": \"int\", \"name\": \"view\"}, {\"dtype\": \"int\", \"name\": \"condition\"}, {\"dtype\": \"int\", \"name\": \"grade\"}, {\"dtype\": \"int\", \"name\": \"sqft_above\"}, {\"dtype\": \"int\", \"name\": \"sqft_basement\"}, {\"dtype\": \"int\", \"name\": \"yr_built\"}, {\"dtype\": \"int\", \"name\": \"yr_renovated\"}, {\"dtype\": \"int\", \"name\": \"zipcode\"}, {\"dtype\": \"float\", \"name\": \"lat\"}, {\"dtype\": \"float\", \"name\": \"long\"}, {\"dtype\": \"int\", \"name\": \"sqft_living15\"}, {\"dtype\": \"int\", \"name\": \"sqft_lot15\"}]}, e);\n",
       "                });\n",
       "            })();\n",
       "        "
      ]
     },
     "metadata": {},
     "output_type": "display_data"
    },
    {
     "data": {
      "application/javascript": [
       "$(\"head\").append($(\"<link/>\").attr({\n",
       "  rel:  \"stylesheet\",\n",
       "  type: \"text/css\",\n",
       "  href: \"//cdnjs.cloudflare.com/ajax/libs/font-awesome/4.1.0/css/font-awesome.min.css\"\n",
       "}));\n",
       "$(\"head\").append($(\"<link/>\").attr({\n",
       "  rel:  \"stylesheet\",\n",
       "  type: \"text/css\",\n",
       "  href: \"https://static.turi.com/products/graphlab-create/2.1/canvas/css/canvas.css\"\n",
       "}));\n",
       "\n",
       "            (function(){\n",
       "\n",
       "                var e = null;\n",
       "                if (typeof element == 'undefined') {\n",
       "                    var scripts = document.getElementsByTagName('script');\n",
       "                    var thisScriptTag = scripts[scripts.length-1];\n",
       "                    var parentDiv = thisScriptTag.parentNode;\n",
       "                    e = document.createElement('div');\n",
       "                    parentDiv.appendChild(e);\n",
       "                } else {\n",
       "                    e = element[0];\n",
       "                }\n",
       "\n",
       "                if (typeof requirejs !== 'undefined') {\n",
       "                    // disable load timeout; ipython_app.js is large and can take a while to load.\n",
       "                    requirejs.config({waitSeconds: 0});\n",
       "                }\n",
       "\n",
       "                require(['https://static.turi.com/products/graphlab-create/2.1/canvas/js/ipython_app.js'], function(IPythonApp){\n",
       "                    var app = new IPythonApp();\n",
       "                    app.attachView('sframe','Plots', {\"selected_variable\": {\"name\": [\"all_data_frame\"], \"descriptives\": {\"rows\": 21613, \"columns\": 21}, \"view_component\": \"Plots\", \"view_file\": \"sframe\", \"view_params\": {\"y\": \"price\", \"x\": \"floors\", \"columns\": [\"id\", \"date\", \"price\", \"bedrooms\", \"bathrooms\", \"sqft_living\", \"sqft_lot\", \"floors\", \"waterfront\", \"view\", \"condition\", \"grade\", \"sqft_above\", \"sqft_basement\", \"yr_built\", \"yr_renovated\", \"zipcode\", \"lat\", \"long\", \"sqft_living15\", \"sqft_lot15\"], \"view\": \"Scatter Plot\"}, \"view_components\": [\"Summary\", \"Table\", \"Bar Chart\", \"BoxWhisker Plot\", \"Line Chart\", \"Scatter Plot\", \"Heat Map\", \"Plots\"], \"type\": \"SFrame\", \"columns\": [{\"dtype\": \"int\", \"name\": \"id\"}, {\"dtype\": \"str\", \"name\": \"date\"}, {\"dtype\": \"float\", \"name\": \"price\"}, {\"dtype\": \"int\", \"name\": \"bedrooms\"}, {\"dtype\": \"float\", \"name\": \"bathrooms\"}, {\"dtype\": \"int\", \"name\": \"sqft_living\"}, {\"dtype\": \"int\", \"name\": \"sqft_lot\"}, {\"dtype\": \"float\", \"name\": \"floors\"}, {\"dtype\": \"int\", \"name\": \"waterfront\"}, {\"dtype\": \"int\", \"name\": \"view\"}, {\"dtype\": \"int\", \"name\": \"condition\"}, {\"dtype\": \"int\", \"name\": \"grade\"}, {\"dtype\": \"int\", \"name\": \"sqft_above\"}, {\"dtype\": \"int\", \"name\": \"sqft_basement\"}, {\"dtype\": \"int\", \"name\": \"yr_built\"}, {\"dtype\": \"int\", \"name\": \"yr_renovated\"}, {\"dtype\": \"int\", \"name\": \"zipcode\"}, {\"dtype\": \"float\", \"name\": \"lat\"}, {\"dtype\": \"float\", \"name\": \"long\"}, {\"dtype\": \"int\", \"name\": \"sqft_living15\"}, {\"dtype\": \"int\", \"name\": \"sqft_lot15\"}], \"column_identifiers\": [\"bathrooms\", \"sqft_living15\", \"sqft_above\", \"grade\", \"yr_built\", \"price\", \"bedrooms\", \"zipcode\", \"long\", \"id\", \"sqft_lot15\", \"sqft_living\", \"floors\", \"sqft_lot\", \"date\", \"waterfront\", \"sqft_basement\", \"yr_renovated\", \"lat\", \"condition\", \"view\"]}, \"complete\": 1, \"ipython\": true, \"progress\": 1.0, \"data\": [[1.0, 180000.0], [1.0, 285000.0], [1.0, 1728000.0], [1.0, 604000.0], [1.0, 380950.0], [1.0, 480000.0], [2.0, 267800.0], [1.0, 343500.0], [1.0, 513000.0], [2.0, 770000.0], [1.0, 620047.0], [1.5, 285000.0], [1.5, 200000.0], [1.0, 473000.0], [1.5, 530000.0], [1.0, 376500.0], [2.0, 380000.0], [2.0, 652500.0], [2.0, 1450000.0], [1.0, 230000.0], [2.0, 1430000.0], [2.0, 839950.0], [2.0, 503000.0], [1.0, 425000.0], [1.0, 485000.0], [2.0, 610000.0], [2.0, 482000.0], [2.0, 734000.0], [2.0, 3400000.0], [1.5, 940000.0], [1.0, 499950.0], [1.0, 490000.0], [2.0, 357000.0], [1.0, 875000.0], [1.0, 568000.0], [1.0, 625000.0], [1.0, 775000.0], [1.0, 995000.0], [1.0, 780000.0], [1.0, 895000.0], [2.0, 797000.0], [1.0, 775000.0], [1.0, 833000.0], [1.0, 430000.0], [3.0, 427005.0], [3.0, 329900.0], [1.0, 235000.0], [1.5, 650000.0], [1.0, 217000.0], [1.0, 560000.0], [3.0, 318000.0], [1.0, 399000.0], [1.5, 329950.0], [1.5, 1050000.0], [1.0, 340000.0], [2.0, 367950.0], [1.0, 405000.0], [1.0, 515000.0], [1.0, 220000.0], [2.0, 635000.0], [1.0, 270000.0], [1.0, 185850.0], [1.5, 682000.0], [2.0, 678500.0], [1.0, 234950.0], [1.0, 395000.0], [1.0, 1058000.0], [1.5, 392000.0], [2.0, 499000.0], [1.0, 420550.0], [2.0, 285000.0], [2.0, 630000.0], [1.0, 385000.0], [2.0, 339500.0], [1.0, 335000.0], [1.5, 1180000.0], [1.0, 465000.0], [2.0, 1532500.0], [2.0, 435000.0], [1.0, 463000.0], [1.5, 249900.0], [2.0, 1255000.0], [1.5, 123000.0], [1.0, 400000.0], [2.0, 988500.0], [2.0, 579000.0], [1.0, 653000.0], [1.0, 600000.0], [2.0, 750000.0], [1.5, 340000.0], [2.0, 1720000.0], [2.0, 293500.0], [1.0, 525000.0], [1.0, 275000.0], [1.5, 290000.0], [2.0, 900000.0], [2.0, 757500.0], [1.0, 575000.0], [1.0, 150000.0], [1.0, 822600.0], [2.5, 675000.0], [1.0, 459000.0], [2.0, 464000.0], [1.0, 415000.0], [1.0, 960000.0], [2.0, 1000000.0], [3.0, 1125000.0], [1.0, 315000.0], [1.0, 195000.0], [1.0, 245000.0], [1.0, 719000.0], [1.0, 570000.0], [1.0, 605000.0], [2.0, 320000.0], [2.0, 1670000.0], [2.0, 420000.0], [1.0, 299000.0], [1.0, 205425.0], [2.0, 525000.0], [2.0, 365000.0], [1.5, 790000.0], [1.0, 391500.0], [1.0, 700000.0], [2.0, 515000.0], [1.0, 250000.0], [2.0, 475000.0], [2.0, 532000.0], [1.0, 260000.0], [2.0, 490000.0], [2.0, 400000.0], [1.0, 667000.0], [2.0, 175003.0], [1.0, 370000.0], [3.0, 420000.0], [2.0, 490000.0], [1.0, 325000.0], [1.0, 220000.0], [1.0, 170000.0], [1.0, 530000.0], [2.0, 695000.0], [2.0, 834950.0], [1.0, 334000.0], [2.0, 628000.0], [2.0, 520000.0], [1.0, 225000.0], [2.0, 855000.0], [2.0, 555000.0], [1.0, 140000.0], [1.0, 425000.0], [1.0, 180000.0], [2.0, 884250.0], [2.0, 374000.0], [2.0, 346100.0], [1.5, 650000.0], [1.5, 404500.0], [1.0, 890000.0], [1.5, 760000.0], [1.0, 500000.0], [2.0, 305000.0], [1.5, 597000.0], [1.0, 415000.0], [1.5, 697000.0], [2.0, 905000.0], [1.5, 730000.0], [2.0, 472500.0], [2.0, 700000.0], [3.0, 389000.0], [2.0, 750000.0], [2.0, 798000.0], [1.0, 419000.0], [2.0, 349990.0], [1.0, 218000.0], [1.5, 279475.0], [1.0, 502501.0], [1.0, 445000.0], [2.0, 760000.0], [1.0, 399950.0], [1.0, 600000.0], [1.0, 290000.0], [1.0, 207000.0], [2.0, 259950.0], [2.0, 728935.0], [2.0, 2510000.0], [1.5, 462000.0], [2.0, 850000.0], [1.0, 1095000.0], [1.0, 344000.0], [1.0, 228000.0], [2.0, 556000.0], [1.0, 1690000.0], [1.5, 536500.0], [1.0, 309000.0], [1.0, 795000.0], [2.0, 808900.0], [1.5, 690000.0], [2.0, 282000.0], [1.5, 249950.0], [2.0, 1200000.0], [1.0, 203000.0], [1.0, 460000.0], [1.0, 210000.0], [2.0, 297000.0], [1.0, 411500.0], [2.0, 330000.0], [1.0, 775000.0], [2.0, 790000.0], [1.0, 480000.0], [2.0, 575000.0], [1.0, 329900.0], [1.0, 350000.0], [1.0, 898000.0], [1.0, 648475.0], [2.0, 830000.0], [2.0, 525000.0], [1.5, 538000.0], [1.0, 1250000.0], [2.0, 466750.0], [1.0, 830000.0], [2.0, 281000.0], [1.0, 537000.0], [1.0, 231000.0], [2.0, 726888.0], [1.5, 698000.0], [1.0, 319950.0], [2.0, 492500.0], [2.0, 452500.0], [2.0, 305000.0], [1.0, 361000.0], [2.0, 1200000.0], [1.0, 322000.0], [1.0, 428000.0], [1.0, 500000.0], [1.0, 315000.0], [1.0, 213000.0], [1.0, 500000.0], [2.0, 1025000.0], [2.0, 342000.0], [2.0, 975000.0], [1.5, 485000.0], [2.0, 330000.0], [2.0, 299000.0], [2.0, 299000.0], [2.0, 740000.0], [1.0, 335000.0], [1.0, 395000.0], [2.0, 760000.0], [2.0, 422000.0], [2.0, 489950.0], [1.0, 465000.0], [1.0, 190000.0], [1.0, 375900.0], [1.0, 435000.0], [1.0, 720000.0], [2.0, 1225000.0], [2.0, 328000.0], [2.0, 275000.0], [1.5, 823000.0], [2.0, 405000.0], [1.0, 405000.0], [1.0, 330000.0], [2.0, 924000.0], [2.0, 790000.0], [2.0, 925000.0], [2.0, 622500.0], [2.0, 600000.0], [2.0, 510000.0], [1.5, 525000.0], [1.0, 635000.0], [2.0, 425000.0], [2.0, 834950.0], [2.0, 1365000.0], [1.0, 780000.0], [1.0, 322500.0], [2.0, 299950.0], [1.0, 331000.0], [2.0, 785000.0], [1.0, 390000.0], [1.5, 875000.0], [2.0, 490000.0], [2.0, 550000.0], [2.0, 436000.0], [1.0, 655500.0], [1.5, 425000.0], [1.0, 199990.0], [1.5, 580000.0], [1.5, 1335000.0], [1.0, 330000.0], [2.0, 359950.0], [1.0, 279000.0], [1.0, 344950.0], [2.0, 485000.0], [2.0, 447500.0], [1.5, 459900.0], [1.0, 230000.0], [1.0, 190000.0], [1.5, 208000.0], [2.0, 411000.0], [2.0, 818500.0], [1.0, 545000.0], [1.0, 219950.0], [2.0, 280000.0], [1.0, 1350000.0], [2.0, 1050000.0], [2.0, 208633.0], [1.0, 459000.0], [2.0, 320000.0], [1.0, 1150000.0], [1.0, 300000.0], [1.0, 414000.0], [2.0, 660000.0], [1.0, 420000.0], [2.0, 1400000.0], [1.0, 321500.0], [1.0, 280950.0], [2.0, 825000.0], [2.0, 328000.0], [1.5, 1400000.0], [1.5, 240000.0], [2.0, 207000.0], [1.0, 546800.0], [1.0, 575950.0], [1.0, 827000.0], [1.0, 271500.0], [2.0, 920000.0], [1.0, 219950.0], [1.0, 230000.0], [2.0, 750000.0], [1.0, 195000.0], [2.0, 883000.0], [2.0, 384000.0], [2.0, 434900.0], [1.0, 352000.0], [1.0, 452000.0], [2.0, 479000.0], [1.0, 424000.0], [2.0, 550000.0], [1.0, 425000.0], [1.5, 791500.0], [2.0, 259000.0], [1.0, 415000.0], [1.0, 568000.0], [1.0, 720000.0], [1.0, 472500.0], [2.0, 436000.0], [2.0, 859990.0], [2.0, 1210000.0], [2.0, 384200.0], [2.0, 1325000.0], [1.0, 450000.0], [2.0, 575000.0], [1.0, 552000.0], [1.5, 568000.0], [1.5, 530000.0], [1.0, 455000.0], [1.0, 375000.0], [1.0, 383000.0], [3.0, 355000.0], [1.0, 590000.0], [1.0, 484000.0], [1.5, 495800.0], [2.0, 597500.0], [2.0, 742500.0], [1.0, 299500.0], [2.0, 975000.0], [2.5, 415000.0], [1.0, 119900.0], [1.0, 298000.0], [1.0, 410000.0], [1.0, 360000.0], [2.0, 520000.0], [1.0, 205000.0], [2.0, 403000.0], [1.0, 260000.0], [2.0, 760000.0], [1.0, 380000.0], [2.0, 475000.0], [2.0, 359000.0], [1.0, 510000.0], [2.0, 865000.0], [2.0, 2888000.0], [1.0, 340000.0], [2.0, 1700000.0], [2.0, 760000.0], [2.0, 1280000.0], [2.0, 335000.0], [1.0, 408000.0], [1.0, 446000.0], [2.0, 420000.0], [1.0, 332000.0], [2.0, 661000.0], [2.0, 610000.0], [1.0, 300000.0], [2.0, 665000.0], [1.5, 552500.0], [1.5, 555000.0], [1.0, 215000.0], [2.0, 950000.0], [1.0, 276000.0], [1.0, 1290000.0], [1.5, 269900.0], [1.0, 322968.0], [1.0, 310000.0], [2.0, 725000.0], [1.0, 305000.0], [1.0, 280000.0], [1.0, 425000.0], [1.0, 178500.0], [2.0, 937500.0], [1.0, 550000.0], [2.0, 840000.0], [1.5, 2175000.0], [2.0, 799950.0], [1.0, 223000.0], [2.0, 1430000.0], [1.0, 277000.0], [2.0, 563500.0], [2.0, 1010000.0], [1.0, 282000.0], [2.0, 1200000.0], [3.0, 425000.0], [1.0, 213000.0], [2.0, 645000.0], [1.0, 225500.0], [2.0, 950000.0], [2.0, 279900.0], [1.0, 951250.0], [2.0, 340000.0], [1.0, 440000.0], [1.0, 3200000.0], [2.0, 1300000.0], [2.0, 328500.0], [1.0, 490000.0], [2.0, 339900.0], [1.0, 725000.0], [1.0, 465000.0], [2.0, 260000.0], [2.0, 453000.0], [1.0, 409000.0], [1.0, 310000.0], [1.0, 785000.0], [1.0, 213950.0], [1.0, 465000.0], [1.0, 395000.0], [1.0, 259500.0], [1.5, 350000.0], [1.0, 415000.0], [2.0, 720000.0], [1.0, 230000.0], [2.0, 1100000.0], [1.0, 264950.0], [1.0, 150000.0], [2.0, 510000.0], [1.0, 284200.0], [1.0, 400000.0], [1.0, 599000.0], [1.0, 325000.0], [1.0, 207000.0], [2.0, 282500.0], [3.0, 549000.0], [1.0, 526750.0], [1.5, 803000.0], [2.0, 353500.0], [2.0, 775000.0], [1.5, 174900.0], [1.0, 330000.0], [2.0, 640000.0], [1.0, 316000.0], [2.0, 1399000.0], [2.0, 690000.0], [1.0, 648360.0], [1.5, 886000.0], [2.0, 640000.0], [1.0, 150000.0], [2.0, 570000.0], [1.5, 440000.0], [1.0, 333000.0], [3.0, 495000.0], [1.0, 438924.0], [1.0, 287500.0], [2.0, 777000.0], [1.0, 218000.0], [1.0, 650000.0], [2.0, 849950.0], [2.0, 638500.0], [1.0, 554000.0], [2.0, 252000.0], [1.0, 340000.0], [1.0, 219900.0], [1.0, 471000.0], [1.0, 530000.0], [1.0, 540000.0], [2.0, 575000.0], [1.0, 425000.0], [1.0, 475000.0], [2.0, 729000.0], [2.0, 520000.0], [1.0, 450000.0], [1.5, 201000.0], [2.0, 397000.0], [1.0, 1650000.0], [1.0, 330000.0], [1.0, 360000.0], [1.0, 342000.0], [1.0, 218000.0], [2.0, 920000.0], [2.0, 1776000.0], [2.0, 347500.0], [1.0, 403504.0], [2.0, 334000.0], [1.0, 760000.0], [2.0, 422250.0], [2.0, 435000.0], [1.0, 475000.0], [2.0, 277140.0], [1.0, 725000.0], [1.0, 425000.0], [2.0, 526500.0], [1.0, 299950.0], [2.0, 140000.0], [1.0, 336500.0], [2.0, 470000.0], [2.0, 740000.0], [1.0, 405000.0], [2.0, 370000.0], [2.0, 374000.0], [1.0, 604000.0], [2.0, 339950.0], [1.0, 393000.0], [1.5, 890000.0], [1.0, 445000.0], [1.0, 283200.0], [2.0, 466800.0], [2.0, 425000.0], [1.0, 441000.0], [2.0, 305000.0], [1.5, 215000.0], [2.0, 399500.0], [1.0, 595000.0], [1.0, 286000.0], [2.0, 1300000.0], [2.0, 1450000.0], [1.5, 551000.0], [3.5, 479000.0], [1.0, 475000.0], [1.5, 710000.0], [1.0, 264500.0], [1.0, 552500.0], [1.0, 259950.0], [1.0, 763101.0], [2.0, 708000.0], [2.0, 1450000.0], [1.0, 685000.0], [1.0, 780000.0], [1.0, 254000.0], [1.0, 350000.0], [2.0, 975000.0], [3.0, 349000.0], [1.0, 235500.0], [1.0, 510000.0], [2.0, 765000.0], [1.0, 196440.0], [1.0, 820000.0], [2.0, 340000.0], [2.0, 863000.0], [1.0, 998160.0], [3.0, 379000.0], [1.0, 352800.0], [2.0, 549995.0], [2.0, 308000.0], [1.0, 202950.0], [2.0, 1940000.0], [1.0, 601500.0], [1.0, 635000.0], [1.0, 308000.0], [1.0, 165000.0], [2.0, 1460000.0], [1.0, 450000.0], [2.0, 1875000.0], [2.0, 780000.0], [1.5, 572000.0], [1.0, 272000.0], [1.0, 353000.0], [2.0, 498000.0], [2.0, 460000.0], [1.0, 247500.0], [1.0, 190000.0], [1.0, 410000.0], [2.0, 316500.0], [1.0, 350000.0], [3.0, 385000.0], [1.0, 489000.0], [1.0, 265000.0], [2.0, 499990.0], [2.0, 675000.0], [1.5, 568000.0], [2.0, 731000.0], [1.5, 245000.0], [3.0, 599950.0], [1.0, 222900.0], [2.0, 340000.0], [2.0, 340000.0], [1.0, 309900.0], [1.0, 356700.0], [1.0, 206990.0], [1.0, 552700.0], [1.5, 278000.0], [2.0, 750000.0], [1.0, 230000.0], [2.5, 710000.0], [2.0, 1970000.0], [1.0, 224000.0], [1.0, 323000.0], [2.0, 308000.0], [1.0, 350000.0], [1.0, 519000.0], [1.0, 325000.0], [1.0, 172500.0], [1.0, 711000.0], [1.0, 368500.0], [1.0, 397000.0], [1.0, 500000.0], [2.0, 299250.0], [2.0, 625000.0], [1.0, 500000.0], [3.0, 540000.0], [1.0, 849000.0], [2.0, 1180000.0], [1.0, 254500.0], [1.0, 265950.0], [1.0, 335000.0], [1.0, 434975.0], [2.0, 475000.0], [1.0, 415000.0], [2.0, 469950.0], [1.0, 692500.0], [2.0, 424000.0], [1.0, 620000.0], [2.0, 245000.0], [2.0, 290000.0], [2.0, 640000.0], [1.5, 435000.0], [2.0, 431500.0], [2.0, 795000.0], [1.0, 411500.0], [2.0, 419000.0], [1.0, 900000.0], [1.0, 450000.0], [1.0, 241000.0], [1.0, 320000.0], [2.0, 669000.0], [2.0, 250500.0], [2.0, 826000.0], [1.0, 473600.0], [2.0, 730000.0], [1.0, 607000.0], [1.5, 1190000.0], [1.0, 311000.0], [2.0, 330000.0], [2.0, 651000.0], [1.5, 524000.0], [2.0, 700000.0], [2.0, 340000.0], [1.0, 325000.0], [1.0, 230000.0], [2.0, 687500.0], [2.0, 420000.0], [1.0, 219900.0], [1.0, 245000.0], [1.0, 1580000.0], [3.0, 520000.0], [2.0, 600000.0], [1.0, 936000.0], [1.0, 1100000.0], [1.0, 412000.0], [2.0, 775000.0], [2.0, 287000.0], [2.0, 335000.0], [1.0, 810000.0], [2.0, 150000.0], [2.0, 139500.0], [1.0, 599900.0], [2.0, 490000.0], [1.0, 220500.0], [1.0, 289000.0], [1.0, 156000.0], [2.0, 248000.0], [1.0, 470000.0], [2.0, 268500.0], [1.0, 300000.0], [2.0, 445000.0], [1.0, 270000.0], [1.0, 299500.0], [2.0, 937500.0], [1.5, 725000.0], [1.0, 330000.0], [1.5, 345000.0], [2.0, 245000.0], [1.0, 208000.0], [1.0, 590000.0], [2.0, 710000.0], [2.0, 537000.0], [1.0, 501000.0], [1.0, 415000.0], [2.0, 4500000.0], [1.0, 130000.0], [3.0, 389950.0], [1.0, 172000.0], [2.0, 455000.0], [2.0, 332500.0], [1.0, 335000.0], [1.5, 430000.0], [1.0, 465000.0], [2.0, 595000.0], [1.0, 265000.0], [1.0, 405000.0], [1.0, 325000.0], [1.0, 405500.0], [2.0, 539000.0], [2.0, 265000.0], [1.0, 256703.0], [2.0, 720000.0], [2.0, 303500.0], [2.0, 690000.0], [1.5, 870000.0], [1.0, 327000.0], [2.0, 1240000.0], [2.0, 362500.0], [2.0, 815000.0], [1.0, 665000.0], [2.0, 530000.0], [1.5, 703000.0], [1.0, 907000.0], [1.0, 450000.0], [1.0, 390000.0], [1.0, 580000.0], [1.0, 490000.0], [1.0, 845000.0], [1.5, 730000.0], [2.0, 600000.0], [1.5, 2408000.0], [2.0, 386500.0], [1.0, 150000.0], [1.0, 464900.0], [1.0, 677500.0], [1.0, 588000.0], [1.0, 485000.0], [1.0, 678000.0], [2.0, 515000.0], [2.0, 312500.0], [1.0, 490000.0], [1.0, 329999.0], [2.0, 799000.0], [1.0, 368000.0], [1.0, 429800.0], [1.0, 150000.0], [2.0, 1575000.0], [1.0, 452000.0], [2.0, 387990.0], [1.0, 274000.0], [1.0, 372220.0], [2.0, 412000.0], [2.0, 272000.0], [2.0, 540000.0], [1.0, 232000.0], [2.0, 635000.0], [2.0, 1940000.0], [1.0, 335000.0], [2.0, 597000.0], [2.0, 1264000.0], [1.0, 460000.0], [1.5, 349950.0], [1.5, 425000.0], [1.0, 625000.0], [1.0, 420000.0], [2.0, 858450.0], [1.5, 643002.0], [2.0, 278000.0], [2.5, 1050000.0], [1.0, 219950.0], [2.0, 775000.0], [1.0, 216500.0], [1.0, 489000.0], [1.0, 271920.0], [1.0, 483000.0], [1.0, 151100.0], [2.0, 185000.0], [2.0, 550000.0], [1.0, 340000.0], [2.0, 635000.0], [1.5, 585000.0], [1.0, 477000.0], [1.0, 505000.0], [1.0, 1355000.0], [2.0, 664500.0], [1.0, 279000.0], [2.0, 605000.0], [1.0, 800000.0], [2.0, 265000.0], [2.0, 470000.0], [1.0, 199950.0], [2.0, 340000.0], [1.5, 490000.0], [2.0, 620000.0], [1.5, 370000.0], [2.0, 1138990.0], [1.0, 415000.0], [1.0, 190000.0], [2.0, 795000.0], [1.0, 482000.0], [1.0, 361000.0], [2.0, 369950.0], [2.0, 879000.0], [2.0, 347000.0], [1.0, 425000.0], [2.0, 384500.0], [1.0, 322000.0], [2.0, 749999.0], [1.0, 200000.0], [2.0, 623300.0], [1.0, 207000.0], [2.0, 454950.0], [2.0, 1020000.0], [1.0, 350000.0], [2.0, 475000.0], [2.0, 459000.0], [1.0, 345000.0], [2.0, 500000.0], [1.0, 340000.0], [1.5, 319450.0], [2.0, 2150000.0], [2.0, 515500.0], [3.0, 484000.0], [1.0, 220000.0], [1.0, 355000.0], [1.5, 395000.0], [2.0, 970000.0], [1.0, 606000.0], [2.0, 570000.0], [1.0, 278000.0], [1.0, 193000.0], [1.0, 177000.0], [1.0, 230000.0], [1.0, 872500.0], [1.0, 394000.0], [2.0, 1050000.0], [1.0, 265000.0], [1.5, 681000.0], [1.0, 155000.0], [2.0, 540000.0], [1.0, 190000.0], [1.0, 252000.0], [1.0, 880000.0], [1.0, 710000.0], [2.0, 717000.0], [2.0, 550000.0], [1.0, 299000.0], [1.5, 329000.0], [1.0, 450000.0], [1.0, 126000.0], [1.0, 592500.0], [1.5, 612000.0], [1.0, 579000.0], [1.0, 510000.0], [1.0, 590000.0], [1.0, 605000.0], [1.0, 432500.0], [1.5, 537000.0], [1.5, 1200000.0], [1.0, 260000.0], [1.0, 318000.0], [2.0, 880000.0], [2.0, 1550000.0], [1.5, 2050000.0], [2.0, 462500.0], [2.0, 666000.0], [1.0, 295000.0], [1.0, 147500.0], [3.0, 321000.0], [1.0, 329950.0], [1.5, 1050000.0], [1.0, 435000.0], [2.0, 635000.0], [2.0, 324360.0], [1.0, 210000.0], [2.0, 485000.0], [2.0, 1476000.0], [1.5, 715000.0], [1.0, 523000.0], [1.0, 374000.0], [2.0, 990000.0], [1.5, 499000.0], [1.0, 560000.0], [3.0, 338500.0], [2.0, 499000.0], [1.0, 550000.0], [3.0, 720000.0], [1.0, 375000.0], [1.0, 355000.0], [1.5, 704300.0], [1.0, 265000.0], [1.5, 315000.0], [1.0, 399500.0], [1.0, 255000.0], [1.5, 427500.0], [2.0, 430000.0], [1.0, 275000.0], [1.5, 565000.0], [1.0, 362000.0], [1.0, 310000.0], [1.0, 435000.0], [1.0, 361000.0], [1.0, 500000.0], [2.0, 563500.0], [1.0, 384000.0], [2.0, 260000.0], [1.0, 235000.0], [1.0, 532000.0], [1.0, 438000.0], [1.0, 415000.0], [1.5, 550000.0], [1.0, 240000.0], [1.0, 275000.0], [2.0, 300000.0], [1.0, 439950.0], [1.0, 500000.0], [3.0, 474800.0], [1.0, 288400.0], [2.0, 374950.0], [2.0, 713000.0], [2.0, 402000.0], [1.0, 524000.0], [2.0, 331000.0], [2.0, 575000.0], [2.5, 415000.0], [1.0, 259900.0], [1.0, 577000.0], [1.0, 525000.0], [1.0, 235000.0], [1.0, 399950.0], [2.0, 748000.0], [1.0, 240000.0], [2.0, 1557600.0], [1.0, 515000.0], [1.0, 615000.0], [1.5, 335000.0], [1.0, 359000.0], [2.0, 315000.0], [1.0, 338000.0], [1.0, 485000.0], [1.0, 169500.0], [1.0, 725000.0], [1.0, 284000.0], [1.0, 460500.0], [2.0, 299000.0], [1.5, 620000.0], [1.0, 257100.0], [1.5, 700000.0], [2.0, 546000.0], [2.0, 386950.0], [1.0, 560000.0], [2.0, 819995.0], [2.0, 330000.0], [2.0, 890000.0], [2.5, 799200.0], [2.0, 630000.0], [1.5, 300000.0], [1.0, 1300000.0], [1.5, 456500.0], [1.0, 175000.0], [1.0, 300000.0], [1.0, 320000.0], [1.0, 949000.0], [1.0, 518000.0], [2.0, 410500.0], [2.0, 549900.0], [2.0, 315000.0], [1.0, 500000.0], [1.0, 1650000.0], [1.0, 338500.0], [1.0, 620000.0], [1.0, 740000.0], [2.0, 344000.0], [2.0, 452000.0], [2.0, 650000.0], [1.0, 440000.0], [3.0, 535000.0], [1.0, 283000.0], [1.0, 415000.0], [1.0, 530000.0], [1.0, 647500.0], [2.0, 450000.0], [1.0, 325000.0], [2.0, 350000.0], [1.5, 206325.0], [2.0, 782000.0], [1.0, 329000.0], [2.0, 953007.0], [1.5, 729953.0], [1.0, 256400.0], [1.0, 975000.0]], \"columns\": [{\"dtype\": \"int\", \"name\": \"id\"}, {\"dtype\": \"str\", \"name\": \"date\"}, {\"dtype\": \"float\", \"name\": \"price\"}, {\"dtype\": \"int\", \"name\": \"bedrooms\"}, {\"dtype\": \"float\", \"name\": \"bathrooms\"}, {\"dtype\": \"int\", \"name\": \"sqft_living\"}, {\"dtype\": \"int\", \"name\": \"sqft_lot\"}, {\"dtype\": \"float\", \"name\": \"floors\"}, {\"dtype\": \"int\", \"name\": \"waterfront\"}, {\"dtype\": \"int\", \"name\": \"view\"}, {\"dtype\": \"int\", \"name\": \"condition\"}, {\"dtype\": \"int\", \"name\": \"grade\"}, {\"dtype\": \"int\", \"name\": \"sqft_above\"}, {\"dtype\": \"int\", \"name\": \"sqft_basement\"}, {\"dtype\": \"int\", \"name\": \"yr_built\"}, {\"dtype\": \"int\", \"name\": \"yr_renovated\"}, {\"dtype\": \"int\", \"name\": \"zipcode\"}, {\"dtype\": \"float\", \"name\": \"lat\"}, {\"dtype\": \"float\", \"name\": \"long\"}, {\"dtype\": \"int\", \"name\": \"sqft_living15\"}, {\"dtype\": \"int\", \"name\": \"sqft_lot15\"}]}, e);\n",
       "                });\n",
       "            })();\n",
       "        "
      ]
     },
     "metadata": {},
     "output_type": "display_data"
    },
    {
     "data": {
      "application/javascript": [
       "$(\"head\").append($(\"<link/>\").attr({\n",
       "  rel:  \"stylesheet\",\n",
       "  type: \"text/css\",\n",
       "  href: \"//cdnjs.cloudflare.com/ajax/libs/font-awesome/4.1.0/css/font-awesome.min.css\"\n",
       "}));\n",
       "$(\"head\").append($(\"<link/>\").attr({\n",
       "  rel:  \"stylesheet\",\n",
       "  type: \"text/css\",\n",
       "  href: \"https://static.turi.com/products/graphlab-create/2.1/canvas/css/canvas.css\"\n",
       "}));\n",
       "\n",
       "            (function(){\n",
       "\n",
       "                var e = null;\n",
       "                if (typeof element == 'undefined') {\n",
       "                    var scripts = document.getElementsByTagName('script');\n",
       "                    var thisScriptTag = scripts[scripts.length-1];\n",
       "                    var parentDiv = thisScriptTag.parentNode;\n",
       "                    e = document.createElement('div');\n",
       "                    parentDiv.appendChild(e);\n",
       "                } else {\n",
       "                    e = element[0];\n",
       "                }\n",
       "\n",
       "                if (typeof requirejs !== 'undefined') {\n",
       "                    // disable load timeout; ipython_app.js is large and can take a while to load.\n",
       "                    requirejs.config({waitSeconds: 0});\n",
       "                }\n",
       "\n",
       "                require(['https://static.turi.com/products/graphlab-create/2.1/canvas/js/ipython_app.js'], function(IPythonApp){\n",
       "                    var app = new IPythonApp();\n",
       "                    app.attachView('sframe','Plots', {\"selected_variable\": {\"name\": [\"all_data_frame\"], \"descriptives\": {\"rows\": 21613, \"columns\": 21}, \"view_component\": \"Plots\", \"view_file\": \"sframe\", \"view_params\": {\"y\": \"price\", \"x\": \"condition\", \"columns\": [\"id\", \"date\", \"price\", \"bedrooms\", \"bathrooms\", \"sqft_living\", \"sqft_lot\", \"floors\", \"waterfront\", \"view\", \"condition\", \"grade\", \"sqft_above\", \"sqft_basement\", \"yr_built\", \"yr_renovated\", \"zipcode\", \"lat\", \"long\", \"sqft_living15\", \"sqft_lot15\"], \"view\": \"Scatter Plot\"}, \"view_components\": [\"Summary\", \"Table\", \"Bar Chart\", \"BoxWhisker Plot\", \"Line Chart\", \"Scatter Plot\", \"Heat Map\", \"Plots\"], \"type\": \"SFrame\", \"columns\": [{\"dtype\": \"int\", \"name\": \"id\"}, {\"dtype\": \"str\", \"name\": \"date\"}, {\"dtype\": \"float\", \"name\": \"price\"}, {\"dtype\": \"int\", \"name\": \"bedrooms\"}, {\"dtype\": \"float\", \"name\": \"bathrooms\"}, {\"dtype\": \"int\", \"name\": \"sqft_living\"}, {\"dtype\": \"int\", \"name\": \"sqft_lot\"}, {\"dtype\": \"float\", \"name\": \"floors\"}, {\"dtype\": \"int\", \"name\": \"waterfront\"}, {\"dtype\": \"int\", \"name\": \"view\"}, {\"dtype\": \"int\", \"name\": \"condition\"}, {\"dtype\": \"int\", \"name\": \"grade\"}, {\"dtype\": \"int\", \"name\": \"sqft_above\"}, {\"dtype\": \"int\", \"name\": \"sqft_basement\"}, {\"dtype\": \"int\", \"name\": \"yr_built\"}, {\"dtype\": \"int\", \"name\": \"yr_renovated\"}, {\"dtype\": \"int\", \"name\": \"zipcode\"}, {\"dtype\": \"float\", \"name\": \"lat\"}, {\"dtype\": \"float\", \"name\": \"long\"}, {\"dtype\": \"int\", \"name\": \"sqft_living15\"}, {\"dtype\": \"int\", \"name\": \"sqft_lot15\"}], \"column_identifiers\": [\"bathrooms\", \"sqft_living15\", \"sqft_above\", \"grade\", \"yr_built\", \"price\", \"bedrooms\", \"zipcode\", \"long\", \"id\", \"sqft_lot15\", \"sqft_living\", \"floors\", \"sqft_lot\", \"date\", \"waterfront\", \"sqft_basement\", \"yr_renovated\", \"lat\", \"condition\", \"view\"]}, \"complete\": 1, \"ipython\": true, \"progress\": 1.0, \"data\": [[3, 221900.0], [3, 715000.0], [4, 915000.0], [3, 430000.0], [3, 100000.0], [3, 339000.0], [3, 536751.0], [4, 231000.0], [4, 460000.0], [3, 187000.0], [3, 724800.0], [3, 325000.0], [4, 200000.0], [4, 396675.0], [3, 1250000.0], [3, 405000.0], [3, 310000.0], [3, 250000.0], [3, 420000.0], [3, 394950.0], [4, 986000.0], [3, 500000.0], [4, 312500.0], [3, 729000.0], [3, 770000.0], [3, 1050000.0], [3, 325000.0], [4, 745000.0], [4, 326000.0], [5, 665000.0], [4, 530000.0], [4, 777000.0], [4, 425000.0], [3, 472500.0], [3, 699850.0], [3, 450000.0], [3, 158000.0], [4, 1100000.0], [4, 300000.0], [3, 835000.0], [5, 199999.0], [3, 461000.0], [3, 285000.0], [3, 115000.0], [3, 375000.0], [4, 330000.0], [4, 475000.0], [3, 600000.0], [3, 1675000.0], [3, 269000.0], [3, 300000.0], [3, 515000.0], [5, 310000.0], [4, 422500.0], [3, 812000.0], [3, 280000.0], [3, 414950.0], [3, 489950.0], [4, 951000.0], [3, 430000.0], [3, 221000.0], [3, 280000.0], [3, 445000.0], [4, 572000.0], [3, 472000.0], [4, 560000.0], [3, 345000.0], [4, 235000.0], [4, 185000.0], [3, 345000.0], [4, 880000.0], [3, 472000.0], [4, 583000.0], [3, 415000.0], [3, 340000.0], [3, 318000.0], [5, 204995.0], [3, 465000.0], [4, 479000.0], [4, 542000.0], [5, 450000.0], [3, 164950.0], [3, 785000.0], [3, 500000.0], [5, 1210000.0], [4, 345000.0], [4, 340000.0], [3, 345000.0], [3, 901000.0], [3, 270000.0], [4, 292000.0], [4, 322400.0], [3, 169500.0], [3, 568000.0], [3, 460000.0], [4, 240000.0], [4, 890000.0], [4, 690000.0], [4, 250000.0], [3, 324950.0], [4, 355425.0], [3, 435000.0], [3, 630000.0], [3, 459000.0], [4, 550000.0], [4, 725000.0], [5, 689800.0], [3, 316000.0], [3, 435000.0], [3, 535000.0], [4, 1225000.0], [4, 322200.0], [4, 190000.0], [4, 399950.0], [3, 499950.0], [3, 375000.0], [3, 720000.0], [3, 325000.0], [3, 425000.0], [3, 334000.0], [3, 499000.0], [3, 399950.0], [3, 395000.0], [3, 204950.0], [3, 455000.0], [4, 402000.0], [3, 257500.0], [3, 595000.0], [3, 200000.0], [3, 146000.0], [5, 503000.0], [4, 206135.0], [3, 349000.0], [4, 185000.0], [5, 638000.0], [3, 231750.0], [3, 690000.0], [4, 875000.0], [3, 312500.0], [4, 1325000.0], [4, 260000.0], [4, 527700.0], [4, 800000.0], [4, 815000.0], [3, 648000.0], [4, 550000.0], [3, 525000.0], [4, 375000.0], [3, 705000.0], [4, 561750.0], [3, 375000.0], [4, 330000.0], [4, 705000.0], [3, 425000.0], [3, 250000.0], [4, 215000.0], [3, 308000.0], [3, 128000.0], [3, 966000.0], [3, 1107460.0], [4, 220000.0], [3, 195000.0], [3, 489000.0], [3, 348500.0], [3, 278000.0], [4, 462600.0], [4, 750000.0], [3, 450000.0], [3, 469000.0], [3, 345000.0], [4, 499950.0], [3, 319000.0], [3, 349950.0], [3, 359000.0], [4, 1085000.0], [4, 269950.0], [3, 281000.0], [5, 645000.0], [3, 386500.0], [3, 330000.0], [4, 1095000.0], [3, 350000.0], [3, 706000.0], [3, 495500.0], [4, 368000.0], [3, 270000.0], [3, 500000.0], [3, 455000.0], [3, 665000.0], [3, 860000.0], [3, 450000.0], [3, 535000.0], [3, 122000.0], [3, 335000.0], [4, 483300.0], [3, 350000.0], [3, 404000.0], [4, 855000.0], [4, 320000.0], [3, 338150.0], [4, 210000.0], [4, 463000.0], [3, 550000.0], [3, 555000.0], [5, 403000.0], [3, 415000.0], [3, 677900.0], [3, 360000.0], [4, 453000.0], [4, 1063000.0], [3, 455000.0], [5, 680000.0], [3, 595000.0], [3, 1200000.0], [4, 456000.0], [3, 921800.0], [3, 499950.0], [4, 550000.0], [3, 549950.0], [3, 363000.0], [3, 229950.0], [5, 799990.0], [3, 330000.0], [2, 250000.0], [3, 459000.0], [5, 687000.0], [3, 375000.0], [4, 410000.0], [4, 350000.0], [3, 798000.0], [4, 315000.0], [3, 701000.0], [4, 253000.0], [3, 390000.0], [3, 635000.0], [3, 427500.0], [5, 416000.0], [4, 720000.0], [3, 982000.0], [3, 480000.0], [4, 695000.0], [3, 355500.0], [3, 1240420.0], [5, 635200.0], [3, 507200.0], [4, 705640.0], [3, 283500.0], [3, 181000.0], [3, 246000.0], [4, 485000.0], [3, 260000.0], [4, 375000.0], [3, 498000.0], [3, 336600.0], [3, 951250.0], [3, 489000.0], [3, 348580.0], [3, 2367000.0], [3, 411000.0], [3, 643950.0], [4, 305495.0], [3, 310000.0], [4, 265000.0], [3, 385000.0], [3, 568500.0], [3, 529000.0], [4, 410000.0], [3, 720000.0], [3, 363000.0], [3, 357500.0], [4, 320000.0], [5, 783000.0], [3, 565000.0], [3, 495000.0], [4, 778000.0], [5, 340000.0], [4, 316000.0], [3, 495000.0], [3, 332000.0], [3, 1078500.0], [3, 255950.0], [3, 373500.0], [5, 2050000.0], [3, 511200.0], [3, 299950.0], [3, 257500.0], [4, 500000.0], [3, 361000.0], [3, 170000.0], [3, 644000.0], [3, 436000.0], [4, 550000.0], [3, 665000.0], [3, 580000.0], [4, 280000.0], [3, 600000.0], [3, 667000.0], [3, 855000.0], [3, 925000.0], [4, 630000.0], [3, 405000.0], [4, 290000.0], [3, 345000.0], [3, 679000.0], [4, 295000.0], [3, 1300000.0], [3, 349950.0], [3, 370000.0], [3, 360000.0], [3, 736500.0], [4, 275000.0], [4, 239950.0], [4, 249950.0], [3, 355000.0], [3, 230000.0], [4, 390000.0], [3, 439000.0], [4, 460000.0], [3, 1870000.0], [3, 780000.0], [3, 440000.0], [5, 719000.0], [3, 425000.0], [4, 500000.0], [3, 585000.0], [3, 275000.0], [4, 259500.0], [4, 339000.0], [4, 270000.0], [3, 301500.0], [4, 2630000.0], [4, 555700.0], [3, 369950.0], [3, 399950.0], [5, 940000.0], [3, 260000.0], [3, 600000.0], [4, 275000.0], [3, 575000.0], [3, 700000.0], [3, 299900.0], [3, 369990.0], [3, 255000.0], [4, 605000.0], [5, 397000.0], [3, 336500.0], [3, 302000.0], [3, 261500.0], [3, 325000.0], [3, 812000.0], [3, 660000.0], [3, 855000.0], [5, 353000.0], [3, 258800.0], [3, 380000.0], [3, 741000.0], [3, 272000.0], [3, 535000.0], [4, 254600.0], [3, 247500.0], [4, 423000.0], [3, 420000.0], [3, 850000.0], [3, 751000.0], [3, 397380.0], [3, 407193.0], [3, 350000.0], [3, 577000.0], [5, 569000.0], [4, 169500.0], [4, 320000.0], [3, 164000.0], [3, 295000.0], [3, 310000.0], [5, 242000.0], [3, 730000.0], [3, 850000.0], [3, 417000.0], [5, 625000.0], [3, 337000.0], [4, 720000.0], [3, 546000.0], [3, 590000.0], [3, 260000.0], [3, 1211000.0], [3, 563000.0], [3, 1095000.0], [4, 185000.0], [3, 760005.0], [3, 421000.0], [3, 345000.0], [3, 500000.0], [3, 590000.0], [5, 652450.0], [3, 415900.0], [3, 430000.0], [4, 530000.0], [3, 470000.0], [4, 810000.0], [3, 460000.0], [3, 216000.0], [3, 261500.0], [3, 327000.0], [3, 190000.0], [4, 170000.0], [5, 764000.0], [4, 774000.0], [5, 296000.0], [3, 565000.0], [3, 535000.0], [3, 460940.0], [5, 1100000.0], [3, 950000.0], [3, 1555000.0], [3, 279000.0], [5, 495000.0], [3, 725000.0], [2, 800000.0], [3, 315000.0], [3, 333000.0], [3, 234500.0], [4, 307000.0], [5, 1039000.0], [3, 579000.0], [5, 275000.0], [3, 375000.0], [4, 270000.0], [4, 304000.0], [5, 661254.0], [3, 256400.0], [4, 620000.0], [3, 988000.0], [4, 712000.0], [3, 305000.0], [3, 569950.0], [4, 235000.0], [3, 722500.0], [4, 1436000.0], [3, 327500.0], [3, 289000.0], [2, 396400.0], [4, 248000.0], [4, 869000.0], [3, 235000.0], [4, 490000.0], [3, 470000.0], [3, 315000.0], [3, 449950.0], [3, 1315000.0], [3, 628000.0], [4, 280000.0], [3, 283200.0], [3, 1000000.0], [3, 541000.0], [5, 375000.0], [3, 5570000.0], [3, 510000.0], [4, 760000.0], [3, 480000.0], [4, 772000.0], [4, 290000.0], [3, 245000.0], [4, 490000.0], [3, 510000.0], [3, 538000.0], [3, 401000.0], [3, 197000.0], [3, 336000.0], [4, 449950.0], [4, 203000.0], [3, 382500.0], [3, 550000.0], [3, 365000.0], [3, 365000.0], [3, 158800.0], [4, 224500.0], [3, 595000.0], [3, 523460.0], [3, 720000.0], [3, 295000.0], [2, 205000.0], [3, 342000.0], [3, 301500.0], [4, 418000.0], [3, 1385000.0], [3, 343500.0], [3, 198500.0], [3, 1185000.0], [3, 3650000.0], [4, 716528.0], [3, 270500.0], [3, 420000.0], [3, 910000.0], [3, 670000.0], [4, 295000.0], [3, 900000.0], [3, 285000.0], [3, 775000.0], [3, 296475.0], [3, 400000.0], [3, 770126.0], [3, 257500.0], [4, 342000.0], [5, 719000.0], [3, 481000.0], [4, 449950.0], [3, 425000.0], [3, 358803.0], [3, 292000.0], [5, 349900.0], [3, 533380.0], [4, 1950000.0], [4, 970000.0], [3, 290000.0], [3, 387990.0], [4, 177000.0], [3, 460000.0], [4, 325000.0], [5, 255950.0], [3, 1355000.0], [4, 572500.0], [3, 470000.0], [4, 336900.0], [5, 765000.0], [3, 490000.0], [4, 485000.0], [3, 345000.0], [3, 350000.0], [3, 420000.0], [3, 250000.0], [3, 650000.0], [4, 980000.0], [4, 200000.0], [3, 399000.0], [3, 530000.0], [3, 420000.0], [4, 635000.0], [3, 241000.0], [4, 325000.0], [3, 671000.0], [4, 2125000.0], [3, 412000.0], [3, 362000.0], [3, 600000.0], [3, 779000.0], [4, 496752.0], [4, 1225000.0], [4, 385000.0], [3, 337000.0], [5, 724950.0], [4, 705000.0], [4, 264950.0], [4, 950000.0], [4, 261000.0], [3, 178000.0], [3, 229500.0], [3, 619000.0], [4, 490000.0], [4, 389000.0], [3, 555000.0], [3, 580000.0], [3, 502500.0], [3, 254950.0], [3, 500000.0], [3, 222000.0], [3, 435000.0], [3, 627800.0], [3, 247500.0], [3, 450000.0], [3, 368000.0], [3, 338900.0], [3, 471000.0], [4, 581000.0], [3, 847093.0], [3, 263500.0], [3, 319000.0], [3, 439888.0], [3, 260000.0], [3, 530000.0], [3, 485000.0], [4, 425000.0], [5, 880000.0], [3, 325000.0], [3, 405500.0], [3, 429800.0], [4, 865000.0], [4, 1810000.0], [4, 739000.0], [4, 529900.0], [3, 935000.0], [4, 1050000.0], [3, 300000.0], [3, 275436.0], [4, 306500.0], [3, 700000.0], [5, 760000.0], [4, 960000.0], [5, 500000.0], [5, 174000.0], [3, 1335000.0], [3, 184000.0], [3, 350000.0], [3, 650000.0], [3, 789800.0], [3, 273000.0], [3, 527000.0], [4, 600000.0], [3, 865000.0], [3, 1320000.0], [3, 887500.0], [4, 570000.0], [3, 485000.0], [3, 306000.0], [5, 308500.0], [3, 224000.0], [3, 500000.0], [3, 400000.0], [3, 542000.0], [3, 870000.0], [3, 942000.0], [5, 1100000.0], [4, 507000.0], [3, 400000.0], [4, 267000.0], [3, 520000.0], [3, 383000.0], [3, 530000.0], [3, 384000.0], [3, 925000.0], [3, 249000.0], [3, 1650000.0], [4, 565000.0], [3, 650000.0], [3, 379950.0], [3, 690000.0], [4, 327000.0], [3, 471750.0], [3, 205000.0], [3, 309950.0], [3, 370000.0], [4, 299000.0], [3, 1500000.0], [4, 465000.0], [3, 437500.0], [3, 452000.0], [3, 950000.0], [3, 490000.0], [3, 643500.0], [4, 228950.0], [4, 367000.0], [3, 360500.0], [3, 442000.0], [4, 275000.0], [4, 425000.0], [3, 1200000.0], [4, 785000.0], [3, 312500.0], [3, 495000.0], [5, 589000.0], [3, 485000.0], [4, 898000.0], [3, 467000.0], [3, 145000.0], [3, 233500.0], [3, 780000.0], [3, 760000.0], [3, 649950.0], [4, 1959000.0], [3, 635000.0], [2, 156000.0], [3, 510000.0], [3, 487500.0], [3, 430000.0], [5, 450000.0], [3, 850000.0], [4, 449950.0], [4, 355000.0], [3, 285000.0], [4, 205000.0], [3, 475000.0], [3, 518000.0], [3, 349950.0], [3, 253000.0], [3, 1680000.0], [5, 980000.0], [3, 263000.0], [4, 223000.0], [5, 501000.0], [3, 387500.0], [3, 353500.0], [3, 353000.0], [3, 293000.0], [3, 359900.0], [3, 590000.0], [3, 1180500.0], [3, 219950.0], [5, 459000.0], [4, 359950.0], [3, 380000.0], [3, 395000.0], [3, 682000.0], [3, 290750.0], [4, 311000.0], [3, 485000.0], [3, 315000.0], [4, 350000.0], [4, 440000.0], [3, 530000.0], [3, 282000.0], [4, 530000.0], [3, 482500.0], [4, 895000.0], [5, 835000.0], [4, 250000.0], [3, 800000.0], [3, 690000.0], [3, 492500.0], [3, 375000.0], [3, 377000.0], [3, 2298000.0], [4, 549000.0], [3, 330000.0], [3, 321500.0], [3, 960000.0], [3, 362000.0], [3, 500000.0], [3, 690000.0], [3, 492000.0], [3, 328000.0], [4, 640000.0], [5, 860000.0], [3, 315000.0], [3, 465000.0], [3, 380000.0], [3, 1215000.0], [4, 381500.0], [4, 300000.0], [3, 1240000.0], [3, 525000.0], [2, 405000.0], [3, 1190000.0], [5, 300000.0], [4, 585000.0], [3, 882566.0], [4, 560000.0], [4, 320000.0], [4, 650000.0], [4, 306000.0], [3, 399000.0], [3, 515000.0], [3, 240000.0], [4, 250000.0], [2, 200000.0], [4, 353950.0], [3, 278500.0], [3, 1295000.0], [3, 375000.0], [3, 425000.0], [5, 191000.0], [4, 750000.0], [3, 649000.0], [3, 435000.0], [3, 286651.0], [3, 825000.0], [3, 751000.0], [3, 1699990.0], [3, 328000.0], [4, 225900.0], [3, 554000.0], [3, 405000.0], [3, 280000.0], [4, 135000.0], [4, 229500.0], [3, 471000.0], [3, 299500.0], [3, 524950.0], [5, 554000.0], [4, 175409.0], [3, 335606.0], [4, 450000.0], [5, 845000.0], [4, 274000.0], [3, 1550000.0], [3, 385000.0], [3, 507000.0], [4, 218000.0], [4, 524400.0], [4, 450000.0], [3, 489000.0], [4, 385000.0], [4, 373000.0], [4, 590000.0], [3, 467000.0], [4, 339950.0], [4, 474000.0], [3, 420000.0], [4, 306000.0], [3, 315000.0], [3, 812500.0], [4, 1100000.0], [3, 919204.0], [3, 485000.0], [3, 249900.0], [4, 197400.0], [4, 470000.0], [3, 326000.0], [4, 542500.0], [3, 382500.0], [3, 409000.0], [5, 254000.0], [3, 275000.0], [3, 443000.0], [3, 435000.0], [3, 371000.0], [3, 835000.0], [4, 576000.0], [3, 374950.0], [4, 384200.0], [5, 500000.0], [3, 625250.0], [4, 565000.0], [4, 345000.0], [3, 825000.0], [4, 287500.0], [3, 1030000.0], [3, 703000.0], [4, 257000.0], [4, 395000.0], [3, 426500.0], [3, 315000.0], [3, 329950.0], [3, 255000.0], [3, 540000.0], [4, 305000.0], [3, 651000.0], [3, 672500.0], [5, 420000.0], [4, 375000.0], [3, 558000.0], [3, 537500.0], [3, 450000.0], [4, 877500.0], [3, 465000.0], [3, 333000.0], [4, 645000.0], [3, 235000.0], [4, 1215000.0], [4, 425000.0], [4, 365000.0], [4, 625000.0], [3, 790000.0], [5, 680000.0], [3, 350000.0], [3, 755000.0], [3, 500000.0], [3, 370500.0], [4, 275000.0], [3, 520000.0], [3, 800000.0], [2, 580000.0], [4, 730000.0], [3, 305000.0], [4, 254000.0], [3, 587500.0], [3, 630000.0], [4, 315000.0], [4, 296500.0], [3, 827500.0], [4, 350000.0], [4, 294000.0], [4, 890000.0], [3, 1015000.0], [3, 353000.0], [4, 362950.0], [4, 1062500.0], [3, 475000.0], [4, 363000.0], [3, 430000.0], [3, 442500.0], [5, 375000.0], [5, 428000.0], [5, 430000.0], [3, 175000.0], [3, 300000.0], [3, 880000.0], [3, 280000.0], [4, 700000.0], [4, 610000.0], [3, 169575.0], [4, 335900.0], [3, 305000.0], [4, 473000.0], [4, 190000.0], [3, 175000.0], [3, 225000.0], [3, 525000.0], [3, 256000.0], [3, 465000.0], [3, 344000.0], [4, 625000.0], [4, 330000.0], [3, 553000.0], [3, 839900.0], [2, 560000.0], [3, 949990.0], [3, 585000.0], [3, 133000.0], [2, 550000.0], [4, 465000.0], [3, 775000.0], [5, 435000.0], [3, 340000.0], [4, 565000.0], [3, 313300.0], [3, 333800.0], [3, 575000.0], [4, 250000.0], [3, 240000.0], [3, 1365000.0], [3, 1030000.0], [3, 575700.0], [5, 705000.0], [3, 203700.0], [5, 400000.0], [4, 210000.0], [4, 670000.0], [3, 1000750.0], [3, 809000.0], [3, 500000.0], [5, 159995.0], [3, 645000.0], [4, 398000.0], [3, 557000.0], [4, 260250.0], [4, 530000.0], [3, 426000.0], [3, 640000.0], [3, 538000.0], [4, 535000.0], [3, 344000.0], [5, 720000.0], [4, 315000.0], [3, 721000.0], [3, 207100.0], [3, 672600.0], [3, 1135250.0], [3, 898000.0], [3, 645000.0], [3, 298000.0], [3, 352800.0], [5, 402000.0], [3, 549000.0], [5, 598000.0], [3, 549995.0], [5, 339000.0], [4, 700000.0], [3, 426500.0], [3, 435000.0], [3, 269000.0], [4, 359950.0], [5, 650000.0], [3, 225000.0], [3, 402500.0], [3, 490000.0], [3, 885000.0], [3, 415000.0], [3, 345000.0], [4, 650000.0], [5, 330000.0], [4, 925000.0], [3, 428950.0], [4, 725000.0], [3, 344500.0], [3, 360000.0], [3, 650000.0], [3, 770000.0], [4, 469500.0], [4, 430000.0], [3, 350000.0], [3, 415000.0], [3, 565000.0], [3, 379500.0], [3, 555000.0], [3, 557000.0], [4, 217000.0], [3, 435000.0], [3, 640000.0], [4, 200000.0], [4, 734000.0], [3, 513000.0], [4, 281000.0], [3, 219900.0], [3, 285000.0], [3, 253000.0], [3, 230000.0], [3, 520000.0], [3, 345500.0], [3, 650000.0], [3, 290000.0], [5, 620000.0]], \"columns\": [{\"dtype\": \"int\", \"name\": \"id\"}, {\"dtype\": \"str\", \"name\": \"date\"}, {\"dtype\": \"float\", \"name\": \"price\"}, {\"dtype\": \"int\", \"name\": \"bedrooms\"}, {\"dtype\": \"float\", \"name\": \"bathrooms\"}, {\"dtype\": \"int\", \"name\": \"sqft_living\"}, {\"dtype\": \"int\", \"name\": \"sqft_lot\"}, {\"dtype\": \"float\", \"name\": \"floors\"}, {\"dtype\": \"int\", \"name\": \"waterfront\"}, {\"dtype\": \"int\", \"name\": \"view\"}, {\"dtype\": \"int\", \"name\": \"condition\"}, {\"dtype\": \"int\", \"name\": \"grade\"}, {\"dtype\": \"int\", \"name\": \"sqft_above\"}, {\"dtype\": \"int\", \"name\": \"sqft_basement\"}, {\"dtype\": \"int\", \"name\": \"yr_built\"}, {\"dtype\": \"int\", \"name\": \"yr_renovated\"}, {\"dtype\": \"int\", \"name\": \"zipcode\"}, {\"dtype\": \"float\", \"name\": \"lat\"}, {\"dtype\": \"float\", \"name\": \"long\"}, {\"dtype\": \"int\", \"name\": \"sqft_living15\"}, {\"dtype\": \"int\", \"name\": \"sqft_lot15\"}]}, e);\n",
       "                });\n",
       "            })();\n",
       "        "
      ]
     },
     "metadata": {},
     "output_type": "display_data"
    },
    {
     "data": {
      "application/javascript": [
       "$(\"head\").append($(\"<link/>\").attr({\n",
       "  rel:  \"stylesheet\",\n",
       "  type: \"text/css\",\n",
       "  href: \"//cdnjs.cloudflare.com/ajax/libs/font-awesome/4.1.0/css/font-awesome.min.css\"\n",
       "}));\n",
       "$(\"head\").append($(\"<link/>\").attr({\n",
       "  rel:  \"stylesheet\",\n",
       "  type: \"text/css\",\n",
       "  href: \"https://static.turi.com/products/graphlab-create/2.1/canvas/css/canvas.css\"\n",
       "}));\n",
       "\n",
       "            (function(){\n",
       "\n",
       "                var e = null;\n",
       "                if (typeof element == 'undefined') {\n",
       "                    var scripts = document.getElementsByTagName('script');\n",
       "                    var thisScriptTag = scripts[scripts.length-1];\n",
       "                    var parentDiv = thisScriptTag.parentNode;\n",
       "                    e = document.createElement('div');\n",
       "                    parentDiv.appendChild(e);\n",
       "                } else {\n",
       "                    e = element[0];\n",
       "                }\n",
       "\n",
       "                if (typeof requirejs !== 'undefined') {\n",
       "                    // disable load timeout; ipython_app.js is large and can take a while to load.\n",
       "                    requirejs.config({waitSeconds: 0});\n",
       "                }\n",
       "\n",
       "                require(['https://static.turi.com/products/graphlab-create/2.1/canvas/js/ipython_app.js'], function(IPythonApp){\n",
       "                    var app = new IPythonApp();\n",
       "                    app.attachView('sframe','Plots', {\"selected_variable\": {\"name\": [\"all_data_frame\"], \"descriptives\": {\"rows\": 21613, \"columns\": 21}, \"view_component\": \"Plots\", \"view_file\": \"sframe\", \"view_params\": {\"y\": \"price\", \"x\": \"view\", \"columns\": [\"id\", \"date\", \"price\", \"bedrooms\", \"bathrooms\", \"sqft_living\", \"sqft_lot\", \"floors\", \"waterfront\", \"view\", \"condition\", \"grade\", \"sqft_above\", \"sqft_basement\", \"yr_built\", \"yr_renovated\", \"zipcode\", \"lat\", \"long\", \"sqft_living15\", \"sqft_lot15\"], \"view\": \"Scatter Plot\"}, \"view_components\": [\"Summary\", \"Table\", \"Bar Chart\", \"BoxWhisker Plot\", \"Line Chart\", \"Scatter Plot\", \"Heat Map\", \"Plots\"], \"type\": \"SFrame\", \"columns\": [{\"dtype\": \"int\", \"name\": \"id\"}, {\"dtype\": \"str\", \"name\": \"date\"}, {\"dtype\": \"float\", \"name\": \"price\"}, {\"dtype\": \"int\", \"name\": \"bedrooms\"}, {\"dtype\": \"float\", \"name\": \"bathrooms\"}, {\"dtype\": \"int\", \"name\": \"sqft_living\"}, {\"dtype\": \"int\", \"name\": \"sqft_lot\"}, {\"dtype\": \"float\", \"name\": \"floors\"}, {\"dtype\": \"int\", \"name\": \"waterfront\"}, {\"dtype\": \"int\", \"name\": \"view\"}, {\"dtype\": \"int\", \"name\": \"condition\"}, {\"dtype\": \"int\", \"name\": \"grade\"}, {\"dtype\": \"int\", \"name\": \"sqft_above\"}, {\"dtype\": \"int\", \"name\": \"sqft_basement\"}, {\"dtype\": \"int\", \"name\": \"yr_built\"}, {\"dtype\": \"int\", \"name\": \"yr_renovated\"}, {\"dtype\": \"int\", \"name\": \"zipcode\"}, {\"dtype\": \"float\", \"name\": \"lat\"}, {\"dtype\": \"float\", \"name\": \"long\"}, {\"dtype\": \"int\", \"name\": \"sqft_living15\"}, {\"dtype\": \"int\", \"name\": \"sqft_lot15\"}], \"column_identifiers\": [\"bathrooms\", \"sqft_living15\", \"sqft_above\", \"grade\", \"yr_built\", \"price\", \"bedrooms\", \"zipcode\", \"long\", \"id\", \"sqft_lot15\", \"sqft_living\", \"floors\", \"sqft_lot\", \"date\", \"waterfront\", \"sqft_basement\", \"yr_renovated\", \"lat\", \"condition\", \"view\"]}, \"complete\": 1, \"ipython\": true, \"progress\": 1.0, \"data\": [[0, 325000.0], [0, 374000.0], [0, 402000.0], [2, 954500.0], [0, 337500.0], [0, 550000.0], [0, 310000.0], [0, 875000.0], [0, 453500.0], [2, 442000.0], [0, 334999.0], [0, 475000.0], [0, 510000.0], [0, 400000.0], [0, 335000.0], [0, 275000.0], [0, 734000.0], [0, 1430000.0], [3, 830000.0], [0, 890000.0], [3, 767500.0], [0, 277500.0], [0, 377691.0], [1, 1175000.0], [0, 715000.0], [0, 731100.0], [0, 475000.0], [0, 869900.0], [0, 330000.0], [3, 1085000.0], [0, 471000.0], [0, 430000.0], [0, 315000.0], [0, 335000.0], [0, 210000.0], [0, 370000.0], [0, 970000.0], [4, 572000.0], [0, 275000.0], [0, 275500.0], [0, 449000.0], [2, 1370000.0], [0, 315000.0], [0, 330000.0], [0, 450000.0], [3, 2298000.0], [0, 310000.0], [0, 785000.0], [0, 450000.0], [0, 799950.0], [1, 324950.0], [0, 1378600.0], [0, 242150.0], [0, 647500.0], [0, 425000.0], [0, 511000.0], [0, 725000.0], [3, 600000.0], [0, 540500.0], [0, 377000.0], [0, 279000.0], [0, 339999.0], [0, 419354.0], [0, 850000.0], [0, 350000.0], [2, 700000.0], [0, 795000.0], [0, 287000.0], [0, 405000.0], [0, 492000.0], [0, 623000.0], [4, 1851000.0], [0, 289950.0], [1, 1230000.0], [0, 752000.0], [0, 704000.0], [0, 920000.0], [0, 412500.0], [0, 417000.0], [2, 560000.0], [0, 573000.0], [0, 360000.0], [0, 458000.0], [0, 677100.0], [0, 350000.0], [0, 589000.0], [2, 437500.0], [0, 920000.0], [0, 497000.0], [3, 536000.0], [0, 431000.0], [0, 397000.0], [0, 1210000.0], [0, 602000.0], [0, 396000.0], [1, 491300.0], [0, 767500.0], [0, 631625.0], [0, 276500.0], [0, 559000.0], [0, 738000.0], [0, 750000.0], [0, 312000.0], [0, 515000.0], [0, 345000.0], [0, 525000.0], [0, 585000.0], [2, 640000.0], [0, 299500.0], [0, 340000.0], [2, 545000.0], [0, 135000.0], [0, 565000.0], [0, 410000.0], [0, 500000.0], [0, 438900.0], [0, 730000.0], [0, 179500.0], [0, 227500.0], [0, 205000.0], [0, 450000.0], [0, 370000.0], [0, 795000.0], [4, 1600000.0], [0, 770000.0], [0, 548500.0], [0, 199500.0], [0, 475000.0], [0, 160000.0], [1, 991700.0], [0, 849000.0], [0, 375000.0], [0, 443000.0], [0, 435000.0], [0, 524950.0], [0, 635000.0], [0, 285167.0], [0, 625000.0], [0, 355000.0], [0, 306500.0], [0, 326000.0], [0, 285000.0], [0, 230000.0], [0, 192500.0], [0, 495000.0], [0, 330000.0], [0, 244000.0], [0, 467500.0], [0, 735000.0], [0, 230000.0], [0, 235500.0], [0, 170000.0], [0, 265000.0], [0, 240000.0], [0, 160000.0], [0, 620000.0], [0, 930000.0], [0, 185850.0], [1, 1280600.0], [0, 257000.0], [0, 372500.0], [0, 604000.0], [0, 345000.0], [0, 234975.0], [0, 490000.0], [1, 407000.0], [0, 295000.0], [0, 335000.0], [0, 285000.0], [0, 526000.0], [0, 304000.0], [0, 335000.0], [0, 475000.0], [0, 320000.0], [0, 697000.0], [0, 455000.0], [0, 254000.0], [0, 385000.0], [1, 1880000.0], [0, 206000.0], [0, 199988.0], [0, 230000.0], [2, 844000.0], [0, 620000.0], [0, 335000.0], [0, 741500.0], [0, 290000.0], [3, 425000.0], [0, 820000.0], [3, 881000.0], [0, 449500.0], [0, 670000.0], [0, 409000.0], [0, 657100.0], [0, 355000.0], [0, 210000.0], [0, 771000.0], [0, 400000.0], [0, 375000.0], [3, 1075000.0], [0, 930000.0], [0, 345000.0], [0, 265000.0], [0, 827500.0], [0, 447000.0], [3, 950000.0], [0, 677900.0], [0, 487000.0], [0, 180250.0], [0, 325000.0], [0, 442500.0], [0, 1227500.0], [0, 382000.0], [0, 222500.0], [0, 445000.0], [0, 1140000.0], [0, 580000.0], [0, 900000.0], [0, 187000.0], [0, 247500.0], [0, 459000.0], [0, 325000.0], [0, 532000.0], [4, 1680000.0], [0, 470000.0], [0, 552500.0], [0, 470000.0], [0, 577000.0], [0, 795000.0], [0, 244615.0], [0, 195000.0], [2, 780000.0], [0, 799000.0], [0, 300000.0], [0, 454000.0], [0, 1025000.0], [0, 240000.0], [0, 233000.0], [0, 269000.0], [0, 237200.0], [0, 597326.0], [0, 335000.0], [0, 2065000.0], [0, 485000.0], [0, 344000.0], [0, 540000.0], [0, 392000.0], [0, 1749000.0], [0, 485000.0], [0, 510000.0], [2, 690000.0], [0, 170000.0], [0, 1500000.0], [0, 497000.0], [0, 435000.0], [0, 412000.0], [0, 464000.0], [0, 640000.0], [0, 369000.0], [0, 693000.0], [0, 258000.0], [0, 410000.0], [0, 652500.0], [0, 416500.0], [0, 245000.0], [0, 885000.0], [0, 323000.0], [0, 335000.0], [0, 485000.0], [0, 525000.0], [0, 575000.0], [0, 325000.0], [0, 428000.0], [1, 779000.0], [0, 280500.0], [0, 453500.0], [0, 293000.0], [0, 449500.0], [1, 449900.0], [0, 289000.0], [0, 449950.0], [0, 455000.0], [1, 2050000.0], [0, 262000.0], [0, 260000.0], [0, 355000.0], [0, 206325.0], [0, 595000.0], [0, 674000.0], [0, 910000.0], [0, 399950.0], [0, 308000.0], [0, 387000.0], [0, 580000.0], [0, 509500.0], [0, 680000.0], [0, 420000.0], [0, 542500.0], [0, 400000.0], [0, 680000.0], [0, 265000.0], [0, 275000.0], [0, 325000.0], [0, 788600.0], [0, 565000.0], [2, 410000.0], [0, 287000.0], [0, 830000.0], [0, 550700.0], [0, 438000.0], [0, 1185000.0], [0, 281000.0], [0, 215000.0], [0, 365000.0], [0, 373000.0], [0, 445000.0], [0, 330000.0], [0, 640500.0], [0, 425000.0], [0, 429950.0], [0, 819900.0], [0, 255544.0], [0, 657500.0], [0, 366000.0], [1, 1140000.0], [0, 415000.0], [0, 395000.0], [0, 352000.0], [0, 515000.0], [0, 480000.0], [0, 382000.0], [0, 510000.0], [0, 266000.0], [0, 530000.0], [2, 1355000.0], [3, 1485000.0], [0, 419950.0], [0, 286000.0], [0, 322000.0], [0, 363000.0], [0, 270000.0], [0, 765000.0], [0, 1482500.0], [0, 268643.0], [0, 303000.0], [0, 425000.0], [2, 430000.0], [0, 320000.0], [0, 299950.0], [0, 754842.0], [0, 641000.0], [0, 305000.0], [0, 575000.0], [2, 437500.0], [0, 385000.0], [0, 255000.0], [0, 271500.0], [3, 1436000.0], [0, 339000.0], [0, 562100.0], [0, 248500.0], [0, 445000.0], [0, 477000.0], [0, 875000.0], [0, 418000.0], [0, 660000.0], [0, 410000.0], [0, 460000.0], [0, 620000.0], [0, 660000.0], [0, 185000.0], [4, 1735000.0], [0, 370000.0], [0, 276000.0], [0, 799000.0], [2, 975000.0], [0, 245000.0], [0, 650000.0], [0, 420000.0], [0, 988990.0], [0, 205000.0], [0, 825000.0], [0, 285000.0], [0, 311000.0], [0, 665000.0], [0, 799000.0], [0, 365500.0], [0, 470000.0], [0, 1700000.0], [0, 280000.0], [0, 294400.0], [0, 371000.0], [0, 564000.0], [2, 485000.0], [0, 240000.0], [0, 305000.0], [0, 550000.0], [0, 190000.0], [0, 460000.0], [0, 598000.0], [0, 419000.0], [4, 975000.0], [0, 415000.0], [0, 381000.0], [0, 780000.0], [0, 324747.0], [0, 490000.0], [0, 287000.0], [0, 1085000.0], [0, 329950.0], [0, 460000.0], [0, 378000.0], [0, 315000.0], [4, 1650000.0], [0, 813000.0], [0, 362000.0], [0, 830000.0], [0, 510000.0], [0, 280000.0], [0, 261000.0], [0, 908990.0], [0, 399500.0], [0, 350000.0], [0, 459000.0], [0, 760000.0], [0, 625700.0], [0, 395000.0], [0, 515000.0], [0, 590000.0], [0, 135900.0], [0, 284000.0], [0, 445000.0], [0, 939000.0], [0, 1800000.0], [0, 425000.0], [0, 250000.0], [0, 850000.0], [0, 575000.0], [0, 689000.0], [0, 600000.0], [0, 540000.0], [0, 205000.0], [4, 1000000.0], [0, 449950.0], [0, 420000.0], [0, 166000.0], [0, 518000.0], [0, 270000.0], [0, 277500.0], [0, 475000.0], [0, 505000.0], [0, 655000.0], [0, 430000.0], [1, 255000.0], [0, 811000.0], [0, 285000.0], [0, 496500.0], [0, 1900000.0], [0, 905000.0], [0, 255000.0], [0, 241000.0], [0, 231500.0], [0, 450000.0], [0, 290000.0], [0, 1050000.0], [0, 360000.0], [0, 700000.0], [0, 300000.0], [3, 1225000.0], [0, 615000.0], [2, 545000.0], [0, 335000.0], [0, 267800.0], [0, 1150000.0], [0, 216000.0], [0, 1850000.0], [0, 457500.0], [0, 430000.0], [0, 740000.0], [0, 412000.0], [0, 470000.0], [0, 328500.0], [0, 307000.0], [3, 688500.0], [2, 525000.0], [0, 760000.0], [0, 355950.0], [0, 245990.0], [0, 298800.0], [0, 490000.0], [0, 250000.0], [0, 325000.0], [0, 740000.0], [0, 350000.0], [0, 785000.0], [0, 2680000.0], [0, 525000.0], [3, 423500.0], [0, 264250.0], [0, 696500.0], [0, 386380.0], [0, 230000.0], [0, 280000.0], [0, 370000.0], [0, 279950.0], [0, 450000.0], [0, 425000.0], [0, 475000.0], [0, 152000.0], [0, 240000.0], [0, 350000.0], [0, 122000.0], [0, 1095000.0], [0, 950000.0], [0, 342000.0], [0, 708000.0], [0, 381000.0], [0, 200000.0], [0, 360000.0], [0, 230000.0], [0, 715000.0], [0, 390000.0], [0, 483300.0], [0, 539000.0], [0, 225500.0], [0, 254000.0], [0, 330000.0], [0, 554000.0], [0, 458000.0], [2, 1010000.0], [0, 664000.0], [0, 1500000.0], [0, 990000.0], [0, 405000.0], [0, 665000.0], [0, 250000.0], [0, 536751.0], [0, 746500.0], [0, 335000.0], [2, 497300.0], [0, 129000.0], [0, 280000.0], [2, 750000.0], [0, 667000.0], [0, 760000.0], [0, 550000.0], [0, 439500.0], [0, 690000.0], [0, 533000.0], [0, 602500.0], [2, 1900000.0], [0, 239950.0], [0, 358500.0], [0, 595000.0], [0, 410000.0], [3, 1115000.0], [0, 432500.0], [0, 260000.0], [0, 265000.0], [0, 255000.0], [0, 392500.0], [0, 519500.0], [0, 747000.0], [0, 490000.0], [0, 397380.0], [0, 175003.0], [0, 619950.0], [0, 310000.0], [0, 610000.0], [0, 738950.0], [2, 450000.0], [0, 153000.0], [0, 1698000.0], [0, 365000.0], [2, 1245000.0], [0, 520000.0], [0, 255000.0], [0, 595000.0], [0, 412000.0], [0, 180000.0], [0, 428750.0], [0, 530000.0], [0, 286950.0], [0, 325000.0], [0, 799990.0], [0, 415000.0], [2, 379750.0], [0, 335000.0], [0, 271920.0], [0, 685000.0], [0, 339995.0], [0, 585000.0], [0, 465000.0], [0, 980000.0], [0, 265000.0], [0, 332000.0], [0, 372500.0], [0, 210000.0], [0, 629000.0], [0, 393000.0], [0, 128000.0], [0, 132825.0], [0, 452000.0], [0, 490000.0], [0, 400000.0], [0, 230000.0], [0, 302000.0], [0, 345000.0], [0, 247000.0], [0, 234950.0], [2, 775000.0], [0, 335000.0], [0, 442000.0], [1, 675000.0], [0, 557500.0], [0, 265000.0], [0, 535000.0], [1, 1285000.0], [0, 440000.0], [0, 240000.0], [2, 287000.0], [0, 721000.0], [0, 325000.0], [0, 625000.0], [1, 735000.0], [0, 356000.0], [0, 1081000.0], [0, 529950.0], [0, 543500.0], [0, 326188.0], [0, 680000.0], [0, 275000.0], [0, 466000.0], [0, 436500.0], [0, 480000.0], [0, 648000.0], [0, 485000.0], [0, 279000.0], [0, 363500.0], [0, 319950.0], [0, 290000.0], [0, 280000.0], [0, 207000.0], [1, 729500.0], [0, 367777.0], [0, 505000.0], [0, 223000.0], [0, 716125.0], [0, 449950.0], [0, 265000.0], [0, 590000.0], [0, 207000.0], [0, 351358.0], [0, 1098000.0], [0, 1824100.0], [0, 470000.0], [0, 430000.0], [0, 982000.0], [0, 215000.0], [0, 175000.0], [0, 285000.0], [2, 1088000.0], [0, 200000.0], [0, 276000.0], [0, 399000.0], [0, 110000.0], [0, 330000.0], [0, 429900.0], [0, 395000.0], [0, 259900.0], [0, 300000.0], [0, 855000.0], [0, 615000.0], [0, 674250.0], [0, 620000.0], [0, 704300.0], [0, 300000.0], [0, 499000.0], [0, 500000.0], [0, 175000.0], [0, 222000.0], [0, 175000.0], [0, 485000.0], [2, 1520000.0], [0, 237502.0], [0, 463000.0], [0, 534950.0], [0, 659000.0], [0, 344950.0], [0, 1125000.0], [0, 295000.0], [0, 689900.0], [0, 569000.0], [0, 775000.0], [0, 432500.0], [0, 552625.0], [0, 635000.0], [0, 390000.0], [0, 858450.0], [0, 195000.0], [0, 400000.0], [0, 249500.0], [0, 739000.0], [0, 706000.0], [0, 242000.0], [0, 420000.0], [0, 529000.0], [0, 270000.0], [0, 575000.0], [3, 610000.0], [0, 379900.0], [0, 243000.0], [0, 221000.0], [0, 437000.0], [0, 550000.0], [0, 321027.0], [0, 464000.0], [0, 285000.0], [0, 2250000.0], [0, 910000.0], [0, 421500.0], [0, 585000.0], [0, 180000.0], [0, 279900.0], [0, 800000.0], [0, 395000.0], [0, 440000.0], [4, 5110800.0], [0, 140000.0], [0, 279000.0], [0, 408506.0], [0, 494000.0], [0, 400000.0], [0, 210000.0], [0, 485000.0], [2, 385000.0], [0, 588000.0], [0, 277000.0], [0, 1325000.0], [0, 389950.0], [0, 185000.0], [0, 459000.0], [0, 800500.0], [0, 410000.0], [0, 379000.0], [2, 1442500.0], [0, 870000.0], [0, 148000.0], [0, 439950.0], [0, 410000.0], [0, 386900.0], [0, 672500.0], [2, 1110000.0], [0, 472000.0], [0, 253000.0], [0, 830000.0], [0, 455000.0], [0, 479950.0], [0, 852000.0], [0, 800000.0], [0, 695000.0], [0, 278000.0], [0, 333000.0], [3, 368000.0], [0, 401000.0], [0, 309000.0], [0, 824000.0], [0, 361000.0], [0, 352000.0], [0, 544999.0], [0, 195000.0], [2, 353000.0], [3, 1054710.0], [2, 397000.0], [0, 187000.0], [4, 1989000.0], [0, 209950.0], [0, 845000.0], [0, 865000.0], [0, 89000.0], [0, 500000.0], [0, 565000.0], [0, 875000.0], [0, 920000.0], [0, 650000.0], [0, 458000.0], [0, 220000.0], [0, 412000.0], [0, 482500.0], [0, 835000.0], [1, 389950.0], [0, 675000.0], [0, 317500.0], [0, 1000000.0], [0, 322000.0], [0, 692500.0], [0, 222000.0], [0, 199000.0], [0, 890000.0], [0, 201500.0], [0, 299900.0], [0, 795000.0], [0, 415000.0], [0, 625000.0], [0, 1350000.0], [0, 400000.0], [0, 291000.0], [0, 565000.0], [0, 681716.0], [3, 812000.0], [3, 305000.0], [0, 602000.0], [0, 196500.0], [0, 575000.0], [0, 815000.0], [0, 475000.0], [0, 657000.0], [0, 648475.0], [4, 3650000.0], [0, 500000.0], [0, 319000.0], [0, 1375000.0], [0, 125000.0], [0, 799990.0], [0, 436000.0], [3, 370000.0], [0, 255000.0], [0, 690000.0], [0, 450000.0], [0, 247200.0], [0, 315000.0], [0, 505400.0], [0, 560000.0], [0, 415000.0], [0, 640000.0], [0, 450000.0], [0, 92000.0], [0, 315000.0], [0, 1675000.0], [0, 615000.0], [0, 725000.0], [0, 499000.0], [0, 650000.0], [0, 685000.0], [0, 397500.0], [0, 435000.0], [0, 370000.0], [2, 465000.0], [0, 199999.0], [0, 500000.0], [0, 370000.0], [0, 311000.0], [0, 330000.0], [0, 700000.0], [0, 401000.0], [4, 1250000.0], [0, 430000.0], [0, 764000.0], [0, 360000.0], [0, 290000.0], [0, 252000.0], [0, 347000.0], [0, 369000.0], [0, 600600.0], [0, 536000.0], [0, 316000.0], [0, 520000.0], [0, 457500.0], [0, 875000.0], [0, 864000.0], [0, 379000.0], [0, 260000.0], [0, 325000.0], [1, 518000.0], [0, 400000.0], [0, 718500.0], [0, 600000.0], [0, 215000.0], [0, 306000.0], [0, 938000.0], [0, 488500.0], [0, 296500.0], [0, 230000.0], [0, 320000.0], [0, 865000.0], [0, 348000.0], [3, 715000.0], [0, 175000.0], [0, 235000.0], [0, 1445000.0], [0, 440000.0], [0, 407000.0], [2, 1285000.0], [0, 672000.0], [0, 430000.0], [0, 259950.0], [0, 1260500.0], [0, 550000.0], [0, 667000.0], [1, 565000.0], [0, 540000.0], [0, 245000.0], [0, 499000.0], [0, 540000.0], [0, 499950.0], [0, 929950.0], [0, 1475000.0], [0, 540000.0], [0, 715000.0], [0, 509000.0], [0, 200000.0], [0, 340000.0], [0, 459990.0], [0, 738000.0], [0, 322200.0], [0, 259950.0], [0, 375950.0], [0, 324000.0], [0, 507000.0], [0, 550000.0], [0, 575000.0], [0, 1051000.0], [0, 311000.0], [0, 800000.0], [0, 654000.0], [0, 190500.0], [0, 712000.0], [0, 234999.0], [0, 400000.0], [0, 575000.0], [0, 439950.0], [2, 855000.0], [0, 550000.0], [0, 219000.0], [0, 845000.0], [0, 390000.0], [0, 265000.0], [0, 560000.0], [0, 522000.0], [0, 401000.0], [0, 290000.0], [0, 646800.0], [0, 366500.0], [0, 327000.0], [2, 1415000.0], [0, 575000.0], [0, 365000.0], [0, 518000.0], [0, 329000.0], [0, 1325000.0], [0, 325000.0], [0, 420000.0], [0, 1650000.0], [0, 1600000.0], [0, 551000.0], [0, 339000.0], [0, 579000.0], [0, 644500.0], [0, 269500.0], [0, 240000.0], [4, 1411600.0], [0, 355000.0], [0, 526000.0], [0, 368000.0], [0, 216500.0], [0, 107000.0], [0, 196500.0], [0, 375000.0], [0, 680000.0], [0, 327000.0], [0, 337500.0], [0, 305000.0], [3, 397500.0], [1, 800000.0], [0, 780000.0], [0, 531000.0], [0, 410000.0], [0, 449999.0], [0, 260000.0], [0, 561500.0], [0, 280000.0], [0, 201000.0], [0, 289000.0], [0, 825000.0], [0, 626500.0], [0, 357000.0], [0, 315000.0], [0, 535000.0], [0, 552500.0], [0, 370000.0], [0, 1085000.0], [0, 585000.0], [0, 110000.0], [0, 280000.0], [0, 375000.0], [0, 720000.0], [3, 1240420.0], [0, 299950.0], [0, 535000.0], [4, 1250000.0]], \"columns\": [{\"dtype\": \"int\", \"name\": \"id\"}, {\"dtype\": \"str\", \"name\": \"date\"}, {\"dtype\": \"float\", \"name\": \"price\"}, {\"dtype\": \"int\", \"name\": \"bedrooms\"}, {\"dtype\": \"float\", \"name\": \"bathrooms\"}, {\"dtype\": \"int\", \"name\": \"sqft_living\"}, {\"dtype\": \"int\", \"name\": \"sqft_lot\"}, {\"dtype\": \"float\", \"name\": \"floors\"}, {\"dtype\": \"int\", \"name\": \"waterfront\"}, {\"dtype\": \"int\", \"name\": \"view\"}, {\"dtype\": \"int\", \"name\": \"condition\"}, {\"dtype\": \"int\", \"name\": \"grade\"}, {\"dtype\": \"int\", \"name\": \"sqft_above\"}, {\"dtype\": \"int\", \"name\": \"sqft_basement\"}, {\"dtype\": \"int\", \"name\": \"yr_built\"}, {\"dtype\": \"int\", \"name\": \"yr_renovated\"}, {\"dtype\": \"int\", \"name\": \"zipcode\"}, {\"dtype\": \"float\", \"name\": \"lat\"}, {\"dtype\": \"float\", \"name\": \"long\"}, {\"dtype\": \"int\", \"name\": \"sqft_living15\"}, {\"dtype\": \"int\", \"name\": \"sqft_lot15\"}]}, e);\n",
       "                });\n",
       "            })();\n",
       "        "
      ]
     },
     "metadata": {},
     "output_type": "display_data"
    },
    {
     "data": {
      "application/javascript": [
       "$(\"head\").append($(\"<link/>\").attr({\n",
       "  rel:  \"stylesheet\",\n",
       "  type: \"text/css\",\n",
       "  href: \"//cdnjs.cloudflare.com/ajax/libs/font-awesome/4.1.0/css/font-awesome.min.css\"\n",
       "}));\n",
       "$(\"head\").append($(\"<link/>\").attr({\n",
       "  rel:  \"stylesheet\",\n",
       "  type: \"text/css\",\n",
       "  href: \"https://static.turi.com/products/graphlab-create/2.1/canvas/css/canvas.css\"\n",
       "}));\n",
       "\n",
       "            (function(){\n",
       "\n",
       "                var e = null;\n",
       "                if (typeof element == 'undefined') {\n",
       "                    var scripts = document.getElementsByTagName('script');\n",
       "                    var thisScriptTag = scripts[scripts.length-1];\n",
       "                    var parentDiv = thisScriptTag.parentNode;\n",
       "                    e = document.createElement('div');\n",
       "                    parentDiv.appendChild(e);\n",
       "                } else {\n",
       "                    e = element[0];\n",
       "                }\n",
       "\n",
       "                if (typeof requirejs !== 'undefined') {\n",
       "                    // disable load timeout; ipython_app.js is large and can take a while to load.\n",
       "                    requirejs.config({waitSeconds: 0});\n",
       "                }\n",
       "\n",
       "                require(['https://static.turi.com/products/graphlab-create/2.1/canvas/js/ipython_app.js'], function(IPythonApp){\n",
       "                    var app = new IPythonApp();\n",
       "                    app.attachView('sframe','Plots', {\"selected_variable\": {\"name\": [\"all_data_frame\"], \"descriptives\": {\"rows\": 21613, \"columns\": 22}, \"view_component\": \"Plots\", \"view_file\": \"sframe\", \"view_params\": {\"y\": \"price\", \"x\": \"Yr of last reno\", \"columns\": [\"id\", \"date\", \"price\", \"bedrooms\", \"bathrooms\", \"sqft_living\", \"sqft_lot\", \"floors\", \"waterfront\", \"view\", \"condition\", \"grade\", \"sqft_above\", \"sqft_basement\", \"yr_built\", \"yr_renovated\", \"zipcode\", \"lat\", \"long\", \"sqft_living15\", \"sqft_lot15\", \"Yr of last reno\"], \"view\": \"Scatter Plot\"}, \"view_components\": [\"Summary\", \"Table\", \"Bar Chart\", \"BoxWhisker Plot\", \"Line Chart\", \"Scatter Plot\", \"Heat Map\", \"Plots\"], \"type\": \"SFrame\", \"columns\": [{\"dtype\": \"int\", \"name\": \"id\"}, {\"dtype\": \"str\", \"name\": \"date\"}, {\"dtype\": \"float\", \"name\": \"price\"}, {\"dtype\": \"int\", \"name\": \"bedrooms\"}, {\"dtype\": \"float\", \"name\": \"bathrooms\"}, {\"dtype\": \"int\", \"name\": \"sqft_living\"}, {\"dtype\": \"int\", \"name\": \"sqft_lot\"}, {\"dtype\": \"float\", \"name\": \"floors\"}, {\"dtype\": \"int\", \"name\": \"waterfront\"}, {\"dtype\": \"int\", \"name\": \"view\"}, {\"dtype\": \"int\", \"name\": \"condition\"}, {\"dtype\": \"int\", \"name\": \"grade\"}, {\"dtype\": \"int\", \"name\": \"sqft_above\"}, {\"dtype\": \"int\", \"name\": \"sqft_basement\"}, {\"dtype\": \"int\", \"name\": \"yr_built\"}, {\"dtype\": \"int\", \"name\": \"yr_renovated\"}, {\"dtype\": \"int\", \"name\": \"zipcode\"}, {\"dtype\": \"float\", \"name\": \"lat\"}, {\"dtype\": \"float\", \"name\": \"long\"}, {\"dtype\": \"int\", \"name\": \"sqft_living15\"}, {\"dtype\": \"int\", \"name\": \"sqft_lot15\"}, {\"dtype\": \"int\", \"name\": \"Yr of last reno\"}], \"column_identifiers\": [\"bathrooms\", \"sqft_above\", \"grade\", \"lat\", \"floors\", \"yr_renovated\", \"id\", \"zipcode\", \"long\", \"Yr of last reno\", \"sqft_basement\", \"yr_built\", \"sqft_lot\", \"sqft_lot15\", \"price\", \"bedrooms\", \"date\", \"condition\", \"waterfront\", \"sqft_living15\", \"sqft_living\", \"view\"]}, \"complete\": 1, \"ipython\": true, \"progress\": 1.0, \"data\": [[1954, 260000.0], [1992, 898000.0], [1977, 605000.0], [2008, 500000.0], [1924, 450000.0], [2007, 535000.0], [2014, 599950.0], [1976, 329950.0], [1911, 700000.0], [1957, 275500.0], [1978, 275000.0], [1942, 468000.0], [1993, 560000.0], [1977, 270000.0], [1926, 445000.0], [1970, 218000.0], [1998, 504500.0], [1968, 169575.0], [2014, 400950.0], [1950, 156000.0], [1994, 302495.0], [1997, 351000.0], [2003, 300000.0], [1990, 650000.0], [2012, 351000.0], [1989, 399950.0], [2004, 423000.0], [1937, 420000.0], [1967, 396450.0], [2008, 500000.0], [1965, 287000.0], [2006, 630500.0], [2008, 645000.0], [1951, 217000.0], [1978, 473000.0], [2002, 696000.0], [1959, 240000.0], [2008, 1020000.0], [1942, 255500.0], [1942, 271000.0], [1930, 790000.0], [1950, 299000.0], [1969, 325000.0], [2003, 802000.0], [1989, 880000.0], [1959, 201500.0], [1979, 215000.0], [1959, 270000.0], [1961, 520000.0], [1919, 312500.0], [1969, 411800.0], [1992, 829950.0], [2001, 695000.0], [1951, 549000.0], [1984, 445000.0], [1955, 475000.0], [1989, 577000.0], [1912, 724950.0], [1947, 310000.0], [1919, 1300000.0], [1980, 274000.0], [2014, 729999.0], [2003, 507000.0], [1997, 1670000.0], [1951, 615000.0], [1999, 585000.0], [1940, 690000.0], [1969, 180000.0], [1953, 299000.0], [2003, 525000.0], [2008, 749950.0], [2007, 885000.0], [2013, 565000.0], [1979, 454000.0], [1965, 349000.0], [1996, 515000.0], [1985, 680000.0], [1958, 485000.0], [2010, 450000.0], [1968, 650000.0], [2000, 979500.0], [2011, 724500.0], [1985, 278000.0], [1964, 356000.0], [1954, 800000.0], [1965, 390000.0], [1957, 650000.0], [1985, 270000.0], [1915, 792000.0], [1988, 300000.0], [1991, 1575000.0], [1955, 320000.0], [1977, 740000.0], [1989, 676000.0], [2000, 426000.0], [1916, 735000.0], [1977, 525000.0], [1918, 311000.0], [1963, 209950.0], [2014, 334950.0], [2013, 594491.0], [2006, 540000.0], [1983, 699950.0], [1989, 690000.0], [1917, 335000.0], [2007, 782000.0], [1990, 525000.0], [2006, 1135000.0], [1975, 183500.0], [1990, 382000.0], [2004, 410000.0], [1939, 875000.0], [1995, 745000.0], [1990, 455000.0], [1945, 439000.0], [1999, 740500.0], [2008, 445000.0], [1990, 660000.0], [2005, 337000.0], [1938, 245000.0], [1980, 560000.0], [1979, 225000.0], [2000, 536500.0], [1977, 532000.0], [1905, 313100.0], [1948, 350000.0], [1989, 682000.0], [2000, 295700.0], [1976, 312500.0], [1952, 669000.0], [1967, 275900.0], [1949, 401000.0], [1999, 345000.0], [1923, 276000.0], [2001, 6885000.0], [1942, 279900.0], [1989, 738950.0], [2000, 299880.0], [1976, 232603.0], [1990, 512500.0], [1961, 465000.0], [1994, 620000.0], [2014, 436952.0], [1994, 360000.0], [1986, 259000.0], [1970, 280000.0], [1975, 490000.0], [2010, 298000.0], [1954, 325000.0], [1947, 297975.0], [2013, 700000.0], [1978, 950000.0], [1951, 280000.0], [2006, 451000.0], [1948, 320000.0], [1914, 400000.0], [1954, 713414.0], [1991, 760000.0], [1948, 469000.0], [1976, 710000.0], [2005, 355000.0], [1953, 675000.0], [2002, 435000.0], [1989, 324000.0], [1966, 244950.0], [1926, 212700.0], [1961, 240000.0], [1954, 410500.0], [2012, 673000.0], [1925, 436000.0], [2005, 1600000.0], [1978, 272000.0], [1983, 450000.0], [1904, 299950.0], [1962, 310000.0], [1978, 3800000.0], [1990, 370000.0], [1951, 260000.0], [2000, 385000.0], [1990, 372400.0], [1961, 625000.0], [2004, 372500.0], [1978, 459000.0], [1984, 719000.0], [2001, 325000.0], [1960, 538000.0], [1969, 985000.0], [1968, 700000.0], [1901, 615000.0], [1963, 299000.0], [1940, 605125.0], [1990, 875000.0], [2005, 613000.0], [1978, 513000.0], [2010, 396800.0], [1969, 310000.0], [1972, 390000.0], [1981, 452000.0], [2014, 430236.0], [1983, 275000.0], [1980, 190000.0], [1995, 290000.0], [1914, 530000.0], [1956, 285000.0], [1980, 510000.0], [1994, 500000.0], [1969, 216500.0], [1953, 650000.0], [1963, 565000.0], [2007, 288000.0], [1903, 230000.0], [1990, 339950.0], [2000, 713900.0], [1972, 500000.0], [1994, 284000.0], [2006, 262000.0], [1960, 290000.0], [1988, 324900.0], [1954, 810000.0], [1975, 588000.0], [1916, 410500.0], [2005, 431500.0], [2009, 335000.0], [1977, 199500.0], [1994, 427000.0], [1962, 950000.0], [2007, 1445000.0], [1999, 350500.0], [1979, 235000.0], [1968, 213950.0], [1951, 203000.0], [1950, 345000.0], [1983, 329950.0], [2013, 560000.0], [1955, 233000.0], [2007, 2998000.0], [2014, 1095000.0], [1955, 496000.0], [2012, 430000.0], [1957, 210000.0], [1967, 610000.0], [1979, 283450.0], [2007, 489000.0], [1908, 700000.0], [1908, 505000.0], [1967, 355000.0], [1959, 590000.0], [1960, 855000.0], [1954, 270000.0], [2008, 1237500.0], [2005, 245000.0], [1952, 257200.0], [1948, 296000.0], [1963, 2535000.0], [2013, 270000.0], [1985, 1775000.0], [1953, 700000.0], [1945, 415000.0], [1982, 612000.0], [1985, 729000.0], [1911, 780000.0], [1986, 384200.0], [1928, 848000.0], [1988, 600000.0], [1948, 342000.0], [2014, 399895.0], [1999, 830000.0], [1998, 340000.0], [1989, 262000.0], [1979, 325000.0], [2003, 320000.0], [1967, 705000.0], [1922, 1190000.0], [1992, 275250.0], [2005, 241000.0], [1924, 255000.0], [1957, 350000.0], [1968, 206000.0], [2005, 367500.0], [1959, 299000.0], [2008, 599950.0], [1991, 265000.0], [2006, 2250000.0], [2001, 2983000.0], [2000, 515000.0], [2007, 330000.0], [2011, 407000.0], [1941, 235000.0], [1932, 258000.0], [1951, 223000.0], [2001, 610000.0], [1981, 841000.0], [2008, 560000.0], [2014, 379900.0], [2004, 455000.0], [2000, 2000000.0], [1979, 300000.0], [2007, 350000.0], [2004, 740000.0], [1966, 600000.0], [1983, 518000.0], [1972, 665000.0], [1970, 240000.0], [2006, 570000.0], [2004, 215000.0], [1978, 830000.0], [1944, 364500.0], [1910, 400000.0], [1947, 440000.0], [2001, 330000.0], [1986, 552500.0], [2007, 1050000.0], [1976, 790000.0], [2014, 1206690.0], [1986, 280500.0], [1997, 699000.0], [2004, 564000.0], [1988, 390000.0], [2004, 385000.0], [2004, 460000.0], [1944, 410000.0], [1986, 402000.0], [2006, 585000.0], [2007, 1060000.0], [2013, 450000.0], [1969, 401000.0], [1981, 336500.0], [1999, 817500.0], [1916, 445000.0], [1974, 234950.0], [2001, 499950.0], [1962, 310000.0], [1949, 1450000.0], [1925, 1130000.0], [1975, 246000.0], [1996, 355000.0], [1968, 499000.0], [1954, 290000.0], [1954, 333000.0], [1989, 135000.0], [1996, 240000.0], [1960, 276000.0], [1970, 178000.0], [1993, 510000.0], [1927, 585000.0], [1966, 305000.0], [1986, 210000.0], [2008, 935000.0], [2002, 299900.0], [1973, 387000.0], [1964, 455850.0], [1991, 560000.0], [1940, 650000.0], [1988, 590000.0], [1979, 565000.0], [1962, 235000.0], [1963, 326000.0], [1930, 1175000.0], [1961, 460000.0], [1959, 195000.0], [1908, 345000.0], [1990, 264500.0], [1994, 329500.0], [2007, 442000.0], [1952, 430000.0], [2010, 450000.0], [1987, 599000.0], [2007, 235000.0], [2007, 355000.0], [1924, 642000.0], [1983, 335000.0], [1975, 608000.0], [2014, 388598.0], [1969, 390000.0], [2004, 324950.0], [1984, 387000.0], [1912, 865000.0], [1951, 575000.0], [1981, 415000.0], [1942, 515000.0], [2010, 435000.0], [1973, 337500.0], [1989, 555000.0], [1960, 86500.0], [1965, 386000.0], [1951, 587500.0], [2002, 370350.0], [1952, 348000.0], [1995, 359999.0], [2003, 365000.0], [1952, 225000.0], [1926, 662990.0], [1942, 486700.0], [1989, 515000.0], [1984, 1199500.0], [1956, 234900.0], [1986, 269000.0], [1942, 308000.0], [2013, 718000.0], [1929, 365000.0], [1956, 330000.0], [1945, 294010.0], [2003, 200000.0], [2008, 905000.0], [1983, 585000.0], [2004, 751000.0], [2004, 600000.0], [1999, 350000.0], [2001, 495000.0], [1999, 303000.0], [1907, 870000.0], [2006, 517534.0], [1962, 620000.0], [2003, 495000.0], [1951, 130000.0], [1964, 648000.0], [2000, 450000.0], [1962, 423000.0], [1959, 205000.0], [2006, 360000.0], [2006, 520000.0], [1978, 280000.0], [1967, 255000.0], [1985, 380000.0], [1976, 435000.0], [2010, 305000.0], [1999, 297000.0], [1943, 451000.0], [2001, 660000.0], [2007, 637000.0], [2004, 1698890.0], [2001, 610000.0], [1952, 875000.0], [1987, 699950.0], [2006, 440000.0], [1999, 720000.0], [1945, 399950.0], [1991, 843000.0], [1978, 296500.0], [1974, 273148.0], [1979, 459950.0], [1981, 1289000.0], [1985, 160000.0], [1980, 350000.0], [1965, 306500.0], [1948, 355000.0], [2005, 1030000.0], [1927, 570000.0], [1954, 362500.0], [1985, 592000.0], [1955, 1339000.0], [1954, 214950.0], [1963, 244000.0], [2007, 465750.0], [2014, 769995.0], [1977, 195000.0], [1919, 739000.0], [1966, 600000.0], [1977, 326188.0], [2014, 455000.0], [1993, 435000.0], [1918, 227000.0], [2003, 600000.0], [1988, 359500.0], [1966, 875000.0], [1983, 585000.0], [1950, 376500.0], [2005, 1220000.0], [2013, 320000.0], [2010, 461100.0], [1959, 206000.0], [2009, 403000.0], [2006, 530000.0], [1978, 336950.0], [1942, 135000.0], [2004, 280000.0], [1940, 631750.0], [1932, 994000.0], [2008, 431500.0], [2009, 2395000.0], [1926, 700000.0], [2003, 451000.0], [1973, 849950.0], [1987, 688100.0], [1980, 943500.0], [2005, 820000.0], [1998, 1067000.0], [2000, 3710000.0], [2005, 376000.0], [1950, 395000.0], [1937, 972000.0], [2003, 1185000.0], [2005, 255000.0], [1913, 1640000.0], [1918, 593500.0], [1968, 229500.0], [2003, 772000.0], [1963, 383001.0], [1977, 720000.0], [2000, 437500.0], [2003, 650000.0], [1968, 455000.0], [1987, 430000.0], [1955, 128000.0], [1965, 330000.0], [1969, 256500.0], [1970, 392000.0], [1925, 485000.0], [1995, 1080000.0], [1913, 555750.0], [1969, 460000.0], [2003, 265000.0], [1983, 1065500.0], [2007, 311600.0], [1951, 615000.0], [2004, 550000.0], [1932, 308000.0], [2001, 420000.0], [2009, 420000.0], [1953, 415000.0], [2002, 419950.0], [1911, 709000.0], [1980, 389000.0], [1962, 654000.0], [1966, 383000.0], [1962, 198400.0], [1965, 1058800.0], [1966, 475000.0], [1976, 310000.0], [2002, 405000.0], [2004, 889000.0], [1976, 675000.0], [2007, 932800.0], [1968, 213500.0], [1970, 750000.0], [1980, 160000.0], [1991, 720000.0], [1910, 990000.0], [1952, 700180.0], [1959, 198500.0], [2004, 772500.0], [1918, 700000.0], [1955, 240000.0], [1983, 509000.0], [1967, 230000.0], [1929, 495000.0], [1984, 765000.0], [1977, 395000.0], [1987, 869900.0], [2007, 740000.0], [2014, 549995.0], [1960, 657000.0], [1955, 415000.0], [2000, 500000.0], [1943, 280000.0], [1989, 405000.0], [1944, 235000.0], [2008, 670000.0], [1976, 502775.0], [1987, 520000.0], [1978, 460000.0], [1990, 652500.0], [1928, 1480000.0], [1937, 146000.0], [1960, 638700.0], [1995, 256000.0], [1961, 199990.0], [1988, 254000.0], [1979, 470000.0], [1937, 405000.0], [2013, 950000.0], [1981, 800000.0], [1969, 225500.0], [1982, 295000.0], [1961, 432500.0], [1970, 525000.0], [1949, 237500.0], [1942, 580000.0], [1902, 525000.0], [1966, 890000.0], [1982, 249000.0], [1992, 599000.0], [2004, 326000.0], [1991, 713400.0], [1938, 414000.0], [1961, 790000.0], [1959, 452500.0], [1978, 900000.0], [1981, 360000.0], [1998, 471000.0], [1992, 710800.0], [1919, 462000.0], [1959, 249000.0], [1955, 453000.0], [1980, 320000.0], [1968, 1295000.0], [1951, 393000.0], [2007, 276000.0], [1960, 310000.0], [1900, 169900.0], [1966, 295000.0], [2004, 790000.0], [2003, 300000.0], [1979, 1380000.0], [1947, 550000.0], [1989, 236000.0], [2007, 970000.0], [1996, 562000.0], [2009, 750000.0], [1956, 415000.0], [1942, 710000.0], [2003, 515000.0], [1926, 290000.0], [1925, 412000.0], [2004, 775000.0], [1985, 822000.0], [1947, 405000.0], [1959, 179500.0], [1968, 335000.0], [1925, 408000.0], [1998, 237000.0], [1925, 375000.0], [1998, 860000.0], [2014, 1079000.0], [1964, 675000.0], [1990, 273000.0], [1976, 575000.0], [1977, 216000.0], [1942, 265000.0], [1937, 523000.0], [1939, 520000.0], [2001, 471000.0], [1955, 375000.0], [1996, 540000.0], [1967, 215000.0], [2007, 585000.0], [1997, 390000.0], [1925, 471000.0], [2004, 428000.0], [1912, 870000.0], [1963, 898000.0], [1961, 219000.0], [1999, 298000.0], [1987, 257950.0], [2003, 430000.0], [2012, 279000.0], [1915, 750000.0], [1953, 685000.0], [1959, 436000.0], [1958, 253905.0], [1965, 470000.0], [2009, 285000.0], [1918, 200000.0], [2014, 494995.0], [1922, 691000.0], [2000, 482000.0], [2005, 804000.0], [1981, 555500.0], [1988, 485000.0], [2006, 268500.0], [1966, 309950.0], [1998, 435000.0], [1988, 539000.0], [1943, 403950.0], [1983, 828500.0], [1986, 331000.0], [2008, 485000.0], [1985, 650000.0], [2004, 430000.0], [2007, 467000.0], [2008, 580000.0], [1962, 250000.0], [1943, 402000.0], [1954, 390000.0], [1984, 400000.0], [1978, 206000.0], [1953, 269000.0], [1964, 259000.0], [1943, 269500.0], [1966, 1430000.0], [1966, 357500.0], [1912, 230950.0], [2013, 1880000.0], [1942, 291000.0], [1987, 360000.0], [2003, 359000.0], [1962, 205000.0], [1964, 635000.0], [1965, 369950.0], [1919, 707000.0], [1977, 450000.0], [2010, 731100.0], [2007, 445000.0], [1943, 400000.0], [1963, 185850.0], [2008, 648000.0], [1985, 283500.0], [1912, 325000.0], [1992, 672000.0], [2013, 291750.0], [1996, 340000.0], [1972, 292000.0], [1951, 349000.0], [2009, 308000.0], [1908, 425000.0], [1925, 565000.0], [1981, 252000.0], [1998, 449000.0], [1927, 470000.0], [1982, 365000.0], [1968, 210000.0], [2006, 530000.0], [1977, 450000.0], [1985, 300000.0], [1997, 645000.0], [1951, 460000.0], [1943, 153000.0], [1967, 285000.0], [1905, 580000.0], [1963, 302000.0], [1920, 690000.0], [1988, 245000.0], [1971, 1000000.0], [1969, 455000.0], [1931, 215000.0], [1929, 300000.0], [1985, 615000.0], [1968, 270000.0], [2003, 800000.0], [2009, 835000.0], [2007, 321950.0], [1994, 599950.0], [2006, 1500000.0], [1941, 321000.0], [1959, 460000.0], [1948, 248500.0], [1968, 410000.0], [2008, 900000.0], [1928, 856000.0], [1981, 248000.0], [1969, 435000.0], [2002, 835000.0], [1913, 675000.0], [1944, 565500.0], [2014, 1035000.0], [2012, 269800.0], [2007, 255000.0], [2012, 458500.0], [1949, 229050.0], [1940, 669500.0], [2007, 515000.0], [1973, 380000.0], [1988, 660000.0], [1996, 200000.0], [1954, 575000.0], [1990, 328000.0], [1940, 370000.0], [1953, 395000.0], [1990, 725000.0], [1981, 330000.0], [2007, 260000.0], [1946, 450000.0], [2004, 338000.0], [2005, 374950.0], [1970, 417400.0], [1999, 295000.0], [1981, 260000.0], [1947, 235000.0], [2014, 399440.0], [1977, 780000.0], [1959, 350000.0], [2014, 782900.0], [1980, 439000.0], [1992, 337000.0], [1960, 589500.0], [2006, 384950.0], [1967, 1013050.0], [1910, 210000.0], [1977, 312000.0], [1952, 194000.0], [1950, 395000.0], [1937, 302000.0], [2006, 1444000.0], [1976, 495000.0], [2000, 380000.0], [1970, 242150.0], [1991, 711600.0], [2006, 286000.0], [2014, 642860.0], [2000, 355000.0], [1991, 429900.0], [2012, 317000.0], [2001, 750000.0], [1986, 1218000.0], [1950, 210000.0], [1910, 662700.0], [1988, 465000.0], [1981, 525000.0], [1986, 362000.0], [1981, 295500.0], [1948, 358000.0], [1984, 320000.0], [1952, 1070000.0], [2007, 625000.0], [1952, 159000.0], [1989, 500000.0], [1997, 262000.0], [2002, 432500.0], [2004, 581000.0], [1985, 424000.0], [1941, 499950.0], [2003, 1037000.0], [1968, 575000.0], [1941, 720000.0], [1977, 542126.0], [1954, 735000.0], [1949, 306500.0], [2002, 270000.0], [2001, 497000.0], [1910, 476900.0], [1976, 565000.0], [1954, 120000.0], [1988, 329999.0], [2010, 415000.0], [2006, 590000.0], [1999, 1625000.0], [1996, 251100.0], [1919, 800000.0], [1963, 420000.0], [2000, 320000.0], [1984, 557500.0], [1985, 505000.0], [1950, 925000.0], [1906, 206000.0], [2005, 690000.0], [2006, 278226.0], [1980, 359000.0], [1940, 415000.0], [1912, 219500.0], [2013, 702000.0], [1940, 443500.0], [1945, 535000.0], [1966, 176250.0], [1962, 200000.0], [2006, 292500.0], [1990, 439950.0], [2005, 299950.0], [1959, 253500.0], [1960, 385000.0], [1927, 625000.0], [1903, 225000.0], [2011, 485000.0], [1997, 655000.0], [1952, 781000.0], [1927, 613200.0], [1997, 1110000.0], [1974, 295000.0], [1989, 380000.0], [1960, 208000.0], [2003, 1050000.0], [1966, 1160000.0], [2001, 7062500.0], [1948, 481500.0], [2009, 417250.0], [1987, 397500.0], [1986, 468000.0], [1924, 415000.0], [1956, 645000.0], [1964, 390000.0], [1976, 2850000.0], [2004, 989000.0], [1919, 330000.0], [1978, 479000.0], [2012, 395825.0], [1984, 549950.0], [1967, 620000.0], [1977, 224000.0], [1960, 373000.0], [1942, 425000.0], [1900, 554600.0], [1959, 364500.0], [1962, 425000.0], [2014, 471275.0], [1924, 720000.0], [1962, 260000.0], [1957, 1600000.0], [1958, 446000.0], [1941, 438000.0], [1984, 625000.0], [1994, 480000.0], [2006, 1042000.0], [1980, 510000.0], [2002, 395000.0], [1954, 340000.0], [1964, 648752.0], [1990, 422500.0], [1955, 815000.0], [1988, 537000.0], [2005, 925000.0], [2014, 535000.0], [1987, 546200.0], [1940, 367500.0], [1994, 478000.0], [2002, 329950.0], [1942, 405000.0], [1991, 614905.0], [1993, 299950.0], [1969, 90000.0], [1986, 352500.0], [1948, 515000.0], [2009, 425000.0], [1973, 310000.0], [1927, 291700.0], [1995, 564500.0], [1977, 374950.0], [1992, 632000.0], [1962, 815000.0], [1943, 562200.0], [1953, 671000.0], [2003, 438000.0], [2009, 378000.0], [1988, 280000.0], [1976, 280000.0], [1969, 386000.0], [1989, 470950.0], [1981, 266000.0], [1987, 590000.0], [2014, 469000.0], [1980, 250000.0], [1948, 315000.0], [1977, 354950.0], [1947, 464500.0], [2014, 529950.0], [1979, 500000.0], [1968, 254600.0], [1982, 499000.0], [1996, 245100.0], [1923, 255000.0], [1933, 245000.0], [2002, 668000.0], [1983, 1052000.0], [1919, 870000.0], [1953, 330000.0], [1985, 879000.0], [1989, 648000.0], [1947, 440000.0], [2006, 333500.0], [1990, 1321500.0], [2008, 389950.0], [1968, 210000.0], [1950, 454000.0], [2006, 535000.0], [1996, 1610000.0], [2000, 720000.0], [1950, 400000.0], [1972, 424000.0], [1962, 197000.0], [1941, 109000.0], [1942, 554950.0], [1981, 315000.0], [2005, 852500.0], [2004, 323000.0], [1979, 353250.0], [1954, 670000.0], [1988, 394000.0], [2014, 747450.0], [1946, 683500.0], [2005, 520000.0], [1949, 324800.0], [2004, 278000.0], [2004, 750000.0], [1947, 92000.0], [1953, 1590000.0], [1984, 500000.0], [1998, 546000.0], [2003, 335000.0], [1969, 469500.0], [2002, 400000.0], [1927, 511200.0], [1916, 485000.0], [1977, 280000.0], [1967, 790000.0], [1954, 181100.0], [1975, 530000.0], [2006, 500000.0], [1950, 385000.0], [1981, 165000.0], [1949, 212000.0], [1951, 399000.0], [1996, 297000.0], [1965, 369160.0], [1965, 530000.0], [1979, 675000.0], [1991, 175000.0], [1990, 427000.0], [1962, 271950.0], [1924, 575000.0], [2006, 551500.0], [1981, 565000.0], [2015, 420000.0]], \"columns\": [{\"dtype\": \"int\", \"name\": \"id\"}, {\"dtype\": \"str\", \"name\": \"date\"}, {\"dtype\": \"float\", \"name\": \"price\"}, {\"dtype\": \"int\", \"name\": \"bedrooms\"}, {\"dtype\": \"float\", \"name\": \"bathrooms\"}, {\"dtype\": \"int\", \"name\": \"sqft_living\"}, {\"dtype\": \"int\", \"name\": \"sqft_lot\"}, {\"dtype\": \"float\", \"name\": \"floors\"}, {\"dtype\": \"int\", \"name\": \"waterfront\"}, {\"dtype\": \"int\", \"name\": \"view\"}, {\"dtype\": \"int\", \"name\": \"condition\"}, {\"dtype\": \"int\", \"name\": \"grade\"}, {\"dtype\": \"int\", \"name\": \"sqft_above\"}, {\"dtype\": \"int\", \"name\": \"sqft_basement\"}, {\"dtype\": \"int\", \"name\": \"yr_built\"}, {\"dtype\": \"int\", \"name\": \"yr_renovated\"}, {\"dtype\": \"int\", \"name\": \"zipcode\"}, {\"dtype\": \"float\", \"name\": \"lat\"}, {\"dtype\": \"float\", \"name\": \"long\"}, {\"dtype\": \"int\", \"name\": \"sqft_living15\"}, {\"dtype\": \"int\", \"name\": \"sqft_lot15\"}, {\"dtype\": \"int\", \"name\": \"Yr of last reno\"}]}, e);\n",
       "                });\n",
       "            })();\n",
       "        "
      ]
     },
     "metadata": {},
     "output_type": "display_data"
    }
   ],
   "source": [
    "#let's find other feature which we can use\n",
    "all_data_frame.show(view=\"Scatter Plot\", x=\"bedrooms\", y=\"price\")\n",
    "all_data_frame.show(view=\"Scatter Plot\", x=\"bathrooms\", y=\"price\")\n",
    "all_data_frame.show(view=\"Scatter Plot\", x=\"floors\", y=\"price\")\n",
    "all_data_frame.show(view=\"Scatter Plot\", x=\"condition\", y=\"price\")\n",
    "all_data_frame.show(view=\"Scatter Plot\", x=\"view\", y=\"price\")\n",
    "all_data_frame['Yr of last reno'] = all_data_frame.apply(lambda x: x['yr_built'] if x['yr_built'] > x['yr_renovated'] else x['yr_renovated'])\n",
    "all_data_frame.show(view=\"Scatter Plot\", x=\"Yr of last reno\", y=\"price\")"
   ]
  },
  {
   "cell_type": "code",
   "execution_count": 17,
   "metadata": {
    "collapsed": false,
    "scrolled": true
   },
   "outputs": [
    {
     "data": {
      "text/html": [
       "<pre>Linear regression:</pre>"
      ],
      "text/plain": [
       "Linear regression:"
      ]
     },
     "metadata": {},
     "output_type": "display_data"
    },
    {
     "data": {
      "text/html": [
       "<pre>--------------------------------------------------------</pre>"
      ],
      "text/plain": [
       "--------------------------------------------------------"
      ]
     },
     "metadata": {},
     "output_type": "display_data"
    },
    {
     "data": {
      "text/html": [
       "<pre>Number of examples          : 17384</pre>"
      ],
      "text/plain": [
       "Number of examples          : 17384"
      ]
     },
     "metadata": {},
     "output_type": "display_data"
    },
    {
     "data": {
      "text/html": [
       "<pre>Number of features          : 5</pre>"
      ],
      "text/plain": [
       "Number of features          : 5"
      ]
     },
     "metadata": {},
     "output_type": "display_data"
    },
    {
     "data": {
      "text/html": [
       "<pre>Number of unpacked features : 5</pre>"
      ],
      "text/plain": [
       "Number of unpacked features : 5"
      ]
     },
     "metadata": {},
     "output_type": "display_data"
    },
    {
     "data": {
      "text/html": [
       "<pre>Number of coefficients    : 6</pre>"
      ],
      "text/plain": [
       "Number of coefficients    : 6"
      ]
     },
     "metadata": {},
     "output_type": "display_data"
    },
    {
     "data": {
      "text/html": [
       "<pre>Starting Newton Method</pre>"
      ],
      "text/plain": [
       "Starting Newton Method"
      ]
     },
     "metadata": {},
     "output_type": "display_data"
    },
    {
     "data": {
      "text/html": [
       "<pre>--------------------------------------------------------</pre>"
      ],
      "text/plain": [
       "--------------------------------------------------------"
      ]
     },
     "metadata": {},
     "output_type": "display_data"
    },
    {
     "data": {
      "text/html": [
       "<pre>+-----------+----------+--------------+--------------------+---------------+</pre>"
      ],
      "text/plain": [
       "+-----------+----------+--------------+--------------------+---------------+"
      ]
     },
     "metadata": {},
     "output_type": "display_data"
    },
    {
     "data": {
      "text/html": [
       "<pre>| Iteration | Passes   | Elapsed Time | Training-max_error | Training-rmse |</pre>"
      ],
      "text/plain": [
       "| Iteration | Passes   | Elapsed Time | Training-max_error | Training-rmse |"
      ]
     },
     "metadata": {},
     "output_type": "display_data"
    },
    {
     "data": {
      "text/html": [
       "<pre>+-----------+----------+--------------+--------------------+---------------+</pre>"
      ],
      "text/plain": [
       "+-----------+----------+--------------+--------------------+---------------+"
      ]
     },
     "metadata": {},
     "output_type": "display_data"
    },
    {
     "data": {
      "text/html": [
       "<pre>| 1         | 2        | 0.053568     | 4094434.043863     | 250213.605422 |</pre>"
      ],
      "text/plain": [
       "| 1         | 2        | 0.053568     | 4094434.043863     | 250213.605422 |"
      ]
     },
     "metadata": {},
     "output_type": "display_data"
    },
    {
     "data": {
      "text/html": [
       "<pre>+-----------+----------+--------------+--------------------+---------------+</pre>"
      ],
      "text/plain": [
       "+-----------+----------+--------------+--------------------+---------------+"
      ]
     },
     "metadata": {},
     "output_type": "display_data"
    },
    {
     "data": {
      "text/html": [
       "<pre>SUCCESS: Optimal solution found.</pre>"
      ],
      "text/plain": [
       "SUCCESS: Optimal solution found."
      ]
     },
     "metadata": {},
     "output_type": "display_data"
    }
   ],
   "source": [
    "train_data,test_data = all_data_frame.random_split(.8,seed=0)\n",
    "features_linear_model = graphlab.linear_regression.create(train_data, target='price', features=['zipcode','sqft_living', 'Yr of last reno', 'bedrooms', 'bathrooms'],validation_set=None)"
   ]
  },
  {
   "cell_type": "code",
   "execution_count": 18,
   "metadata": {
    "collapsed": false
   },
   "outputs": [
    {
     "data": {
      "text/html": [
       "<pre></pre>"
      ],
      "text/plain": []
     },
     "metadata": {},
     "output_type": "display_data"
    },
    {
     "name": "stdout",
     "output_type": "stream",
     "text": [
      "250213.605422\n",
      "{'max_error': 3794194.752633823, 'rmse': 247129.0054770335}\n"
     ]
    },
    {
     "data": {
      "text/html": [
       "<div style=\"max-height:1000px;max-width:1500px;overflow:auto;\"><table frame=\"box\" rules=\"cols\">\n",
       "    <tr>\n",
       "        <th style=\"padding-left: 1em; padding-right: 1em; text-align: center\">name</th>\n",
       "        <th style=\"padding-left: 1em; padding-right: 1em; text-align: center\">index</th>\n",
       "        <th style=\"padding-left: 1em; padding-right: 1em; text-align: center\">value</th>\n",
       "        <th style=\"padding-left: 1em; padding-right: 1em; text-align: center\">stderr</th>\n",
       "    </tr>\n",
       "    <tr>\n",
       "        <td style=\"padding-left: 1em; padding-right: 1em; text-align: center; vertical-align: top\">(intercept)</td>\n",
       "        <td style=\"padding-left: 1em; padding-right: 1em; text-align: center; vertical-align: top\">None</td>\n",
       "        <td style=\"padding-left: 1em; padding-right: 1em; text-align: center; vertical-align: top\">-2036023.70051</td>\n",
       "        <td style=\"padding-left: 1em; padding-right: 1em; text-align: center; vertical-align: top\">3754992.94437</td>\n",
       "    </tr>\n",
       "    <tr>\n",
       "        <td style=\"padding-left: 1em; padding-right: 1em; text-align: center; vertical-align: top\">zipcode</td>\n",
       "        <td style=\"padding-left: 1em; padding-right: 1em; text-align: center; vertical-align: top\">None</td>\n",
       "        <td style=\"padding-left: 1em; padding-right: 1em; text-align: center; vertical-align: top\">74.3476724714</td>\n",
       "        <td style=\"padding-left: 1em; padding-right: 1em; text-align: center; vertical-align: top\">37.78987642</td>\n",
       "    </tr>\n",
       "    <tr>\n",
       "        <td style=\"padding-left: 1em; padding-right: 1em; text-align: center; vertical-align: top\">sqft_living</td>\n",
       "        <td style=\"padding-left: 1em; padding-right: 1em; text-align: center; vertical-align: top\">None</td>\n",
       "        <td style=\"padding-left: 1em; padding-right: 1em; text-align: center; vertical-align: top\">308.27582213</td>\n",
       "        <td style=\"padding-left: 1em; padding-right: 1em; text-align: center; vertical-align: top\">3.35814748776</td>\n",
       "    </tr>\n",
       "    <tr>\n",
       "        <td style=\"padding-left: 1em; padding-right: 1em; text-align: center; vertical-align: top\">Yr of last reno</td>\n",
       "        <td style=\"padding-left: 1em; padding-right: 1em; text-align: center; vertical-align: top\">None</td>\n",
       "        <td style=\"padding-left: 1em; padding-right: 1em; text-align: center; vertical-align: top\">-2664.64849342</td>\n",
       "        <td style=\"padding-left: 1em; padding-right: 1em; text-align: center; vertical-align: top\">82.5263907012</td>\n",
       "    </tr>\n",
       "    <tr>\n",
       "        <td style=\"padding-left: 1em; padding-right: 1em; text-align: center; vertical-align: top\">bedrooms</td>\n",
       "        <td style=\"padding-left: 1em; padding-right: 1em; text-align: center; vertical-align: top\">None</td>\n",
       "        <td style=\"padding-left: 1em; padding-right: 1em; text-align: center; vertical-align: top\">-76278.8775411</td>\n",
       "        <td style=\"padding-left: 1em; padding-right: 1em; text-align: center; vertical-align: top\">2658.84140529</td>\n",
       "    </tr>\n",
       "    <tr>\n",
       "        <td style=\"padding-left: 1em; padding-right: 1em; text-align: center; vertical-align: top\">bathrooms</td>\n",
       "        <td style=\"padding-left: 1em; padding-right: 1em; text-align: center; vertical-align: top\">None</td>\n",
       "        <td style=\"padding-left: 1em; padding-right: 1em; text-align: center; vertical-align: top\">74663.8072471</td>\n",
       "        <td style=\"padding-left: 1em; padding-right: 1em; text-align: center; vertical-align: top\">4296.6619616</td>\n",
       "    </tr>\n",
       "</table>\n",
       "[6 rows x 4 columns]<br/>\n",
       "</div>"
      ],
      "text/plain": [
       "Columns:\n",
       "\tname\tstr\n",
       "\tindex\tstr\n",
       "\tvalue\tfloat\n",
       "\tstderr\tfloat\n",
       "\n",
       "Rows: 6\n",
       "\n",
       "Data:\n",
       "+-----------------+-------+----------------+---------------+\n",
       "|       name      | index |     value      |     stderr    |\n",
       "+-----------------+-------+----------------+---------------+\n",
       "|   (intercept)   |  None | -2036023.70051 | 3754992.94437 |\n",
       "|     zipcode     |  None | 74.3476724714  |  37.78987642  |\n",
       "|   sqft_living   |  None |  308.27582213  | 3.35814748776 |\n",
       "| Yr of last reno |  None | -2664.64849342 | 82.5263907012 |\n",
       "|     bedrooms    |  None | -76278.8775411 | 2658.84140529 |\n",
       "|    bathrooms    |  None | 74663.8072471  |  4296.6619616 |\n",
       "+-----------------+-------+----------------+---------------+\n",
       "[6 rows x 4 columns]"
      ]
     },
     "execution_count": 18,
     "metadata": {},
     "output_type": "execute_result"
    }
   ],
   "source": [
    "#What about errors?\n",
    "print features_linear_model.training_rmse\n",
    "print features_linear_model.evaluate(test_data)\n",
    "features_linear_model.get('coefficients')"
   ]
  },
  {
   "cell_type": "code",
   "execution_count": 19,
   "metadata": {
    "collapsed": false
   },
   "outputs": [
    {
     "name": "stdout",
     "output_type": "stream",
     "text": [
      "269900.0\n",
      "[292963.3587958757]\n",
      "[180000.0]\n",
      "[153003.20344952238]\n",
      "[610685.0]\n",
      "[654005.5827954549]\n"
     ]
    }
   ],
   "source": [
    "print house_sqft_1['price']\n",
    "print features_linear_model.predict(house_sqft_1)\n",
    "print house1['price']\n",
    "print features_linear_model.predict(house1)\n",
    "print house2['price']\n",
    "print features_linear_model.predict(house2)"
   ]
  },
  {
   "cell_type": "code",
   "execution_count": 20,
   "metadata": {
    "collapsed": false
   },
   "outputs": [
    {
     "data": {
      "application/javascript": [
       "$(\"head\").append($(\"<link/>\").attr({\n",
       "  rel:  \"stylesheet\",\n",
       "  type: \"text/css\",\n",
       "  href: \"//cdnjs.cloudflare.com/ajax/libs/font-awesome/4.1.0/css/font-awesome.min.css\"\n",
       "}));\n",
       "$(\"head\").append($(\"<link/>\").attr({\n",
       "  rel:  \"stylesheet\",\n",
       "  type: \"text/css\",\n",
       "  href: \"https://static.turi.com/products/graphlab-create/2.1/canvas/css/canvas.css\"\n",
       "}));\n",
       "\n",
       "            (function(){\n",
       "\n",
       "                var e = null;\n",
       "                if (typeof element == 'undefined') {\n",
       "                    var scripts = document.getElementsByTagName('script');\n",
       "                    var thisScriptTag = scripts[scripts.length-1];\n",
       "                    var parentDiv = thisScriptTag.parentNode;\n",
       "                    e = document.createElement('div');\n",
       "                    parentDiv.appendChild(e);\n",
       "                } else {\n",
       "                    e = element[0];\n",
       "                }\n",
       "\n",
       "                if (typeof requirejs !== 'undefined') {\n",
       "                    // disable load timeout; ipython_app.js is large and can take a while to load.\n",
       "                    requirejs.config({waitSeconds: 0});\n",
       "                }\n",
       "\n",
       "                require(['https://static.turi.com/products/graphlab-create/2.1/canvas/js/ipython_app.js'], function(IPythonApp){\n",
       "                    var app = new IPythonApp();\n",
       "                    app.attachView('sframe','Plots', {\"selected_variable\": {\"name\": [\"all_data_frame\"], \"descriptives\": {\"rows\": 21613, \"columns\": 23}, \"view_component\": \"Plots\", \"view_file\": \"sframe\", \"view_params\": {\"y\": \"price\", \"x\": \"score\", \"columns\": [\"id\", \"date\", \"price\", \"bedrooms\", \"bathrooms\", \"sqft_living\", \"sqft_lot\", \"floors\", \"waterfront\", \"view\", \"condition\", \"grade\", \"sqft_above\", \"sqft_basement\", \"yr_built\", \"yr_renovated\", \"zipcode\", \"lat\", \"long\", \"sqft_living15\", \"sqft_lot15\", \"Yr of last reno\", \"score\"], \"view\": \"Scatter Plot\"}, \"view_components\": [\"Summary\", \"Table\", \"Bar Chart\", \"BoxWhisker Plot\", \"Line Chart\", \"Scatter Plot\", \"Heat Map\", \"Plots\"], \"type\": \"SFrame\", \"columns\": [{\"dtype\": \"int\", \"name\": \"id\"}, {\"dtype\": \"str\", \"name\": \"date\"}, {\"dtype\": \"float\", \"name\": \"price\"}, {\"dtype\": \"int\", \"name\": \"bedrooms\"}, {\"dtype\": \"float\", \"name\": \"bathrooms\"}, {\"dtype\": \"int\", \"name\": \"sqft_living\"}, {\"dtype\": \"int\", \"name\": \"sqft_lot\"}, {\"dtype\": \"float\", \"name\": \"floors\"}, {\"dtype\": \"int\", \"name\": \"waterfront\"}, {\"dtype\": \"int\", \"name\": \"view\"}, {\"dtype\": \"int\", \"name\": \"condition\"}, {\"dtype\": \"int\", \"name\": \"grade\"}, {\"dtype\": \"int\", \"name\": \"sqft_above\"}, {\"dtype\": \"int\", \"name\": \"sqft_basement\"}, {\"dtype\": \"int\", \"name\": \"yr_built\"}, {\"dtype\": \"int\", \"name\": \"yr_renovated\"}, {\"dtype\": \"int\", \"name\": \"zipcode\"}, {\"dtype\": \"float\", \"name\": \"lat\"}, {\"dtype\": \"float\", \"name\": \"long\"}, {\"dtype\": \"int\", \"name\": \"sqft_living15\"}, {\"dtype\": \"int\", \"name\": \"sqft_lot15\"}, {\"dtype\": \"int\", \"name\": \"Yr of last reno\"}, {\"dtype\": \"float\", \"name\": \"score\"}], \"column_identifiers\": [\"bathrooms\", \"sqft_above\", \"grade\", \"lat\", \"floors\", \"yr_renovated\", \"id\", \"zipcode\", \"long\", \"Yr of last reno\", \"score\", \"sqft_basement\", \"yr_built\", \"sqft_lot\", \"sqft_lot15\", \"price\", \"bedrooms\", \"date\", \"condition\", \"waterfront\", \"sqft_living15\", \"sqft_living\", \"view\"]}, \"complete\": 1, \"ipython\": true, \"progress\": 1.0, \"data\": [[12460.0, 360000.0], [14544.0, 908950.0], [8214.0, 160000.0], [15445.0, 300000.0], [13091.0, 640000.0], [12550.0, 1065000.0], [10456.0, 352500.0], [15473.0, 1120280.0], [10707.0, 507500.0], [10031.0, 360000.0], [6019.0, 279200.0], [10048.0, 433000.0], [11613.0, 349950.0], [13163.0, 527500.0], [13131.0, 720000.0], [9176.0, 280000.0], [16944.0, 963990.0], [8574.0, 478000.0], [9153.0, 475000.0], [11965.0, 319950.0], [7908.0, 184000.0], [9197.0, 385000.0], [12328.0, 640000.0], [8509.0, 217000.0], [15277.0, 862500.0], [8723.0, 438000.0], [13514.0, 399900.0], [10159.0, 382000.0], [7795.0, 207000.0], [10632.0, 625000.0], [8393.0, 241000.0], [13911.0, 705000.0], [10688.0, 268000.0], [8229.0, 365000.0], [17466.0, 870000.0], [13396.0, 302000.0], [12637.0, 620000.0], [8012.0, 450500.0], [8609.0, 240000.0], [12432.0, 471000.0], [7950.0, 335000.0], [9453.0, 350000.0], [9718.0, 210000.0], [8919.0, 249000.0], [13024.0, 315000.0], [10210.0, 362500.0], [16912.0, 929000.0], [8018.0, 245000.0], [13943.0, 533112.0], [11581.0, 335000.0], [12211.0, 290000.0], [9440.0, 345000.0], [8297.0, 224975.0], [9582.0, 450000.0], [12917.0, 779000.0], [17692.0, 600000.0], [17102.0, 1270000.0], [15416.0, 517850.0], [12585.0, 316000.0], [9449.0, 383610.0], [13484.0, 333000.0], [14310.0, 435000.0], [8860.0, 250000.0], [10589.0, 205000.0], [10888.0, 290000.0], [8511.0, 385000.0], [11709.0, 319990.0], [6763.0, 215000.0], [12086.0, 450000.0], [10324.0, 465000.0], [8616.0, 360000.0], [12352.0, 575000.0], [11258.0, 620000.0], [19652.0, 2225000.0], [16575.0, 957000.0], [11391.0, 595000.0], [13173.0, 410000.0], [7069.0, 199988.0], [9963.0, 600000.0], [15002.0, 720000.0], [11123.0, 329950.0], [8793.0, 499000.0], [10633.0, 295000.0], [12449.0, 448000.0], [12605.0, 398500.0], [12232.0, 679000.0], [12541.0, 469000.0], [13123.0, 525000.0], [9545.0, 205000.0], [16255.0, 510000.0], [10582.0, 430000.0], [13085.0, 579000.0], [9680.0, 620000.0], [14334.0, 1120000.0], [9939.0, 215000.0], [13046.0, 780000.0], [8784.0, 650000.0], [8828.0, 213950.0], [8044.0, 204995.0], [11463.0, 661000.0], [15544.0, 675000.0], [10444.0, 495800.0], [13026.0, 575000.0], [8202.0, 289000.0], [9740.0, 500007.0], [7789.0, 169000.0], [12684.0, 495000.0], [11977.0, 420000.0], [8966.0, 216000.0], [9355.0, 460000.0], [12812.0, 687500.0], [10794.0, 550000.0], [8449.0, 268500.0], [12020.0, 525000.0], [10558.0, 635000.0], [13748.0, 905000.0], [14472.0, 685000.0], [12256.0, 475000.0], [13305.0, 540000.0], [11817.0, 647500.0], [7939.0, 354000.0], [13761.0, 405000.0], [10386.0, 272000.0], [10805.0, 505000.0], [9835.0, 335000.0], [12956.0, 680000.0], [14360.0, 600000.0], [11096.0, 180500.0], [15066.0, 822500.0], [12244.0, 430000.0], [9860.0, 625000.0], [13764.0, 355000.0], [14470.0, 862000.0], [16873.0, 972000.0], [8786.0, 554000.0], [9746.0, 199000.0], [12819.0, 809950.0], [10068.0, 490000.0], [7088.0, 190000.0], [8315.0, 717000.0], [11061.0, 370000.0], [10865.0, 452000.0], [12892.0, 765000.0], [15370.0, 1955000.0], [8644.0, 380000.0], [18508.0, 2538000.0], [15184.0, 750000.0], [14194.0, 980000.0], [18168.0, 1940000.0], [13991.0, 614000.0], [9710.0, 532170.0], [9980.0, 299950.0], [17405.0, 900000.0], [7199.0, 358000.0], [10883.0, 295000.0], [7868.0, 315000.0], [10741.0, 652000.0], [11161.0, 400000.0], [13232.0, 350000.0], [12855.0, 630000.0], [7362.0, 125000.0], [11367.0, 469000.0], [10781.0, 272950.0], [9773.0, 355000.0], [10874.0, 629950.0], [12687.0, 480000.0], [15247.0, 762000.0], [9914.0, 529950.0], [13706.0, 459950.0], [10396.0, 650000.0], [11687.0, 417000.0], [13323.0, 359950.0], [9103.0, 428000.0], [9589.0, 368000.0], [9134.0, 250000.0], [11495.0, 453000.0], [12566.0, 253000.0], [12053.0, 1150000.0], [13770.0, 630000.0], [10939.0, 540000.0], [11445.0, 285000.0], [11586.0, 249950.0], [12850.0, 460000.0], [9802.0, 373000.0], [9023.0, 415000.0], [12727.0, 316000.0], [12941.0, 460000.0], [9930.0, 435000.0], [14234.0, 710000.0], [12867.0, 340000.0], [17944.0, 1049990.0], [15798.0, 1500000.0], [11408.0, 650000.0], [14716.0, 1160000.0], [8747.0, 557000.0], [11689.0, 506400.0], [9768.0, 245000.0], [11153.0, 246000.0], [8368.0, 575000.0], [12734.0, 840000.0], [10867.0, 835000.0], [9948.0, 244000.0], [13263.0, 456500.0], [17372.0, 850000.0], [11200.0, 275000.0], [8493.0, 608000.0], [10564.0, 533000.0], [8149.0, 401000.0], [12013.0, 340000.0], [10765.0, 343000.0], [9108.0, 380000.0], [7948.0, 275000.0], [9859.0, 490000.0], [14634.0, 925000.0], [12367.0, 446000.0], [15935.0, 759000.0], [11467.0, 456000.0], [6947.0, 95000.0], [13035.0, 711800.0], [12446.0, 489000.0], [13619.0, 686000.0], [16651.0, 439000.0], [9940.0, 324950.0], [6006.0, 165000.0], [12240.0, 410000.0], [9929.0, 390000.0], [15837.0, 798000.0], [10927.0, 263950.0], [11288.0, 449250.0], [12405.0, 392500.0], [7627.0, 455000.0], [9229.0, 437500.0], [10144.0, 369000.0], [17508.0, 2500000.0], [11407.0, 409000.0], [14861.0, 360500.0], [12216.0, 416000.0], [10600.0, 1100000.0], [21342.0, 1855000.0], [14522.0, 1030000.0], [15384.0, 659950.0], [9618.0, 199000.0], [14469.0, 589500.0], [18048.0, 1450000.0], [11887.0, 780000.0], [12358.0, 290000.0], [12374.0, 392000.0], [11363.0, 236000.0], [11039.0, 528000.0], [12749.0, 1027000.0], [11701.0, 589000.0], [16283.0, 971971.0], [12513.0, 525000.0], [8336.0, 278750.0], [16414.0, 475000.0], [11390.0, 537000.0], [11128.0, 625000.0], [13174.0, 959000.0], [12745.0, 337000.0], [11035.0, 412000.0], [11908.0, 555000.0], [11708.0, 310597.0], [10385.0, 549000.0], [8022.0, 239000.0], [8457.0, 335000.0], [14864.0, 689000.0], [10767.0, 420000.0], [8022.0, 400000.0], [11490.0, 375000.0], [9988.0, 263000.0], [11559.0, 446000.0], [12105.0, 600000.0], [11442.0, 420000.0], [17549.0, 472000.0], [17219.0, 810000.0], [8580.0, 130000.0], [13919.0, 330000.0], [13778.0, 365000.0], [10289.0, 275000.0], [10672.0, 338000.0], [12130.0, 660000.0], [8680.0, 205000.0], [7150.0, 427000.0], [14616.0, 725000.0], [13228.0, 330000.0], [11076.0, 358000.0], [16992.0, 1240000.0], [8852.0, 718500.0], [12264.0, 339950.0], [12809.0, 589000.0], [13304.0, 641000.0], [7868.0, 335000.0], [8702.0, 340000.0], [14116.0, 649950.0], [14636.0, 850000.0], [8463.0, 346100.0], [7648.0, 515000.0], [9408.0, 332000.0], [11019.0, 360000.0], [12131.0, 330000.0], [21302.0, 3075000.0], [7410.0, 225000.0], [8039.0, 312500.0], [13027.0, 715000.0], [9607.0, 230000.0], [11774.0, 395000.0], [9266.0, 512000.0], [10356.0, 350000.0], [13968.0, 858000.0], [11788.0, 585000.0], [10067.0, 350000.0], [9068.0, 250000.0], [18321.0, 2384000.0], [8658.0, 290000.0], [11354.0, 279000.0], [14676.0, 471835.0], [8761.0, 213500.0], [12940.0, 700000.0], [11294.0, 436800.0], [11785.0, 571000.0], [10830.0, 179000.0], [10639.0, 323000.0], [9317.0, 360000.0], [10759.0, 211000.0], [15490.0, 790000.0], [11887.0, 677000.0], [7434.0, 210000.0], [13901.0, 339000.0], [12308.0, 439000.0], [7505.0, 285000.0], [13561.0, 460000.0], [12622.0, 325000.0], [9968.0, 583500.0], [11194.0, 557800.0], [8906.0, 312000.0], [16621.0, 2500000.0], [13614.0, 559900.0], [13750.0, 550000.0], [9265.0, 365000.0], [12873.0, 459990.0], [8695.0, 716000.0], [12557.0, 429000.0], [13273.0, 674750.0], [14471.0, 469900.0], [12066.0, 294400.0], [16234.0, 922755.0], [12721.0, 605000.0], [14329.0, 739888.0], [19625.0, 1485000.0], [12418.0, 705640.0], [5637.0, 299000.0], [9696.0, 465000.0], [8695.0, 395300.0], [8887.0, 437500.0], [10216.0, 450000.0], [14060.0, 749000.0], [11005.0, 300000.0], [9964.0, 239950.0], [13385.0, 630000.0], [6942.0, 353500.0], [12474.0, 705000.0], [11630.0, 455000.0], [13824.0, 499950.0], [16885.0, 1600000.0], [11656.0, 530000.0], [10881.0, 545000.0], [13928.0, 504600.0], [14371.0, 651000.0], [7381.0, 324000.0], [7764.0, 302000.0], [11294.0, 593000.0], [14026.0, 385000.0], [16437.0, 600000.0], [11115.0, 540000.0], [10893.0, 580000.0], [8168.0, 259000.0], [15880.0, 484000.0], [12090.0, 700000.0], [13198.0, 359950.0], [13358.0, 350000.0], [13994.0, 719000.0], [12998.0, 490500.0], [9898.0, 279900.0], [8274.0, 225000.0], [12107.0, 799000.0], [11567.0, 910000.0], [11510.0, 860000.0], [13319.0, 912000.0], [11470.0, 450000.0], [11134.0, 385000.0], [10022.0, 437500.0], [12445.0, 445000.0], [10705.0, 330000.0], [11244.0, 289950.0], [12487.0, 831000.0], [11345.0, 266950.0], [12867.0, 260000.0], [11298.0, 430000.0], [11831.0, 378750.0], [14216.0, 560000.0], [7583.0, 199000.0], [12039.0, 770000.0], [9773.0, 475580.0], [13067.0, 535000.0], [13308.0, 592500.0], [13228.0, 328950.0], [11115.0, 447500.0], [13734.0, 518380.0], [9458.0, 199950.0], [14242.0, 1306000.0], [8676.0, 355000.0], [10898.0, 575000.0], [18934.0, 3000000.0], [11071.0, 506000.0], [10396.0, 265000.0], [12516.0, 500000.0], [12673.0, 400000.0], [13018.0, 754000.0], [20059.0, 1830000.0], [20243.0, 1062500.0], [10990.0, 245000.0], [12674.0, 349900.0], [8946.0, 658000.0], [8921.0, 375000.0], [9187.0, 467000.0], [12711.0, 815000.0], [17005.0, 1160000.0], [13761.0, 269950.0], [22244.0, 1240420.0], [12846.0, 600000.0], [14548.0, 555000.0], [10545.0, 550000.0], [14807.0, 599000.0], [14757.0, 715000.0], [11125.0, 600000.0], [7977.0, 166000.0], [13527.0, 460000.0], [8389.0, 403000.0], [8940.0, 438000.0], [13227.0, 695000.0], [10547.0, 499950.0], [10997.0, 375000.0], [8234.0, 163500.0], [10748.0, 327000.0], [8700.0, 257500.0], [8871.0, 502000.0], [12187.0, 667000.0], [13262.0, 515000.0], [13355.0, 475000.0], [16004.0, 570000.0], [13437.0, 900000.0], [10687.0, 430000.0], [9463.0, 462500.0], [9482.0, 444950.0], [13497.0, 486000.0], [10793.0, 430000.0], [14498.0, 760000.0], [15928.0, 1405000.0], [11705.0, 350000.0], [9926.0, 234550.0], [8359.0, 150000.0], [9887.0, 540000.0], [23428.0, 1300000.0], [12618.0, 359500.0], [17303.0, 1220000.0], [13015.0, 270000.0], [9664.0, 465000.0], [7365.0, 363000.0], [12114.0, 461000.0], [9813.0, 335000.0], [12774.0, 350000.0], [14384.0, 515805.0], [11606.0, 735000.0], [17494.0, 655000.0], [13926.0, 499000.0], [8598.0, 699999.0], [11525.0, 460000.0], [16368.0, 795000.0], [12999.0, 545000.0], [14080.0, 930000.0], [11501.0, 410000.0], [11844.0, 272000.0], [14353.0, 849950.0], [8881.0, 345000.0], [11461.0, 392500.0], [9490.0, 524000.0], [13708.0, 499950.0], [8975.0, 212000.0], [9042.0, 370000.0], [7124.0, 415000.0], [11495.0, 355300.0], [11591.0, 245000.0], [12174.0, 637800.0], [8019.0, 165000.0], [16227.0, 495000.0], [10440.0, 935000.0], [12797.0, 605000.0], [12688.0, 571000.0], [8239.0, 370000.0], [15272.0, 594950.0], [12886.0, 459000.0], [13413.0, 731500.0], [12173.0, 345000.0], [14048.0, 335500.0], [17424.0, 1375000.0], [12483.0, 634000.0], [11542.0, 424240.0], [12338.0, 615000.0], [9895.0, 375000.0], [17416.0, 1485000.0], [12223.0, 580000.0], [12338.0, 275000.0], [9636.0, 390000.0], [8311.0, 425000.0], [14709.0, 1200000.0], [13952.0, 766950.0], [8665.0, 355000.0], [9047.0, 440000.0], [10934.0, 250000.0], [16370.0, 920000.0], [10949.0, 690000.0], [18950.0, 630000.0], [12382.0, 625000.0], [14552.0, 609000.0], [10964.0, 280000.0], [15226.0, 575000.0], [10894.0, 349950.0], [8891.0, 115000.0], [14274.0, 550000.0], [8709.0, 255000.0], [11038.0, 270500.0], [10504.0, 524950.0], [9844.0, 475000.0], [8882.0, 160000.0], [15142.0, 315000.0], [14098.0, 577288.0], [14461.0, 740000.0], [16595.0, 627000.0], [13009.0, 470950.0], [11512.0, 595000.0], [9970.0, 240000.0], [15787.0, 1580000.0], [11331.0, 291000.0], [10175.0, 220000.0], [14129.0, 465000.0], [12759.0, 250000.0], [7482.0, 230000.0], [9477.0, 390000.0], [13329.0, 315000.0], [11347.0, 275000.0], [16428.0, 1582500.0], [10878.0, 299500.0], [10290.0, 243000.0], [13242.0, 267345.0], [14461.0, 510000.0], [11376.0, 565000.0], [16589.0, 568450.0], [12959.0, 415000.0], [11624.0, 299999.0], [9607.0, 349500.0], [10086.0, 515000.0], [12912.0, 404950.0], [13254.0, 880000.0], [12933.0, 421000.0], [11981.0, 500000.0], [7167.0, 85000.0], [10514.0, 476000.0], [6749.0, 84000.0], [8267.0, 610000.0], [16344.0, 1139990.0], [9058.0, 240000.0], [16004.0, 720000.0], [7324.0, 150000.0], [11412.0, 160000.0], [8347.0, 277700.0], [9956.0, 289900.0], [7778.0, 452000.0], [9974.0, 459000.0], [14262.0, 400000.0], [15225.0, 804000.0], [10771.0, 475000.0], [12495.0, 375000.0], [7852.0, 344000.0], [8388.0, 549000.0], [11023.0, 261490.0], [13115.0, 470000.0], [9690.0, 560000.0], [12318.0, 610000.0], [11168.0, 700000.0], [10784.0, 615000.0], [12329.0, 475000.0], [15937.0, 800000.0], [14518.0, 630000.0], [11666.0, 296000.0], [11776.0, 360000.0], [9667.0, 240500.0], [11335.0, 445000.0], [11392.0, 742500.0], [11604.0, 235000.0], [10809.0, 402000.0], [28737.0, 640000.0], [12826.0, 665000.0], [10204.0, 159075.0], [9838.0, 445000.0], [17284.0, 2271150.0], [12215.0, 242550.0], [13427.0, 635000.0], [12249.0, 615000.0], [15165.0, 634800.0], [10567.0, 450000.0], [12651.0, 635000.0], [11062.0, 449950.0], [11750.0, 533600.0], [13075.0, 549000.0], [10753.0, 440000.0], [12194.0, 462000.0], [8263.0, 255000.0], [12527.0, 325000.0], [9552.0, 307000.0], [9551.0, 215000.0], [15918.0, 1050000.0], [11851.0, 1234570.0], [12464.0, 470000.0], [13149.0, 536000.0], [16781.0, 645000.0], [9775.0, 449500.0], [11302.0, 500000.0], [15524.0, 580000.0], [9208.0, 345000.0], [12926.0, 525000.0], [10499.0, 371000.0], [10204.0, 450000.0], [12048.0, 309000.0], [10673.0, 545000.0], [15087.0, 435000.0], [9674.0, 372000.0], [6536.0, 285000.0], [11128.0, 390000.0], [13369.0, 672000.0], [11909.0, 330000.0], [13547.0, 740000.0], [8751.0, 403000.0], [8254.0, 435000.0], [10410.0, 230000.0], [12223.0, 430000.0], [12189.0, 398000.0], [17623.0, 915000.0], [23859.0, 2400000.0], [14095.0, 405000.0], [15879.0, 1150000.0], [14142.0, 887000.0], [5682.0, 170000.0], [8761.0, 265000.0], [10506.0, 197000.0], [22007.0, 3567000.0], [11511.0, 555000.0], [25050.0, 1900000.0], [13832.0, 749950.0], [7338.0, 598800.0], [10423.0, 200000.0], [9016.0, 269900.0], [10193.0, 285000.0], [9190.0, 612125.0], [11985.0, 549000.0], [8169.0, 536000.0], [7147.0, 310000.0], [8414.0, 397500.0], [11161.0, 465000.0], [8628.0, 218250.0], [10314.0, 274000.0], [9984.0, 224000.0], [11840.0, 435000.0], [10713.0, 410000.0], [8456.0, 234900.0], [11763.0, 400000.0], [12933.0, 430000.0], [13853.0, 822000.0], [14093.0, 594491.0], [13403.0, 482000.0], [22365.0, 2700000.0], [9925.0, 243000.0], [11554.0, 204250.0], [16076.0, 920000.0], [12079.0, 647500.0], [13302.0, 332000.0], [13192.0, 612500.0], [13151.0, 710000.0], [10534.0, 322400.0], [7695.0, 193500.0], [8967.0, 396000.0], [6789.0, 179000.0], [10552.0, 406500.0], [9127.0, 295000.0], [14715.0, 733000.0], [12265.0, 750000.0], [12960.0, 300000.0], [10875.0, 515000.0], [10191.0, 613000.0], [7151.0, 370000.0], [10827.0, 290000.0], [12249.0, 324950.0], [17324.0, 897500.0], [8310.0, 507000.0], [14133.0, 314000.0], [9718.0, 435000.0], [11405.0, 456500.0], [11798.0, 405000.0], [9970.0, 255000.0], [12550.0, 450000.0], [13911.0, 525000.0], [16900.0, 460000.0], [8520.0, 345000.0], [11897.0, 270000.0], [22248.0, 935000.0], [10940.0, 603500.0], [9335.0, 636000.0], [11555.0, 315000.0], [7818.0, 442000.0], [14360.0, 730000.0], [8127.0, 510000.0], [19966.0, 809000.0], [12746.0, 675000.0], [17865.0, 935000.0], [15055.0, 878000.0], [14176.0, 569900.0], [10181.0, 263500.0], [9408.0, 210000.0], [8360.0, 324950.0], [11497.0, 313000.0], [15057.0, 1900000.0], [11532.0, 249000.0], [19201.0, 1075000.0], [11178.0, 499000.0], [7267.0, 275000.0], [6923.0, 418500.0], [11390.0, 588500.0], [12177.0, 1400000.0], [9183.0, 245000.0], [13374.0, 780000.0], [12184.0, 345000.0], [11194.0, 491234.0], [11058.0, 620000.0], [11511.0, 359950.0], [13129.0, 395000.0], [7504.0, 390000.0], [13599.0, 1050000.0], [11023.0, 410000.0], [8997.0, 512000.0], [11376.0, 596500.0], [7844.0, 333000.0], [15247.0, 1100000.0], [13237.0, 635000.0], [7566.0, 205000.0], [6980.0, 320000.0], [16638.0, 813000.0], [11049.0, 285000.0], [9926.0, 305000.0], [18028.0, 1125000.0], [7578.0, 349950.0], [12082.0, 445000.0], [12065.0, 618000.0], [10269.0, 380000.0], [9797.0, 330000.0], [13815.0, 374950.0], [10929.0, 460000.0], [12544.0, 472000.0], [13191.0, 824000.0], [10322.0, 665000.0], [10815.0, 455000.0], [10379.0, 707000.0], [11534.0, 550000.0], [12903.0, 450000.0], [12393.0, 299000.0], [10983.0, 525000.0], [17314.0, 915557.0], [12089.0, 375000.0], [6924.0, 200000.0], [18287.0, 609000.0], [10499.0, 484000.0], [11316.0, 300000.0], [8708.0, 397990.0], [10509.0, 220000.0], [12601.0, 585000.0], [8499.0, 215000.0], [7074.0, 190000.0], [12176.0, 218000.0], [11629.0, 370000.0], [6893.0, 269000.0], [11466.0, 562000.0], [11525.0, 300000.0], [14685.0, 580000.0], [9524.0, 519000.0], [12423.0, 418800.0], [16506.0, 1030000.0], [10829.0, 445000.0], [11594.0, 570000.0], [11088.0, 425000.0], [17594.0, 895900.0], [11699.0, 470000.0], [15026.0, 1475000.0], [19302.0, 1242000.0], [13551.0, 756000.0], [8296.0, 462550.0], [18215.0, 1100000.0], [11427.0, 699000.0], [13727.0, 375000.0], [15214.0, 845000.0], [10347.0, 450000.0], [11181.0, 300000.0], [8617.0, 410000.0], [11697.0, 257500.0], [10909.0, 510000.0], [7024.0, 229950.0], [16267.0, 865000.0], [9796.0, 400000.0], [8869.0, 306000.0], [18219.0, 810000.0], [12513.0, 382500.0], [7501.0, 415000.0], [17426.0, 833000.0], [9312.0, 325000.0], [13413.0, 705000.0], [13824.0, 650000.0], [9937.0, 399500.0], [10654.0, 479950.0], [9107.0, 225800.0], [9537.0, 375000.0], [9769.0, 640500.0], [13381.0, 739000.0], [17001.0, 771150.0], [12828.0, 540000.0], [11809.0, 455000.0], [14624.0, 429900.0], [14637.0, 898000.0], [8338.0, 215000.0], [8205.0, 230000.0], [8838.0, 255000.0], [9692.0, 460000.0], [12616.0, 419950.0], [15898.0, 850000.0], [6952.0, 252000.0], [8667.0, 320000.0], [21416.0, 950000.0], [11104.0, 589950.0], [14544.0, 748000.0], [10902.0, 352000.0], [13370.0, 499160.0], [12861.0, 699000.0], [12333.0, 327000.0], [13598.0, 730000.0], [11195.0, 245000.0], [9787.0, 575000.0], [8609.0, 320000.0], [11348.0, 540000.0], [10757.0, 227490.0], [11999.0, 1150000.0], [14294.0, 620000.0], [15787.0, 400000.0], [8182.0, 210000.0], [12097.0, 279000.0], [10253.0, 270000.0], [13877.0, 1000750.0], [8572.0, 255000.0], [13470.0, 910000.0], [12299.0, 325500.0], [11365.0, 439990.0], [14723.0, 2260000.0], [7917.0, 260000.0], [14232.0, 465000.0], [17773.0, 925000.0], [12357.0, 587450.0], [11403.0, 560000.0], [7551.0, 310000.0], [17535.0, 1850000.0], [7020.0, 480000.0], [8688.0, 355000.0], [8567.0, 290000.0], [12369.0, 375000.0], [10306.0, 415000.0], [14043.0, 805000.0], [11056.0, 200000.0], [11711.0, 385000.0], [11387.0, 450000.0], [10274.0, 653500.0], [17638.0, 1150000.0], [15052.0, 1270000.0], [7869.0, 325000.0], [13478.0, 450000.0], [9136.0, 374000.0], [13530.0, 436952.0], [12038.0, 585000.0], [10041.0, 445700.0], [15612.0, 495000.0], [8447.0, 160000.0], [16114.0, 998000.0], [13352.0, 250000.0], [11936.0, 380000.0], [13413.0, 702000.0], [16094.0, 799000.0], [9768.0, 275000.0], [7368.0, 237000.0], [13233.0, 800000.0], [8828.0, 459000.0], [10924.0, 295000.0], [8139.0, 397000.0], [10915.0, 350000.0], [16467.0, 770000.0], [7161.0, 405000.0], [13810.0, 525888.0], [7987.0, 340895.0], [7943.0, 303000.0], [6897.0, 146000.0], [10806.0, 405000.0], [11118.0, 567000.0], [10449.0, 316500.0], [9811.0, 426000.0], [10471.0, 175000.0], [10781.0, 337000.0], [13758.0, 680000.0], [10871.0, 475000.0], [15614.0, 363000.0], [16423.0, 540000.0], [7488.0, 365000.0], [11119.0, 283748.0], [16059.0, 890000.0], [14949.0, 757500.0], [13961.0, 565000.0], [10666.0, 579000.0], [8667.0, 194820.0], [13820.0, 666500.0], [11010.0, 500000.0], [9029.0, 309212.0], [9724.0, 469000.0], [10145.0, 355000.0], [13422.0, 691000.0], [11564.0, 496800.0], [8001.0, 306000.0], [17283.0, 439900.0], [9261.0, 235000.0], [8644.0, 405000.0], [7281.0, 261000.0], [9635.0, 350000.0], [12175.0, 505000.0], [13876.0, 364900.0], [13159.0, 369000.0], [10945.0, 280000.0], [8959.0, 281000.0], [13215.0, 270000.0], [21081.0, 1300000.0], [9006.0, 577500.0], [10689.0, 250000.0], [7795.0, 418000.0], [10883.0, 479000.0], [9617.0, 325000.0], [11516.0, 400000.0], [18130.0, 3400000.0], [10208.0, 349000.0], [11313.0, 323000.0], [13429.0, 835000.0], [12926.0, 410000.0], [8039.0, 217450.0], [12666.0, 530000.0], [11112.0, 513000.0], [13628.0, 488000.0], [12540.0, 781000.0], [10726.0, 329000.0], [12944.0, 229950.0], [16526.0, 750000.0], [17127.0, 715000.0], [11086.0, 423000.0], [13413.0, 330000.0], [11818.0, 365000.0], [12603.0, 600000.0], [10984.0, 364500.0], [11240.0, 525000.0], [14326.0, 610000.0], [10026.0, 675000.0], [14568.0, 695000.0], [11374.0, 550000.0], [11132.0, 543000.0], [11427.0, 280000.0], [12487.0, 686000.0], [12337.0, 900000.0], [10461.0, 315000.0], [9145.0, 379950.0], [10474.0, 289000.0], [13321.0, 549000.0], [12523.0, 335000.0], [13089.0, 454000.0], [12109.0, 355000.0], [8517.0, 250000.0], [13970.0, 750000.0], [8026.0, 500000.0], [15404.0, 1033890.0], [13058.0, 352500.0], [11140.0, 257000.0], [11626.0, 567000.0], [9907.0, 503000.0], [11214.0, 445000.0], [10646.0, 440000.0]], \"columns\": [{\"dtype\": \"int\", \"name\": \"id\"}, {\"dtype\": \"str\", \"name\": \"date\"}, {\"dtype\": \"float\", \"name\": \"price\"}, {\"dtype\": \"int\", \"name\": \"bedrooms\"}, {\"dtype\": \"float\", \"name\": \"bathrooms\"}, {\"dtype\": \"int\", \"name\": \"sqft_living\"}, {\"dtype\": \"int\", \"name\": \"sqft_lot\"}, {\"dtype\": \"float\", \"name\": \"floors\"}, {\"dtype\": \"int\", \"name\": \"waterfront\"}, {\"dtype\": \"int\", \"name\": \"view\"}, {\"dtype\": \"int\", \"name\": \"condition\"}, {\"dtype\": \"int\", \"name\": \"grade\"}, {\"dtype\": \"int\", \"name\": \"sqft_above\"}, {\"dtype\": \"int\", \"name\": \"sqft_basement\"}, {\"dtype\": \"int\", \"name\": \"yr_built\"}, {\"dtype\": \"int\", \"name\": \"yr_renovated\"}, {\"dtype\": \"int\", \"name\": \"zipcode\"}, {\"dtype\": \"float\", \"name\": \"lat\"}, {\"dtype\": \"float\", \"name\": \"long\"}, {\"dtype\": \"int\", \"name\": \"sqft_living15\"}, {\"dtype\": \"int\", \"name\": \"sqft_lot15\"}, {\"dtype\": \"int\", \"name\": \"Yr of last reno\"}, {\"dtype\": \"float\", \"name\": \"score\"}]}, e);\n",
       "                });\n",
       "            })();\n",
       "        "
      ]
     },
     "metadata": {},
     "output_type": "display_data"
    },
    {
     "data": {
      "text/html": [
       "<pre>Linear regression:</pre>"
      ],
      "text/plain": [
       "Linear regression:"
      ]
     },
     "metadata": {},
     "output_type": "display_data"
    },
    {
     "data": {
      "text/html": [
       "<pre>--------------------------------------------------------</pre>"
      ],
      "text/plain": [
       "--------------------------------------------------------"
      ]
     },
     "metadata": {},
     "output_type": "display_data"
    },
    {
     "data": {
      "text/html": [
       "<pre>Number of examples          : 17384</pre>"
      ],
      "text/plain": [
       "Number of examples          : 17384"
      ]
     },
     "metadata": {},
     "output_type": "display_data"
    },
    {
     "data": {
      "text/html": [
       "<pre>Number of features          : 1</pre>"
      ],
      "text/plain": [
       "Number of features          : 1"
      ]
     },
     "metadata": {},
     "output_type": "display_data"
    },
    {
     "data": {
      "text/html": [
       "<pre>Number of unpacked features : 1</pre>"
      ],
      "text/plain": [
       "Number of unpacked features : 1"
      ]
     },
     "metadata": {},
     "output_type": "display_data"
    },
    {
     "data": {
      "text/html": [
       "<pre>Number of coefficients    : 2</pre>"
      ],
      "text/plain": [
       "Number of coefficients    : 2"
      ]
     },
     "metadata": {},
     "output_type": "display_data"
    },
    {
     "data": {
      "text/html": [
       "<pre>Starting Newton Method</pre>"
      ],
      "text/plain": [
       "Starting Newton Method"
      ]
     },
     "metadata": {},
     "output_type": "display_data"
    },
    {
     "data": {
      "text/html": [
       "<pre>--------------------------------------------------------</pre>"
      ],
      "text/plain": [
       "--------------------------------------------------------"
      ]
     },
     "metadata": {},
     "output_type": "display_data"
    },
    {
     "data": {
      "text/html": [
       "<pre>+-----------+----------+--------------+--------------------+---------------+</pre>"
      ],
      "text/plain": [
       "+-----------+----------+--------------+--------------------+---------------+"
      ]
     },
     "metadata": {},
     "output_type": "display_data"
    },
    {
     "data": {
      "text/html": [
       "<pre>| Iteration | Passes   | Elapsed Time | Training-max_error | Training-rmse |</pre>"
      ],
      "text/plain": [
       "| Iteration | Passes   | Elapsed Time | Training-max_error | Training-rmse |"
      ]
     },
     "metadata": {},
     "output_type": "display_data"
    },
    {
     "data": {
      "text/html": [
       "<pre>+-----------+----------+--------------+--------------------+---------------+</pre>"
      ],
      "text/plain": [
       "+-----------+----------+--------------+--------------------+---------------+"
      ]
     },
     "metadata": {},
     "output_type": "display_data"
    },
    {
     "data": {
      "text/html": [
       "<pre>| 1         | 2        | 0.016902     | 4819111.699438     | 270430.061012 |</pre>"
      ],
      "text/plain": [
       "| 1         | 2        | 0.016902     | 4819111.699438     | 270430.061012 |"
      ]
     },
     "metadata": {},
     "output_type": "display_data"
    },
    {
     "data": {
      "text/html": [
       "<pre>+-----------+----------+--------------+--------------------+---------------+</pre>"
      ],
      "text/plain": [
       "+-----------+----------+--------------+--------------------+---------------+"
      ]
     },
     "metadata": {},
     "output_type": "display_data"
    },
    {
     "name": "stdout",
     "output_type": "stream",
     "text": [
      "270430.061012\n"
     ]
    },
    {
     "data": {
      "text/html": [
       "<pre>SUCCESS: Optimal solution found.</pre>"
      ],
      "text/plain": [
       "SUCCESS: Optimal solution found."
      ]
     },
     "metadata": {},
     "output_type": "display_data"
    },
    {
     "data": {
      "text/html": [
       "<pre></pre>"
      ],
      "text/plain": []
     },
     "metadata": {},
     "output_type": "display_data"
    },
    {
     "name": "stdout",
     "output_type": "stream",
     "text": [
      "{'max_error': 4268225.061822373, 'rmse': 260702.82443742504}\n",
      "269900.0\n",
      "[539366.6279337317]\n",
      "[180000.0]\n",
      "[539366.6279337317]\n",
      "[610685.0]\n",
      "[539366.6279337317]\n"
     ]
    }
   ],
   "source": [
    "#testing something funny\n",
    "all_data_frame['score'] = all_data_frame.apply(lambda x: x['bedrooms'] * 600 + x['bathrooms'] * 1000 + 2 * x['sqft_living'] \n",
    "+ x['Yr of last reno'] + x['condition'] * 400 + x['view'] * 400)\n",
    "all_data_frame.show(view=\"Scatter Plot\", x=\"score\", y=\"price\")\n",
    "train_data,test_data = all_data_frame.random_split(.8,seed=0)\n",
    "score_linear_model = graphlab.linear_regression.create(train_data, target='price', features=['score'],validation_set=None)\n",
    "print score_linear_model.training_rmse\n",
    "print score_linear_model.evaluate(test_data)\n",
    "score_linear_model.get('coefficients')\n",
    "print house_sqft_1['price']\n",
    "print score_linear_model.predict(house_sqft_1)\n",
    "print house1['price']\n",
    "print score_linear_model.predict(house1)\n",
    "print house2['price']\n",
    "print score_linear_model.predict(house2)"
   ]
  },
  {
   "cell_type": "code",
   "execution_count": 21,
   "metadata": {
    "collapsed": false
   },
   "outputs": [
    {
     "name": "stdout",
     "output_type": "stream",
     "text": [
      "[180000.0]\n",
      "[610685.0]\n",
      "LINEAR sqft\n",
      "{'max_error': 4143550.874517013, 'rmse': 255191.02748709585}\n",
      "[169993.52227788075]\n",
      "[663419.7619279834]\n",
      "LINEAR feature\n",
      "{'max_error': 3794194.752633823, 'rmse': 247129.0054770335}\n",
      "[153003.20344952238]\n",
      "[654005.5827954549]\n"
     ]
    }
   ],
   "source": [
    "print house1['price']\n",
    "print house2['price']\n",
    "\n",
    "print \"LINEAR sqft\"\n",
    "\n",
    "print sqft_linear_model.evaluate(test_data)\n",
    "print sqft_linear_model.predict(house1)\n",
    "print sqft_linear_model.predict(house2)\n",
    "\n",
    "print \"LINEAR feature\"\n",
    "\n",
    "print features_linear_model.evaluate(test_data)\n",
    "print features_linear_model.predict(house1)\n",
    "print features_linear_model.predict(house2)\n"
   ]
  },
  {
   "cell_type": "code",
   "execution_count": null,
   "metadata": {
    "collapsed": true
   },
   "outputs": [],
   "source": []
  }
 ],
 "metadata": {
  "kernelspec": {
   "display_name": "Python 2",
   "language": "python",
   "name": "python2"
  },
  "language_info": {
   "codemirror_mode": {
    "name": "ipython",
    "version": 2
   },
   "file_extension": ".py",
   "mimetype": "text/x-python",
   "name": "python",
   "nbconvert_exporter": "python",
   "pygments_lexer": "ipython2",
   "version": "2.7.11"
  }
 },
 "nbformat": 4,
 "nbformat_minor": 1
}
